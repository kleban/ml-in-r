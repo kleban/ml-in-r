{
 "cells": [
  {
   "cell_type": "markdown",
   "id": "856d569a-db72-4496-9448-fbe35ff7c627",
   "metadata": {},
   "source": [
    "---\n",
    "title: \"ggplot2 demo\"\n",
    "author: \"Norah Jones\"\n",
    "date: \"5/22/2021\"\n",
    "format: \n",
    "  html:\n",
    "    code-fold: true\n",
    "---"
   ]
  },
  {
   "cell_type": "markdown",
   "id": "8fdc8a43-f9fb-426c-9275-374d0e3868f1",
   "metadata": {},
   "source": [
    "> Описовий текст"
   ]
  },
  {
   "cell_type": "markdown",
   "id": "6fa179c0-0e16-4e27-880f-6fa9a0242d20",
   "metadata": {},
   "source": [
    "## Jupyter with R"
   ]
  },
  {
   "cell_type": "code",
   "execution_count": null,
   "id": "3c328c0f-3f08-4116-b711-b9aef04aa48b",
   "metadata": {},
   "outputs": [],
   "source": []
  },
  {
   "cell_type": "markdown",
   "id": "91167f77-105b-4072-9bec-6e0685d4d5dd",
   "metadata": {},
   "source": []
  }
 ],
 "metadata": {
  "kernelspec": {
   "display_name": "R",
   "language": "R",
   "name": "ir"
  },
  "language_info": {
   "codemirror_mode": "r",
   "file_extension": ".r",
   "mimetype": "text/x-r-source",
   "name": "R",
   "pygments_lexer": "r",
   "version": "4.1.3"
  }
 },
 "nbformat": 4,
 "nbformat_minor": 5
}
