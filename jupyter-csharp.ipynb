{
 "cells": [
  {
   "cell_type": "markdown",
   "id": "856d569a-db72-4496-9448-fbe35ff7c627",
   "metadata": {},
   "source": [
    "---\n",
    "title: \"C# Title\"\n",
    "author: \"Norah Jones\"\n",
    "date: \"5/22/2021\"\n",
    "description: | \n",
    "    Note that the target file (in this case document.qmd) should always be the very first command line argument.\n",
    "\n",
    "format: \n",
    "  html:\n",
    "    code-fold: true\n",
    "---"
   ]
  },
  {
   "cell_type": "markdown",
   "id": "8fdc8a43-f9fb-426c-9275-374d0e3868f1",
   "metadata": {},
   "source": [
    "> Описовий текст"
   ]
  },
  {
   "cell_type": "markdown",
   "id": "6fa179c0-0e16-4e27-880f-6fa9a0242d20",
   "metadata": {},
   "source": [
    "## Jupyter with C#"
   ]
  },
  {
   "cell_type": "code",
   "execution_count": 7,
   "id": "3c328c0f-3f08-4116-b711-b9aef04aa48b",
   "metadata": {
    "tags": []
   },
   "outputs": [
    {
     "name": "stdout",
     "output_type": "stream",
     "text": [
      "965186926\n"
     ]
    }
   ],
   "source": [
    "int a = 10 + new Random().Next();\n",
    "Console.WriteLine(a);"
   ]
  },
  {
   "cell_type": "markdown",
   "id": "91167f77-105b-4072-9bec-6e0685d4d5dd",
   "metadata": {},
   "source": [
    "```csharp\n",
    "int a = 10;\n",
    "display(a)\n",
    "```"
   ]
  }
 ],
 "metadata": {
  "kernelspec": {
   "display_name": ".NET (C#)",
   "language": "C#",
   "name": ".net-csharp"
  },
  "language_info": {
   "file_extension": ".cs",
   "mimetype": "text/x-csharp",
   "name": "C#",
   "pygments_lexer": "csharp",
   "version": "9.0"
  }
 },
 "nbformat": 4,
 "nbformat_minor": 5
}
