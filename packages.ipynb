{
 "cells": [
  {
   "cell_type": "markdown",
   "id": "5be57fbe-ed96-4c00-8c5d-6fa837e75733",
   "metadata": {},
   "source": [
    "# Packages"
   ]
  },
  {
   "cell_type": "markdown",
   "id": "c423bba4-0c93-4e85-a749-1d98a1c23d0b",
   "metadata": {},
   "source": [
    "### TinyText"
   ]
  },
  {
   "cell_type": "code",
   "execution_count": 15,
   "id": "8de701ab-21b5-4599-98f3-9629e6ec74b6",
   "metadata": {},
   "outputs": [],
   "source": [
    "# remotes::install_github('rstudio/tinytex')"
   ]
  },
  {
   "cell_type": "code",
   "execution_count": 14,
   "id": "fee14592-c89f-4181-aec8-4b3b9236f65a",
   "metadata": {},
   "outputs": [],
   "source": [
    "# update.packages(ask = FALSE, checkBuilt = TRUE)"
   ]
  },
  {
   "cell_type": "code",
   "execution_count": 16,
   "id": "db8b2437-5e06-49e5-878b-df5e99f6fef5",
   "metadata": {},
   "outputs": [
    {
     "name": "stderr",
     "output_type": "stream",
     "text": [
      "tlmgr update --all --self\n",
      "\n"
     ]
    }
   ],
   "source": [
    "tinytex::tlmgr_update()"
   ]
  },
  {
   "cell_type": "code",
   "execution_count": 18,
   "id": "286bf5d4-0ab5-455f-a028-4cfa0990e0cf",
   "metadata": {},
   "outputs": [],
   "source": [
    "tinytex::install_tinytex(force = T)"
   ]
  },
  {
   "cell_type": "code",
   "execution_count": 20,
   "id": "087231f2-3d07-46e1-9558-405aa1fd59c2",
   "metadata": {},
   "outputs": [],
   "source": [
    "options(tinytex.verbose = TRUE)"
   ]
  },
  {
   "cell_type": "code",
   "execution_count": 23,
   "id": "38c86fba-5ef2-4f8b-b0a4-42b272ea6180",
   "metadata": {},
   "outputs": [
    {
     "data": {
      "text/html": [
       "<strong>pdflatex:</strong> 'C:\\\\Users\\\\yura\\\\AppData\\\\Roaming\\\\TinyTeX\\\\bin\\\\win32\\\\pdflatex.exe'"
      ],
      "text/latex": [
       "\\textbf{pdflatex:} 'C:\\textbackslash{}\\textbackslash{}Users\\textbackslash{}\\textbackslash{}yura\\textbackslash{}\\textbackslash{}AppData\\textbackslash{}\\textbackslash{}Roaming\\textbackslash{}\\textbackslash{}TinyTeX\\textbackslash{}\\textbackslash{}bin\\textbackslash{}\\textbackslash{}win32\\textbackslash{}\\textbackslash{}pdflatex.exe'"
      ],
      "text/markdown": [
       "**pdflatex:** 'C:\\\\Users\\\\yura\\\\AppData\\\\Roaming\\\\TinyTeX\\\\bin\\\\win32\\\\pdflatex.exe'"
      ],
      "text/plain": [
       "                                                              pdflatex \n",
       "\"C:\\\\Users\\\\yura\\\\AppData\\\\Roaming\\\\TinyTeX\\\\bin\\\\win32\\\\pdflatex.exe\" "
      ]
     },
     "metadata": {},
     "output_type": "display_data"
    }
   ],
   "source": [
    "Sys.which('pdflatex')"
   ]
  },
  {
   "cell_type": "code",
   "execution_count": 25,
   "id": "c388caa4-f812-450f-88c4-5225c3b29ea6",
   "metadata": {},
   "outputs": [],
   "source": [
    "system2('pdflatex', '--version')"
   ]
  },
  {
   "cell_type": "code",
   "execution_count": 27,
   "id": "2885625a-fa1a-4815-892c-263ad52f2caa",
   "metadata": {},
   "outputs": [
    {
     "name": "stderr",
     "output_type": "stream",
     "text": [
      "tlmgr search --file --global \"/scrreprt.cls\"\n",
      "\n"
     ]
    }
   ],
   "source": [
    "tinytex::tlmgr_search(\"/scrreprt.cls\")"
   ]
  },
  {
   "cell_type": "code",
   "execution_count": 28,
   "id": "e1daac2b-4a66-46bd-a135-40e440ec7403",
   "metadata": {},
   "outputs": [
    {
     "ename": "ERROR",
     "evalue": "Error in parse(text = x, srcfile = src): <text>:1:7: unexpected symbol\n1: tlmgr install\n          ^\n",
     "output_type": "error",
     "traceback": [
      "Error in parse(text = x, srcfile = src): <text>:1:7: unexpected symbol\n1: tlmgr install\n          ^\nTraceback:\n"
     ]
    }
   ],
   "source": []
  }
 ],
 "metadata": {
  "kernelspec": {
   "display_name": "R",
   "language": "R",
   "name": "ir"
  },
  "language_info": {
   "codemirror_mode": "r",
   "file_extension": ".r",
   "mimetype": "text/x-r-source",
   "name": "R",
   "pygments_lexer": "r",
   "version": "4.1.3"
  }
 },
 "nbformat": 4,
 "nbformat_minor": 5
}
