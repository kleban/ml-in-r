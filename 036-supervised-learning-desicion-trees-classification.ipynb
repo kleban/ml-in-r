{
 "cells": [
  {
   "cell_type": "markdown",
   "id": "0c01fab4",
   "metadata": {},
   "source": [
    "# Дерева рішень. Класифікація. Депозити"
   ]
  },
  {
   "cell_type": "markdown",
   "id": "c7fd077a-4047-4ecf-a05b-6e80a2c99cb7",
   "metadata": {},
   "source": [
    "Курс: \"Математичне моделювання в R\""
   ]
  },
  {
   "cell_type": "markdown",
   "id": "4a9a7f35",
   "metadata": {},
   "source": [
    "---"
   ]
  },
  {
   "cell_type": "markdown",
   "id": "33ed0eac",
   "metadata": {},
   "source": [
    "У даній частині навчального процесу потрібно побудувати математичні моделі класифікації клієнтів на основі алгоритму дерева рішень та перевірити їх на тестовій вибірці."
   ]
  },
  {
   "cell_type": "code",
   "execution_count": null,
   "id": "239d7c58-12b1-4ca2-a3b6-acf0b1c08256",
   "metadata": {},
   "outputs": [],
   "source": [
    "# install.packages(\"C50\")\n",
    "# install.packages(\"xgboost\")\n",
    "#install.packages(\"scorecard\")\n",
    "#install.packages(\"lightgbm\")\n",
    "#install.packages(\"Matrix\") "
   ]
  },
  {
   "cell_type": "markdown",
   "id": "2d7f5ddf",
   "metadata": {},
   "source": [
    "## Dataset description"
   ]
  },
  {
   "cell_type": "markdown",
   "id": "d5ce5705",
   "metadata": {},
   "source": [
    "**Abstract**\n",
    "\n",
    "The data is related with direct marketing campaigns (phone calls) of a Portuguese banking institution. The classification goal is to predict if the client will subscribe a term deposit (variable y).\n",
    "\n"
   ]
  },
  {
   "cell_type": "markdown",
   "id": "746c8202",
   "metadata": {},
   "source": [
    "**Data Set Information:**\n",
    "\n",
    "The data is related with direct marketing campaigns of a Portuguese banking institution. The marketing campaigns were based on phone calls. Often, more than one contact to the same client was required, in order to access if the product (bank term deposit) would be ('yes') or not ('no') subscribed.\n",
    "\n",
    "There are four datasets:\n",
    "1. bank-additional-full.csv with all examples (41188) and 20 inputs, ordered by date (from May 2008 to November 2010), very close to the data analyzed in [Moro et al., 2014]\n",
    "2. bank-additional.csv with 10% of the examples (4119), randomly selected from 1), and 20 inputs.\n",
    "3. bank-full.csv with all examples and 17 inputs, ordered by date (older version of this dataset with less inputs).\n",
    "4. bank.csv with 10% of the examples and 17 inputs, randomly selected from 3 (older version of this dataset with less inputs).\n",
    "\n",
    "The smallest datasets are provided to test more computationally demanding machine learning algorithms (e.g., SVM).\n",
    "\n",
    "The classification goal is to predict if the client will subscribe (`yes/no`) a term deposit (variable `y`)."
   ]
  },
  {
   "cell_type": "markdown",
   "id": "a1975fca",
   "metadata": {},
   "source": [
    "**Attribute Information**\n",
    "\n",
    "\n",
    "**Input variables: bank client data:**\n",
    "\n",
    "|No|Title|Description|Data Type|Values|\n",
    "|---|---|---|---|---|\n",
    "|1|`age`||numeric||\n",
    "|2|`job`|type of job|categorical|'admin.', 'blue-collar', 'entrepreneur', 'housemaid', 'management', 'retired', 'self-employed', 'services', 'student', 'technician', 'unemployed', 'unknown'|\n",
    "|3|`marital`| marital status |categorical| 'divorced','married','single','unknown'; note: 'divorced' means divorced or widowed|\n",
    "|4|`education`| |categorical| 'basic.4y','basic.6y','basic.9y','high.school','illiterate','professional.course','university.degree','unknown'|\n",
    "|5|`default`| has credit in default? |categorical| 'no','yes','unknown'|\n",
    "|6|`housing`| has housing loan? |categorical| 'no','yes','unknown'|\n",
    "|7|`loan`| has personal loan? |categorical| 'no','yes','unknown'|\n",
    "\n",
    "\n",
    "**Input variables: related with the last contact of the current campaign:**\n",
    "\n",
    "|No|Title|Description|Data Type|Values|\n",
    "|---|---|---|---|---|\n",
    "|8| contact| contact communication type |categorical| 'cellular','telephone'|\n",
    "|9 | month| last contact month of year |categorical| 'jan', 'feb', 'mar', ..., 'nov', 'dec'|\n",
    "|10 | day_of_week| last contact day of the week |categorical|'mon','tue','wed','thu','fri'|\n",
    "|11 | duration| last contact duration, in seconds |numeric||. \n",
    "\n",
    "`duration` - **_Important note: this attribute highly affects the output target (e.g., if duration=0 then y='no'). Yet, the duration is not known before a call is performed. Also, after the end of the call y is obviously known. Thus, this \n",
    "input should only be included for benchmark purposes and should be discarded if the intention is to have a realistic predictive model._**\n",
    "\n",
    "**Input variables: other attributes:**\n",
    "\n",
    "|No|Title|Description|Data Type|Values|\n",
    "|---|---|---|---|---|\n",
    "|12 | `campaign`| number of contacts performed during this campaign and for this client |numeric| includes last contact||\n",
    "|13 | `pdays`|number of days that passed by after the client was last contacted from a previous campaign |numeric| 999 mean client was not previously contacted||\n",
    "|14 | `previous`| number of contacts performed before this campaign and for this client |numeric||\n",
    "|15 | `poutcome`| outcome of the previous marketing campaign |categorical| 'failure','nonexistent','success'|\n",
    "\n",
    "**Input variables: social and economic context attributes**\n",
    "\n",
    "|No|Title|Description|Data Type|Values|\n",
    "|---|---|---|---|---|\n",
    "|16 | `emp.var.rate`| employment variation rate - quarterly indicator |numeric||\n",
    "|17 | `cons.price.idx`| consumer price index - monthly indicator |numeric||\n",
    "|18 | `cons.conf.idx`| consumer confidence index - monthly indicator ||numeric||\n",
    "|19 | `euribor3m`| euribor 3 month rate - daily indicator |numeric||\n",
    "|20 | `nr.employed`|number of employees - quarterly indicator |numeric||\n",
    "\n",
    "**Output variable (desired target):**\n",
    "\n",
    "|No|Title|Description|Data Type|Values|\n",
    "|---|---|---|---|---|\n",
    "|21| `y` | has the client subscribed a term deposit? |binary| 'yes','no'|"
   ]
  },
  {
   "cell_type": "markdown",
   "id": "a6fd87bd",
   "metadata": {},
   "source": [
    "Source: https://archive.ics.uci.edu/ml/datasets/bank+marketing\n"
   ]
  },
  {
   "cell_type": "markdown",
   "id": "1387b762",
   "metadata": {},
   "source": [
    "---"
   ]
  },
  {
   "cell_type": "markdown",
   "id": "452cd3dd",
   "metadata": {},
   "source": [
    "## Data load and preview"
   ]
  },
  {
   "cell_type": "markdown",
   "id": "47ee4f3c",
   "metadata": {},
   "source": [
    "Для початку завантажимо дані у змінну `data`:"
   ]
  },
  {
   "cell_type": "code",
   "execution_count": null,
   "id": "e391345b",
   "metadata": {},
   "outputs": [],
   "source": [
    "data <- read.csv(\"https://raw.githubusercontent.com/kleban/r-course-eng/main/data/banking.csv\", \n",
    "                 na.strings = c(\"\", \" \", \"NA\", \"NULL\"), # fix missing as NA if present\n",
    "                 stringsAsFactors = TRUE) # set strings as factor, we need this for some algorithms\n",
    "#use + unknown with na.strings if you want to play with missing\n",
    "#data <- read.csv(\"data/banking.csv\", na.strings = c(\"\", \" \", \"NA\", \"NULL\", \"unknown\"))"
   ]
  },
  {
   "cell_type": "markdown",
   "id": "57278ad9",
   "metadata": {},
   "source": [
    "Переглянемо структуру вибірки даних з `str()`:"
   ]
  },
  {
   "cell_type": "code",
   "execution_count": null,
   "id": "cbb561e7",
   "metadata": {},
   "outputs": [],
   "source": [
    "str(data)"
   ]
  },
  {
   "cell_type": "markdown",
   "id": "6749541f",
   "metadata": {},
   "source": [
    "Переглянемо вигляд перших рядків даних з `head()`:"
   ]
  },
  {
   "cell_type": "code",
   "execution_count": null,
   "id": "bcd53093",
   "metadata": {},
   "outputs": [],
   "source": [
    "head(data)"
   ]
  },
  {
   "cell_type": "markdown",
   "id": "250ad602",
   "metadata": {},
   "source": [
    "Описова статистика факторів:"
   ]
  },
  {
   "cell_type": "code",
   "execution_count": null,
   "id": "16afb4ca",
   "metadata": {},
   "outputs": [],
   "source": [
    "summary(data)"
   ]
  },
  {
   "cell_type": "markdown",
   "id": "973eb491",
   "metadata": {},
   "source": [
    "Перевіримо вибірку на наявність пропусків:"
   ]
  },
  {
   "cell_type": "code",
   "execution_count": null,
   "id": "82c5c3c9",
   "metadata": {},
   "outputs": [],
   "source": [
    "library(mice)\n",
    "md.pattern(data) # OK"
   ]
  },
  {
   "cell_type": "code",
   "execution_count": null,
   "id": "fb0d5420-9b22-4106-ad4a-2cb24e969af6",
   "metadata": {},
   "outputs": [],
   "source": [
    "anyNA(data)"
   ]
  },
  {
   "cell_type": "markdown",
   "id": "6e811f87",
   "metadata": {},
   "source": [
    "---"
   ]
  },
  {
   "cell_type": "markdown",
   "id": "aace7da6",
   "metadata": {},
   "source": [
    "## Data visualization"
   ]
  },
  {
   "cell_type": "markdown",
   "id": "f8b27c14",
   "metadata": {},
   "source": [
    "**Вік клієнта (age):**"
   ]
  },
  {
   "cell_type": "code",
   "execution_count": null,
   "id": "c5faea4e",
   "metadata": {},
   "outputs": [],
   "source": [
    "library(ggplot2)\n",
    "\n",
    "ggplot(data, aes(age)) + \n",
    "    geom_histogram(bins = 20, alpha = 0.5, fill = 'blue', color='black')  + \n",
    "    theme_bw()"
   ]
  },
  {
   "cell_type": "markdown",
   "id": "15d98c1a",
   "metadata": {},
   "source": [
    "**Робота клієнта (job):**"
   ]
  },
  {
   "cell_type": "code",
   "execution_count": null,
   "id": "469560f1",
   "metadata": {},
   "outputs": [],
   "source": [
    "ggplot(data, aes(job)) + \n",
    "    geom_bar(aes(fill = job)) + \n",
    "    theme_bw()"
   ]
  },
  {
   "cell_type": "code",
   "execution_count": null,
   "id": "06dfd76d",
   "metadata": {},
   "outputs": [],
   "source": [
    "library(gmodels)\n",
    "CrossTable(data$job, data$deposit)\n",
    "# more loyal to deposits are management, retired, student, unemployed ))"
   ]
  },
  {
   "cell_type": "markdown",
   "id": "52124e35",
   "metadata": {},
   "source": [
    "**Сімейний статус (marital):**"
   ]
  },
  {
   "cell_type": "code",
   "execution_count": null,
   "id": "34bb4df3",
   "metadata": {},
   "outputs": [],
   "source": [
    "ggplot(data, aes(marital)) + \n",
    "    geom_bar(aes(fill = marital)) + \n",
    "    theme_bw()"
   ]
  },
  {
   "cell_type": "code",
   "execution_count": null,
   "id": "440abf12",
   "metadata": {},
   "outputs": [],
   "source": [
    "CrossTable(data$marital, data$deposit)\n",
    "# married are not very loyal to deposits\n",
    "# but singles is more loyal"
   ]
  },
  {
   "cell_type": "markdown",
   "id": "935850f1",
   "metadata": {},
   "source": [
    "**Освіта (education):**"
   ]
  },
  {
   "cell_type": "code",
   "execution_count": null,
   "id": "7feefe90",
   "metadata": {},
   "outputs": [],
   "source": [
    "ggplot(data, aes(education)) + \n",
    "    geom_bar(aes(fill = education)) + \n",
    "    theme_bw()"
   ]
  },
  {
   "cell_type": "code",
   "execution_count": null,
   "id": "308da68a",
   "metadata": {},
   "outputs": [],
   "source": [
    "CrossTable(data$education, data$deposit)\n",
    "# people with tertiary education is more loyal than other groups"
   ]
  },
  {
   "cell_type": "markdown",
   "id": "2a047a5a",
   "metadata": {},
   "source": [
    "**Дефолт (default):**"
   ]
  },
  {
   "cell_type": "code",
   "execution_count": null,
   "id": "5de59c29",
   "metadata": {},
   "outputs": [],
   "source": [
    "ggplot(data, aes(default)) + \n",
    "    geom_bar(aes(fill = default)) + \n",
    "    theme_bw()"
   ]
  },
  {
   "cell_type": "code",
   "execution_count": null,
   "id": "9579c9f3",
   "metadata": {},
   "outputs": [],
   "source": [
    "CrossTable(data$default, data$deposit)\n",
    "# defaults not very loyal to deposits, but why? ))))))"
   ]
  },
  {
   "cell_type": "markdown",
   "id": "58739d21",
   "metadata": {},
   "source": [
    "**Баланс (balance):**"
   ]
  },
  {
   "cell_type": "code",
   "execution_count": null,
   "id": "866e3c89",
   "metadata": {},
   "outputs": [],
   "source": [
    "ggplot(data, aes(balance)) + \n",
    "    geom_histogram(bins = 30, alpha = 0.5, fill = 'blue', color='black')  + \n",
    "    theme_bw()\n",
    "\n",
    "# looks like balance data has outliers"
   ]
  },
  {
   "cell_type": "markdown",
   "id": "54d3edfe",
   "metadata": {},
   "source": [
    "**Наявність кредиту на житло (housing):**"
   ]
  },
  {
   "cell_type": "code",
   "execution_count": null,
   "id": "41b5ed53",
   "metadata": {},
   "outputs": [],
   "source": [
    "ggplot(data, aes(housing)) + \n",
    "    geom_bar(aes(fill = housing)) + \n",
    "    theme_bw()"
   ]
  },
  {
   "cell_type": "code",
   "execution_count": null,
   "id": "7e95edce",
   "metadata": {},
   "outputs": [],
   "source": [
    "CrossTable(data$housing, data$deposit)\n",
    "# people without housing load logicaly more often can do deposits"
   ]
  },
  {
   "cell_type": "markdown",
   "id": "c741fc79",
   "metadata": {},
   "source": [
    "**Наявність позики (loan):**"
   ]
  },
  {
   "cell_type": "code",
   "execution_count": null,
   "id": "59900973",
   "metadata": {},
   "outputs": [],
   "source": [
    "ggplot(data, aes(loan)) + \n",
    "    geom_bar(aes(fill = loan)) + \n",
    "    theme_bw()"
   ]
  },
  {
   "cell_type": "code",
   "execution_count": null,
   "id": "4e8c493c",
   "metadata": {},
   "outputs": [],
   "source": [
    "CrossTable(data$loan, data$deposit)"
   ]
  },
  {
   "cell_type": "markdown",
   "id": "13710e1d",
   "metadata": {},
   "source": [
    "**# Тип комунікації (contact):**"
   ]
  },
  {
   "cell_type": "code",
   "execution_count": null,
   "id": "b767378c",
   "metadata": {},
   "outputs": [],
   "source": [
    "ggplot(data, aes(contact)) + \n",
    "    geom_bar(aes(fill = contact)) + \n",
    "    theme_bw()"
   ]
  },
  {
   "cell_type": "code",
   "execution_count": null,
   "id": "4fa10beb",
   "metadata": {},
   "outputs": [],
   "source": [
    "CrossTable(data$contact, data$deposit)\n",
    "# cellular communication channel looks like the best way to increase deposits count\n",
    "# people with cellular devices has more money? "
   ]
  },
  {
   "cell_type": "markdown",
   "id": "f4a8e3b6",
   "metadata": {},
   "source": [
    "**День місяця (day):**"
   ]
  },
  {
   "cell_type": "code",
   "execution_count": null,
   "id": "a3aab697",
   "metadata": {},
   "outputs": [],
   "source": [
    "ggplot(data, aes(day)) + \n",
    "    geom_histogram(bins = 25, alpha = 0.5, fill = 'blue', color='black')  + \n",
    "    theme_bw()"
   ]
  },
  {
   "cell_type": "markdown",
   "id": "a1c7f679",
   "metadata": {},
   "source": [
    "**Місяць (month):**"
   ]
  },
  {
   "cell_type": "code",
   "execution_count": null,
   "id": "20f52d07",
   "metadata": {},
   "outputs": [],
   "source": [
    "ggplot(data, aes(month)) + \n",
    "    geom_bar(aes(fill = month)) + \n",
    "    theme_bw()"
   ]
  },
  {
   "cell_type": "code",
   "execution_count": null,
   "id": "3b33e86b",
   "metadata": {},
   "outputs": [],
   "source": [
    "# So, lets replace our month with ordered factor for correct visualization\n",
    "library(dplyr)\n",
    "data <- data |>\n",
    "    mutate(month = factor(month, levels=c(\"jan\",\"feb\",\"mar\",\n",
    "               \"apr\",\"may\",\"jun\",\"jul\",\"aug\",\"sep\",\n",
    "              \"oct\",\"nov\",\"dec\"),ordered=TRUE))"
   ]
  },
  {
   "cell_type": "code",
   "execution_count": null,
   "id": "555c5872",
   "metadata": {},
   "outputs": [],
   "source": [
    "ggplot(data, aes(month)) + \n",
    "    geom_bar(aes(fill = month)) + \n",
    "    theme_bw()"
   ]
  },
  {
   "cell_type": "code",
   "execution_count": null,
   "id": "18da5504",
   "metadata": {},
   "outputs": [],
   "source": [
    "CrossTable(data$month, data$deposit)"
   ]
  },
  {
   "cell_type": "markdown",
   "id": "97149462",
   "metadata": {},
   "source": [
    "**Тривалість останнього контакту (duration):**"
   ]
  },
  {
   "cell_type": "code",
   "execution_count": null,
   "id": "e218f914",
   "metadata": {},
   "outputs": [],
   "source": [
    "ggplot(data, aes(duration)) + \n",
    "    geom_histogram(bins = 100, alpha = 0.5, fill = 'blue', color='black')  + \n",
    "    theme_bw()"
   ]
  },
  {
   "cell_type": "markdown",
   "id": "9bde6fa0",
   "metadata": {},
   "source": [
    "**Кількість контактів протягом поточної кампанії (campaign):**"
   ]
  },
  {
   "cell_type": "code",
   "execution_count": null,
   "id": "471ab046",
   "metadata": {},
   "outputs": [],
   "source": [
    "ggplot(data, aes(campaign)) + \n",
    "    geom_histogram(bins = 30, alpha = 0.5, fill = 'blue', color='black')  + \n",
    "    theme_bw()"
   ]
  },
  {
   "cell_type": "markdown",
   "id": "291a76b2",
   "metadata": {},
   "source": [
    "**Кількість днів від попередньої акції (pday):**"
   ]
  },
  {
   "cell_type": "code",
   "execution_count": null,
   "id": "3145687f",
   "metadata": {},
   "outputs": [],
   "source": [
    "ggplot(data, aes(pdays)) + \n",
    "    geom_histogram(bins = 20, alpha = 0.5, fill = 'blue', color='black')  + \n",
    "    theme_bw()"
   ]
  },
  {
   "cell_type": "markdown",
   "id": "f1f4d698",
   "metadata": {},
   "source": [
    "**Кількість контактів до початку поточної кампанії (previous):**"
   ]
  },
  {
   "cell_type": "code",
   "execution_count": null,
   "id": "e1b5d0c2",
   "metadata": {},
   "outputs": [],
   "source": [
    "ggplot(data, aes(previous)) + \n",
    "    geom_histogram(bins = 50, alpha = 0.5, fill = 'blue', color='black')  + \n",
    "    theme_bw()"
   ]
  },
  {
   "cell_type": "markdown",
   "id": "6a55b6f7",
   "metadata": {},
   "source": [
    "**Результат попередньої кампанії (poutcome):**"
   ]
  },
  {
   "cell_type": "code",
   "execution_count": null,
   "id": "c1f70ab6",
   "metadata": {},
   "outputs": [],
   "source": [
    "ggplot(data, aes(poutcome)) + \n",
    "    geom_bar(aes(fill = poutcome)) + \n",
    "    theme_bw()"
   ]
  },
  {
   "cell_type": "code",
   "execution_count": null,
   "id": "183e1755",
   "metadata": {},
   "outputs": [],
   "source": [
    "CrossTable(data$poutcome, data$deposit)\n",
    "# people with previous success status also loyal for new propositions"
   ]
  },
  {
   "cell_type": "markdown",
   "id": "3e918531",
   "metadata": {},
   "source": [
    "**Результат укладання або відсутність укладання договору (deposit):**"
   ]
  },
  {
   "cell_type": "code",
   "execution_count": null,
   "id": "67497d45",
   "metadata": {},
   "outputs": [],
   "source": [
    "ggplot(data, aes(deposit)) + \n",
    "    geom_bar(aes(fill = deposit)) + \n",
    "    theme_bw()"
   ]
  },
  {
   "cell_type": "code",
   "execution_count": null,
   "id": "29feeb12",
   "metadata": {},
   "outputs": [],
   "source": [
    "CrossTable(data$deposit)"
   ]
  },
  {
   "cell_type": "markdown",
   "id": "7c534e3b",
   "metadata": {},
   "source": [
    "## Data preprocessing"
   ]
  },
  {
   "cell_type": "markdown",
   "id": "f785dba2",
   "metadata": {},
   "source": [
    "Перетворимо значення `deposit` до `0` і `1`:"
   ]
  },
  {
   "cell_type": "code",
   "execution_count": null,
   "id": "334095b9",
   "metadata": {},
   "outputs": [],
   "source": [
    "data$deposit <- ifelse(data$deposit == \"yes\", 1, 0)"
   ]
  },
  {
   "cell_type": "markdown",
   "id": "860dfe5b",
   "metadata": {},
   "source": [
    "Видалимо `duration`, адже цей параметр чітко вказує на факт укладання угоди, такі дані називаються leak:"
   ]
  },
  {
   "cell_type": "code",
   "execution_count": null,
   "id": "33192634",
   "metadata": {},
   "outputs": [],
   "source": [
    "data$duration <- NULL"
   ]
  },
  {
   "cell_type": "markdown",
   "id": "29da71e4",
   "metadata": {},
   "source": [
    "Створимо новий параметр `pdays_flag`, який вказує чи був контакт з клієнтом раніше:"
   ]
  },
  {
   "cell_type": "code",
   "execution_count": null,
   "id": "83a55bdf",
   "metadata": {},
   "outputs": [],
   "source": [
    "data$pdays_flag <- ifelse(data$pdays > 0, 1, 0)"
   ]
  },
  {
   "cell_type": "code",
   "execution_count": null,
   "id": "f8d7b0ad",
   "metadata": {},
   "outputs": [],
   "source": [
    "head(data)"
   ]
  },
  {
   "cell_type": "markdown",
   "id": "4310a064",
   "metadata": {},
   "source": [
    "Створимо новий параметр `poutcome_success`, який вказує чи була попередня кампанія з цим клієнтом “успішною для банку”:"
   ]
  },
  {
   "cell_type": "code",
   "execution_count": null,
   "id": "f3c9fe5c",
   "metadata": {},
   "outputs": [],
   "source": [
    "data$poutcoume_success <- ifelse(data$poutcome == \"success\", 1, 0)"
   ]
  },
  {
   "cell_type": "markdown",
   "id": "b7cc2088",
   "metadata": {},
   "source": [
    "---"
   ]
  },
  {
   "cell_type": "markdown",
   "id": "bdd7170c",
   "metadata": {},
   "source": [
    "## Train/test split"
   ]
  },
  {
   "cell_type": "markdown",
   "id": "8b3c9aec-e874-42cf-9748-29700a03fb12",
   "metadata": {},
   "source": [
    "Задаємо seed для генератора випадкових чисел"
   ]
  },
  {
   "cell_type": "markdown",
   "id": "c9ed400d",
   "metadata": {},
   "source": [
    "Train  65%, test 35%"
   ]
  },
  {
   "cell_type": "code",
   "execution_count": null,
   "id": "c383ec7d",
   "metadata": {},
   "outputs": [],
   "source": [
    "set.seed(111) # today!\n",
    "library(caret)\n",
    "index = createDataPartition(data$deposit, p = 0.65, list = FALSE)\n",
    "train_data = data[index, ]\n",
    "test_data = data[-index, ]"
   ]
  },
  {
   "cell_type": "code",
   "execution_count": null,
   "id": "9610d52b-7056-4c76-a3f6-3d12564ba819",
   "metadata": {},
   "outputs": [],
   "source": [
    "CrossTable(train_data$deposit)\n",
    "CrossTable(test_data$deposit)"
   ]
  },
  {
   "cell_type": "markdown",
   "id": "aa130cd7-b6e6-4f3b-ba28-42b2099ef223",
   "metadata": {},
   "source": [
    "---"
   ]
  },
  {
   "cell_type": "markdown",
   "id": "b7b1cb9d-3847-4e4d-be9a-281629eb7fa0",
   "metadata": {},
   "source": [
    "## Decision trees with `rpart()`"
   ]
  },
  {
   "cell_type": "markdown",
   "id": "818dff52-546f-49a2-a552-4d53ec38d1e6",
   "metadata": {},
   "source": [
    "Для побудови дерев рішень у `R` є ряд пакетів та алгоритмів. Розглянемо пакет `rpart`."
   ]
  },
  {
   "cell_type": "code",
   "execution_count": null,
   "id": "f2b9b38a-7528-4c5b-a8ff-99d7f9c82bff",
   "metadata": {},
   "outputs": [],
   "source": [
    "#install.packages(\"rpart\")\n",
    "library(rpart)\n",
    "rpart_model <- rpart(deposit ~ ., train_data)"
   ]
  },
  {
   "cell_type": "markdown",
   "id": "70aa67c0-6e2f-4a0c-ba95-1e8512e19a4a",
   "metadata": {},
   "source": [
    "Виведемо опис моделі:"
   ]
  },
  {
   "cell_type": "code",
   "execution_count": null,
   "id": "e8f8ecc5-3ea9-4688-ab1f-6f3a7aa13792",
   "metadata": {},
   "outputs": [],
   "source": [
    "rpart_model"
   ]
  },
  {
   "cell_type": "markdown",
   "id": "256c27b1-abbd-42de-96da-902002a20956",
   "metadata": {},
   "source": [
    "Дуже детальний опис:"
   ]
  },
  {
   "cell_type": "code",
   "execution_count": null,
   "id": "e4c7a480-fa10-4696-9b07-21b851faf0c2",
   "metadata": {},
   "outputs": [],
   "source": [
    "summary(rpart_model)"
   ]
  },
  {
   "cell_type": "markdown",
   "id": "a3496a38-a5a1-4eb7-ae11-1cd8c905a41d",
   "metadata": {},
   "source": [
    "Візуалізуємо дерево рішень:"
   ]
  },
  {
   "cell_type": "code",
   "execution_count": null,
   "id": "fd94ed7c-7182-47f0-a252-290f3dc6563f",
   "metadata": {},
   "outputs": [],
   "source": [
    "# install.packages(c(\"rattle\", \"RColorBrewer\"))\n",
    "\n",
    "library(rattle)\n",
    "library(RColorBrewer)\n",
    "fancyRpartPlot(rpart_model)\n",
    "\n",
    "# now you can see how model model works"
   ]
  },
  {
   "cell_type": "markdown",
   "id": "e737e3a3-0ed0-4c01-9f42-451e4a76494b",
   "metadata": {},
   "source": [
    "Створимо два дата-фрейм для для запису результатів моделювання на тестовій вибірці. Одразу додамо у набори даних реальні значення результатів маркетингової акції deposit та модельовані значення\n",
    "\n",
    "Дані тренувальної вибірки будуть використовуватися для визначення оптимальної cutoff лінії, а тестової для порівняння моделей між собою."
   ]
  },
  {
   "cell_type": "code",
   "execution_count": null,
   "id": "266cf6d9-0224-4ca8-85d0-5d34ee460e2d",
   "metadata": {},
   "outputs": [],
   "source": [
    "train_results <- data.frame(No = c(1:nrow(train_data)), \n",
    "                            deposit = train_data$deposit, \n",
    "                            RPartPredicted = predict(rpart_model, train_data))\n",
    "\n",
    "test_results <- data.frame(No = c(1:nrow(test_data)),\n",
    "                           deposit = test_data$deposit, \n",
    "                           RPartPredicted = predict(rpart_model, test_data))\n",
    "\n",
    "head(test_results)"
   ]
  },
  {
   "cell_type": "markdown",
   "id": "ee4c381a-8ce9-47c9-ba4f-5cb1e28c7807",
   "metadata": {},
   "source": [
    "Визначимо оптимальну лінію розподілу на 0 і 1 для тренувальної вибірки за допомогою пакету `InformationValue`:"
   ]
  },
  {
   "cell_type": "code",
   "execution_count": null,
   "id": "3dc29da7-5f1f-4097-9ade-4b37b0792f66",
   "metadata": {},
   "outputs": [],
   "source": [
    "library(InformationValue)\n",
    "optCutOff <- optimalCutoff(train_results$deposit, train_results$RPartPredicted)\n",
    "optCutOff"
   ]
  },
  {
   "cell_type": "markdown",
   "id": "1f6d8a26-f573-4686-bc8e-80a175d3219e",
   "metadata": {},
   "source": [
    "Побудуємо `ROC`-криву для тестової вибірки:"
   ]
  },
  {
   "cell_type": "code",
   "execution_count": null,
   "id": "134d02b7-70d0-4f3b-975c-23f15ac1c249",
   "metadata": {},
   "outputs": [],
   "source": [
    "plotROC(test_results$deposit, test_results$RPartPredicted)"
   ]
  },
  {
   "cell_type": "markdown",
   "id": "0e4d9555-70e1-4649-a129-72e757d48a68",
   "metadata": {},
   "source": [
    "Сформуємо набір класів `0` і `1` для тестового набору даних:"
   ]
  },
  {
   "cell_type": "code",
   "execution_count": null,
   "id": "4e9b3529-813d-4b0f-93d3-6082302a948f",
   "metadata": {},
   "outputs": [],
   "source": [
    "test_results$RPartPredicted_Class <- ifelse(test_results$RPartPredicted > optCutOff, 1, 0)"
   ]
  },
  {
   "cell_type": "markdown",
   "id": "b4c72854-5ee6-4a79-8409-8c35938f9a48",
   "metadata": {},
   "source": [
    "Confusion matrix:"
   ]
  },
  {
   "cell_type": "code",
   "execution_count": null,
   "id": "6c67ca68-8309-4b6b-a2a9-60bc08d8b4c2",
   "metadata": {},
   "outputs": [],
   "source": [
    "cm <- caret::confusionMatrix(factor(test_results$deposit), \n",
    "                      factor(test_results$RPartPredicted_Class), \n",
    "                      positive = \"1\")\n",
    "cm"
   ]
  },
  {
   "cell_type": "markdown",
   "id": "08e19c49-1c7d-4812-8204-2af049ece2d9",
   "metadata": {},
   "source": [
    "Переглянемо збалансовану точність класифіції:"
   ]
  },
  {
   "cell_type": "code",
   "execution_count": null,
   "id": "719f1ee4-a14f-44a4-9b08-7020933d6265",
   "metadata": {},
   "outputs": [],
   "source": [
    "BAcc <- cm$byClass[[\"Balanced Accuracy\"]]\n",
    "BAcc "
   ]
  },
  {
   "cell_type": "markdown",
   "id": "097e2185-907a-446d-a5af-2299cc48552b",
   "metadata": {},
   "source": [
    "---"
   ]
  },
  {
   "cell_type": "markdown",
   "id": "a4e5fd6b-fe59-44a8-aadf-8da656c869aa",
   "metadata": {},
   "source": [
    "## Desicion trees with  PartyKit"
   ]
  },
  {
   "cell_type": "markdown",
   "id": "31a1dd47-a189-47ec-a202-d3cbc643a082",
   "metadata": {},
   "source": [
    "Побудуємо дерево рішень за допоомгою пакету `partykit`:"
   ]
  },
  {
   "cell_type": "code",
   "execution_count": null,
   "id": "01386215-2697-43ef-a40b-20d5a71df3fd",
   "metadata": {},
   "outputs": [],
   "source": [
    "#install.packages(\"partykit\")\n",
    "library(partykit)\n",
    "head(train_data)\n",
    "party_model <- ctree(deposit ~ ., data = train_data)"
   ]
  },
  {
   "cell_type": "markdown",
   "id": "dcaa6d7b-7267-486d-9425-449dcf049bb3",
   "metadata": {},
   "source": [
    "Виведемо текстовий опис моделі:"
   ]
  },
  {
   "cell_type": "code",
   "execution_count": null,
   "id": "b3a01af2-8cbe-4976-9ba1-2131ca12511e",
   "metadata": {},
   "outputs": [],
   "source": [
    "party_model\n",
    "# Looks like this model is more complex"
   ]
  },
  {
   "cell_type": "markdown",
   "id": "46c22e12-7698-4063-b1f1-da696151db26",
   "metadata": {},
   "source": [
    "Візуалізуємо побудоване дерево рішень:"
   ]
  },
  {
   "cell_type": "code",
   "execution_count": null,
   "id": "4160783a-0238-4022-903e-e1cb57d127e8",
   "metadata": {},
   "outputs": [],
   "source": [
    "plot(party_model)"
   ]
  },
  {
   "cell_type": "markdown",
   "id": "51259fe0-2a19-47c6-8cfc-816c5e58c44f",
   "metadata": {},
   "source": [
    "Конвернтуємо `ctree()` до `rpart()`:"
   ]
  },
  {
   "cell_type": "code",
   "execution_count": null,
   "id": "40f5924c-bde9-498e-84c2-82cf5a90c9fb",
   "metadata": {},
   "outputs": [],
   "source": [
    "st <- as.simpleparty(party_model)\n",
    "plot(st)"
   ]
  },
  {
   "cell_type": "markdown",
   "id": "e69cf8c2-3f5f-4bfc-ab39-43008552fca2",
   "metadata": {},
   "source": [
    "Додамо прогнозовані показники до раніше створених дата-фрейму для збору результатів:"
   ]
  },
  {
   "cell_type": "code",
   "execution_count": null,
   "id": "0c69abc7-6dad-4857-bb79-5f2d5362aab4",
   "metadata": {},
   "outputs": [],
   "source": [
    "train_results$PartyPredicted <- predict(party_model, train_data)\n",
    "test_results$PartyPredicted <- predict(party_model, test_data)\n",
    "head(test_results)"
   ]
  },
  {
   "cell_type": "markdown",
   "id": "383ea882-fec3-4930-9fbf-c35c8ef44b89",
   "metadata": {},
   "source": [
    "Визначимо оптимальну лінію розділення на класи 0 і 1:"
   ]
  },
  {
   "cell_type": "code",
   "execution_count": null,
   "id": "4ddc2ad4-cfc3-4132-8ed4-9a832c11bb1c",
   "metadata": {},
   "outputs": [],
   "source": [
    "optCutOff <- optimalCutoff(train_results$deposit, train_results$PartyPredicted)\n",
    "optCutOff"
   ]
  },
  {
   "cell_type": "markdown",
   "id": "c00c5f35-bc75-4397-be23-90bd0c445e38",
   "metadata": {},
   "source": [
    "ROC-крива та AUROC:"
   ]
  },
  {
   "cell_type": "code",
   "execution_count": null,
   "id": "aec5f63d-5199-4203-be51-6e949a2e82a2",
   "metadata": {},
   "outputs": [],
   "source": [
    "plotROC(test_results$deposit, test_results$PartyPredicted)"
   ]
  },
  {
   "cell_type": "markdown",
   "id": "22913c16-ab3b-45cc-9029-38f0b2b3da1a",
   "metadata": {},
   "source": [
    "Розділимо результати прогнозування на класи:"
   ]
  },
  {
   "cell_type": "code",
   "execution_count": null,
   "id": "8b29490a-d3b5-42c0-a77d-f356d377eeee",
   "metadata": {},
   "outputs": [],
   "source": [
    "test_results$PartyPredicted_Class <- ifelse(test_results$PartyPredicted > optCutOff, 1, 0)"
   ]
  },
  {
   "cell_type": "markdown",
   "id": "33ca8529-bfdf-42df-9d84-a3f8ee8fd6fe",
   "metadata": {},
   "source": [
    "Confusion matrix:"
   ]
  },
  {
   "cell_type": "code",
   "execution_count": null,
   "id": "b0c8b651-ca03-43b8-912b-e147bf7ae348",
   "metadata": {},
   "outputs": [],
   "source": [
    "cm <- caret::confusionMatrix(factor(test_results$deposit), \n",
    "                             factor(test_results$PartyPredicted_Class), \n",
    "                             positive = \"1\")\n",
    "cm"
   ]
  },
  {
   "cell_type": "markdown",
   "id": "a7de7d11-3999-48d4-981a-69644db9e2ad",
   "metadata": {},
   "source": [
    "Оцінимо збалансовану точність класифікації:"
   ]
  },
  {
   "cell_type": "code",
   "execution_count": null,
   "id": "22612c9d-4bd6-4b38-83ac-386ab7a2c21d",
   "metadata": {},
   "outputs": [],
   "source": [
    "BAcc # value for previous model"
   ]
  },
  {
   "cell_type": "code",
   "execution_count": null,
   "id": "092dd81e-5872-478c-a348-138c183496e8",
   "metadata": {},
   "outputs": [],
   "source": [
    "BAcc1 <- cm$byClass[[\"Balanced Accuracy\"]]\n",
    "BAcc1"
   ]
  },
  {
   "cell_type": "markdown",
   "id": "e15350c2-bf40-42ab-b554-e145739e2787",
   "metadata": {},
   "source": [
    "---"
   ]
  },
  {
   "cell_type": "markdown",
   "id": "43bc645c-4883-4d1f-9d05-565e88e7c63d",
   "metadata": {},
   "source": [
    "## Desision Tree with c50"
   ]
  },
  {
   "cell_type": "markdown",
   "id": "a4c2ea07-3b92-486b-8152-cf351d1c200e",
   "metadata": {},
   "source": [
    "Скористаємося алгоритмом `C50` для побудови дерева рішень.\n",
    "Для початку потрібно виіхдний показник перетворити у категоріальний (`factor`):"
   ]
  },
  {
   "cell_type": "code",
   "execution_count": null,
   "id": "7fc7e561-abc6-4b68-933d-63ea7da4bff0",
   "metadata": {},
   "outputs": [],
   "source": [
    "# lets make anew temporary dataset for modeling with target output as factor"
   ]
  },
  {
   "cell_type": "code",
   "execution_count": null,
   "id": "1a201365-6116-4697-8d5d-50848b5aa558",
   "metadata": {},
   "outputs": [],
   "source": [
    "train_data_tmp <- train_data %>%\n",
    "    mutate(deposit = factor(train_data$deposit, levels = c(0,1)))\n",
    "\n",
    "test_data_tmp <- test_data %>%\n",
    "    mutate(deposit = factor(test_data$deposit, levels = c(0,1)))"
   ]
  },
  {
   "cell_type": "markdown",
   "id": "4ce25771-944a-4ca1-99e0-5ee139a381ff",
   "metadata": {},
   "source": [
    "Побудуємо модель:"
   ]
  },
  {
   "cell_type": "code",
   "execution_count": null,
   "id": "a5bb6517-fd02-4b18-94f4-30a48eb62f08",
   "metadata": {},
   "outputs": [],
   "source": [
    "library(C50)\n",
    "c5_model <- C5.0(deposit ~ ., data = train_data_tmp)"
   ]
  },
  {
   "cell_type": "markdown",
   "id": "2152b645-1575-442c-94ce-7e4673815bf1",
   "metadata": {},
   "source": [
    "Переглянемо модель:"
   ]
  },
  {
   "cell_type": "code",
   "execution_count": null,
   "id": "6e0a4b8e-52c0-470c-a72e-db2cd1ac9633",
   "metadata": {},
   "outputs": [],
   "source": [
    "summary(c5_model)\n",
    "# its hard to check the nodes"
   ]
  },
  {
   "cell_type": "markdown",
   "id": "0352b201-79ba-4d50-a073-2e9b23aa185e",
   "metadata": {},
   "source": [
    "Здійснимо прогноз значень:"
   ]
  },
  {
   "cell_type": "code",
   "execution_count": null,
   "id": "25092073-7cf1-4a42-85d9-cf203575bb0f",
   "metadata": {},
   "outputs": [],
   "source": [
    "train_results$C5Predicted <- predict(c5_model, train_data_tmp)\n",
    "test_results$C5Predicted <- predict(c5_model, test_data_tmp)"
   ]
  },
  {
   "cell_type": "markdown",
   "id": "a06abf06-5e63-4dc7-af43-973688a3219c",
   "metadata": {},
   "source": [
    "ROC-крива та AUROC:"
   ]
  },
  {
   "cell_type": "code",
   "execution_count": null,
   "id": "341a3a8a-df04-4e1d-950b-44e5cbc1265a",
   "metadata": {},
   "outputs": [],
   "source": [
    "plotROC(as.numeric(test_results$deposit), as.numeric(test_results$C5Predicted))\n",
    "# you can see that current algorithm is not very good for this data, partykit is much better"
   ]
  },
  {
   "cell_type": "markdown",
   "id": "e99fdf03-3a92-4c1e-a146-88df15fd60c0",
   "metadata": {},
   "source": [
    "Confusion Matrix:"
   ]
  },
  {
   "cell_type": "code",
   "execution_count": null,
   "id": "2634db0f-d9fe-457c-a41d-5983047dd8f5",
   "metadata": {},
   "outputs": [],
   "source": [
    "cm <- caret::confusionMatrix(factor(test_results$deposit), \n",
    "                             test_results$C5Predicted, \n",
    "                             positive = \"1\")\n",
    "cm"
   ]
  },
  {
   "cell_type": "markdown",
   "id": "a3cc84f6-f0a2-4fcf-95f6-0ab2b21200b9",
   "metadata": {},
   "source": [
    "Збалансована точність моделі:"
   ]
  },
  {
   "cell_type": "code",
   "execution_count": null,
   "id": "99757890-3259-4ae8-bfbe-4a2bcf23a674",
   "metadata": {},
   "outputs": [],
   "source": [
    "BAcc # rpart\n",
    "BAcc1 # partykit"
   ]
  },
  {
   "cell_type": "code",
   "execution_count": null,
   "id": "693d3a3e-f1e3-4d6f-867e-da7618db10de",
   "metadata": {},
   "outputs": [],
   "source": [
    "BAcc2 <- cm$byClass[[\"Balanced Accuracy\"]]\n",
    "BAcc2\n",
    "# but balanced accuracy is the best. So this model better classify both good and bad events"
   ]
  },
  {
   "cell_type": "markdown",
   "id": "dda95592-e8a7-4c68-8acf-889bb1bb525e",
   "metadata": {},
   "source": [
    "---"
   ]
  },
  {
   "cell_type": "markdown",
   "id": "db2aebdb-8ede-4056-9863-471ef7e547fb",
   "metadata": {},
   "source": [
    "## RandomForest"
   ]
  },
  {
   "cell_type": "markdown",
   "id": "dcd75376-9506-4aea-8d03-5d7653e713ed",
   "metadata": {},
   "source": [
    "You can use `random forest` with default or special training parameters. "
   ]
  },
  {
   "cell_type": "code",
   "execution_count": null,
   "id": "6fb064bf-464d-440e-97d0-78d91a7fa77d",
   "metadata": {},
   "outputs": [],
   "source": [
    "head(train_results)"
   ]
  },
  {
   "cell_type": "code",
   "execution_count": null,
   "id": "26b75ac4-df9f-4b94-978d-d3c2e4734486",
   "metadata": {},
   "outputs": [],
   "source": [
    "head(train_data)"
   ]
  },
  {
   "cell_type": "code",
   "execution_count": null,
   "id": "22a6d805-f38a-4988-a278-477daf1caa2c",
   "metadata": {},
   "outputs": [],
   "source": [
    "#install.packages(\"randomForest\")"
   ]
  },
  {
   "cell_type": "code",
   "execution_count": null,
   "id": "e88819f1-812b-4798-92e1-7ac7f5564e1f",
   "metadata": {},
   "outputs": [],
   "source": [
    "table(train_data$deposit)"
   ]
  },
  {
   "cell_type": "code",
   "execution_count": null,
   "id": "2f0ca35e-6c7a-4ce1-8e33-a646b6d70928",
   "metadata": {},
   "outputs": [],
   "source": [
    "library(randomForest)\n",
    "\n",
    "rf_model <- randomForest(deposit ~ ., \n",
    "                         data=train_data, \n",
    "                         ntree=200, \n",
    "                         mtry=2, \n",
    "                         importance=TRUE) #Should importance of predictors be assessed?"
   ]
  },
  {
   "cell_type": "markdown",
   "id": "11426ff0-61c2-4304-becb-b90b3fb7bdd2",
   "metadata": {},
   "source": [
    "`ntree` - Number of trees to grow. This should not be set to too small a number, to ensure that every input row gets predicted at least a few times.\n",
    "\n",
    "`mtry` - Number of variables randomly sampled as candidates at each split."
   ]
  },
  {
   "cell_type": "code",
   "execution_count": null,
   "id": "71bfdcfb-0889-40d8-bb58-870614b0f329",
   "metadata": {},
   "outputs": [],
   "source": [
    "rf_model"
   ]
  },
  {
   "cell_type": "markdown",
   "id": "5ad56d21-95e3-485c-8dd7-c07e4dbe9917",
   "metadata": {},
   "source": [
    "Можемо провести аналіз важливості параметрів у залежності від критерію `зменшення точності` або `зменшення джині`:"
   ]
  },
  {
   "cell_type": "code",
   "execution_count": null,
   "id": "4a0597ae-bfdc-488e-aebe-a41cc0124f73",
   "metadata": {},
   "outputs": [],
   "source": [
    "varImpPlot(rf_model)"
   ]
  },
  {
   "cell_type": "markdown",
   "id": "ee5d41da-9f6f-4b61-b4a7-ade8aa729465",
   "metadata": {},
   "source": [
    "- [x] `MeanDecreaseAccuracy`: gives a rough estimate of the loss in prediction performance when that particular variable is omitted from the training set. Caveat: if two variables are somewhat redundant, then omitting one of them may not lead to massive gains in prediction performance, but would make the second variable more important.\n",
    "\n",
    "- [x] `MeanDecreaseGini`: GINI is a measure of node impurity. Think of it like this, if you use this feature to split the data, how pure will the nodes be? Highest purity means that each node contains only elements of a single class. Assessing the decrease in GINI when that feature is omitted leads to an understanding of how important that feature is to split the data correctly."
   ]
  },
  {
   "cell_type": "code",
   "execution_count": null,
   "id": "51fe01c1-c197-4c78-94fa-d821664e9a0e",
   "metadata": {},
   "outputs": [],
   "source": [
    "train_results$RF <- predict(rf_model, train_data)\n",
    "test_results$RF <- predict(rf_model, test_data)"
   ]
  },
  {
   "cell_type": "code",
   "execution_count": null,
   "id": "33b9bac8-3183-4c2a-9c82-c05d83dcb040",
   "metadata": {},
   "outputs": [],
   "source": [
    "optCutOff <- optimalCutoff(train_results$deposit, train_results$RF)\n",
    "optCutOff"
   ]
  },
  {
   "cell_type": "code",
   "execution_count": null,
   "id": "f1c42720-b3a6-4d04-986c-0356d6573a91",
   "metadata": {},
   "outputs": [],
   "source": [
    "test_results$RF_Class = ifelse(test_results$RF > optCutOff, 1, 0)"
   ]
  },
  {
   "cell_type": "markdown",
   "id": "4f2b59ac-fd24-4ac7-8e27-80948517df4d",
   "metadata": {},
   "source": [
    "ROC-крива та AUROC:"
   ]
  },
  {
   "cell_type": "code",
   "execution_count": null,
   "id": "ecb960e3-1bb1-42f7-adf6-740ace752aef",
   "metadata": {},
   "outputs": [],
   "source": [
    "plotROC(as.numeric(test_results$deposit), as.numeric(test_results$RF))"
   ]
  },
  {
   "cell_type": "code",
   "execution_count": null,
   "id": "aed74884-d3a2-4502-89b6-26aef71574db",
   "metadata": {},
   "outputs": [],
   "source": [
    "# Balanced accuracy is much better the before!\n",
    "cm <- caret::confusionMatrix(factor(test_results$deposit), \n",
    "                             factor(test_results$RF_Class), \n",
    "                             positive = \"1\")\n",
    "cm"
   ]
  },
  {
   "cell_type": "markdown",
   "id": "ed778f42-4f70-497c-a7fb-62e05cb5070d",
   "metadata": {},
   "source": [
    "Balanced accuracy is hte best for now"
   ]
  },
  {
   "cell_type": "markdown",
   "id": "0d58b8ad-bec1-4deb-822b-041d97cf5e52",
   "metadata": {},
   "source": [
    "---"
   ]
  },
  {
   "cell_type": "markdown",
   "id": "134d305f-0839-467d-a606-b9405d269153",
   "metadata": {},
   "source": [
    "## xgBoost"
   ]
  },
  {
   "cell_type": "markdown",
   "id": "3ba145ee-9381-4f31-980a-f71a4d684723",
   "metadata": {},
   "source": [
    "Our next step is testing gradient boosting with `xgboost` algorithm."
   ]
  },
  {
   "cell_type": "code",
   "execution_count": null,
   "id": "1b5251ba-eca6-4f86-a61e-bc0ee1817624",
   "metadata": {},
   "outputs": [],
   "source": [
    "library(xgboost)"
   ]
  },
  {
   "cell_type": "markdown",
   "id": "953c546f-bde1-4585-a0ae-3545efcf5de4",
   "metadata": {},
   "source": [
    "For complex algorithm like `random forest` or `xgboost` model training is the most important stage."
   ]
  },
  {
   "cell_type": "markdown",
   "id": "5ba9a4a8-1b35-4e9b-9446-3a06ef6f7658",
   "metadata": {},
   "source": [
    "XGBoost only works with numeric vectors. Therefore, you need to convert all other forms of data into numeric vectors."
   ]
  },
  {
   "cell_type": "code",
   "execution_count": null,
   "id": "865955cc-5be6-4c63-b86a-3f6bd8fc5f52",
   "metadata": {},
   "outputs": [],
   "source": [
    "train_labels <- train_data$deposit\n",
    "test_labels <- test_data$deposit\n",
    "\n",
    "xgb_train_data <- xgb.DMatrix(data = model.matrix(deposit~., data = train_data),\n",
    "                              label = train_labels)\n",
    "xgb_test_data <- xgb.DMatrix(data = model.matrix(deposit~., data = test_data),\n",
    "                              label = test_labels)\n",
    "xgb_test_data"
   ]
  },
  {
   "cell_type": "markdown",
   "id": "f5a31287-1e28-4665-85ed-6afae36802ed",
   "metadata": {},
   "source": [
    "We will train decision tree model using the following parameters:\n",
    "\n",
    "- [x] `objective = \"binary:logistic\"`: we will train a binary classification model ;\n",
    "- [x] `max.depth = 2`: the trees won’t be deep, because our case is very simple ;\n",
    "- [x] `nthread = 2`: the number of CPU threads we are going to use;\n",
    "- [x] `nrounds = 2`: there will be two passes on the data, the second one will enhance the model by further reducing the difference between ground truth and prediction."
   ]
  },
  {
   "cell_type": "code",
   "execution_count": null,
   "id": "104e1fde-acc9-49e7-ad33-fdce53319a37",
   "metadata": {},
   "outputs": [],
   "source": [
    "xgb_model <- xgboost(data = xgb_train_data, \n",
    "                     label = train_labels, \n",
    "                     max.depth = 2, \n",
    "                     #eta = 1, \n",
    "                     nthread = 2, \n",
    "                     nrounds = 2, \n",
    "                     objective = \"binary:logistic\")\n",
    "xgb_model"
   ]
  },
  {
   "cell_type": "code",
   "execution_count": null,
   "id": "3ee7f17c-a160-4b14-9813-6e7d56983ab1",
   "metadata": {},
   "outputs": [],
   "source": [
    "# predict data\n",
    "train_results$XGB <- predict(xgb_model, xgb_train_data)\n",
    "test_results$XGB <- predict(xgb_model, xgb_test_data)\n",
    "\n",
    "head(test_results)"
   ]
  },
  {
   "cell_type": "markdown",
   "id": "2b3e99e5-94f4-4998-a79d-8272d4269cd3",
   "metadata": {},
   "source": [
    "Optimal cutoff:"
   ]
  },
  {
   "cell_type": "code",
   "execution_count": null,
   "id": "7a725254-6555-46e3-9bac-60c6dfc38344",
   "metadata": {},
   "outputs": [],
   "source": [
    "optCutOff <- optimalCutoff(train_results$deposit, train_results$XGB)\n",
    "optCutOff"
   ]
  },
  {
   "cell_type": "code",
   "execution_count": null,
   "id": "0117986e-9bdb-45f2-bb91-0c6e222dd3dd",
   "metadata": {},
   "outputs": [],
   "source": [
    "# evaluate classification class\n",
    "test_results$XGB_Class = ifelse(test_results$XGB > optCutOff, 1, 0)"
   ]
  },
  {
   "cell_type": "code",
   "execution_count": null,
   "id": "22403c3c-f53e-44d0-9d23-4596b95cc5b1",
   "metadata": {},
   "outputs": [],
   "source": [
    "plotROC(as.numeric(test_results$deposit), as.numeric(test_results$XGB))"
   ]
  },
  {
   "cell_type": "code",
   "execution_count": null,
   "id": "f0ebc0de-e751-4a88-8b64-2a12537888ae",
   "metadata": {},
   "outputs": [],
   "source": [
    "# Balanced accuracy is not better, random forest wins for now!\n",
    "cm <- caret::confusionMatrix(factor(test_results$deposit), \n",
    "                             factor(test_results$XGB_Class), \n",
    "                             positive = \"1\")\n",
    "cm"
   ]
  },
  {
   "cell_type": "markdown",
   "id": "cd5e654b-00f4-4e1e-97ee-0f09c1eb8026",
   "metadata": {},
   "source": [
    "---"
   ]
  },
  {
   "cell_type": "markdown",
   "id": "3a3908d0-0c1d-4597-963d-32024a68e20a",
   "metadata": {},
   "source": [
    "## lightgbm "
   ]
  },
  {
   "cell_type": "markdown",
   "id": "1ae5f45f-0765-4a01-9f58-7dd7b8d98596",
   "metadata": {},
   "source": [
    "Light gbm is one of most useful package for machine learning. It has one super power: speed of calculations. While you using very big datasets `randomForest` and `xgBoost` work slow, but `lightgbm` works better."
   ]
  },
  {
   "cell_type": "markdown",
   "id": "8caa04c5-d0a4-40d4-ba53-7c8e2ed713a4",
   "metadata": {},
   "source": [
    "For this algorithm we should convert our data to special matrices too. So, lets install packages for example:"
   ]
  },
  {
   "cell_type": "code",
   "execution_count": null,
   "id": "17a65673-b47d-40f0-95c8-f5e088ca7bfd",
   "metadata": {},
   "outputs": [],
   "source": [
    "# ALERT sometimes you need to unistall Matrix in RSTudio and install it again\n",
    "library(Matrix)                      \n",
    "library(lightgbm)"
   ]
  },
  {
   "cell_type": "markdown",
   "id": "6ca84605-3db1-4bf6-bbf2-9fc038dc0f04",
   "metadata": {},
   "source": [
    "Lets use binning technique for data preprocessing "
   ]
  },
  {
   "cell_type": "code",
   "execution_count": null,
   "id": "d7969448-81a7-4b5a-bdff-d9f2e50bbc47",
   "metadata": {},
   "outputs": [],
   "source": [
    "library(scorecard)"
   ]
  },
  {
   "cell_type": "code",
   "execution_count": null,
   "id": "6f6c553a-1613-4330-bcc8-e2b8eb416a60",
   "metadata": {},
   "outputs": [],
   "source": [
    "vars_list <- train_data %>%\n",
    "  select(-deposit) %>%\n",
    "  names()\n",
    "vars_list"
   ]
  },
  {
   "cell_type": "code",
   "execution_count": null,
   "id": "fde9ad50-c4f4-42cb-b5ec-1ceee8ab2343",
   "metadata": {},
   "outputs": [],
   "source": [
    "bin_class <- woebin(train_data, \n",
    "                    y = \"deposit\", \n",
    "                    x = vars_list, \n",
    "                    positive = 1, # the value in deposit that indicates event                   \n",
    "                    bin_num_limit = 20)\n",
    "# bin_class - to check bins"
   ]
  },
  {
   "cell_type": "code",
   "execution_count": null,
   "id": "ef5f346b-1f20-497c-b425-7ad7d60dba5d",
   "metadata": {},
   "outputs": [],
   "source": [
    "train_woe <- woebin_ply(train_data, bin_class)\n",
    "test_woe <- woebin_ply(test_data, bin_class)\n",
    "head(train_woe)"
   ]
  },
  {
   "cell_type": "code",
   "execution_count": null,
   "id": "008a99f0-f6f2-4c7f-baca-52e32ad150f8",
   "metadata": {},
   "outputs": [],
   "source": [
    "vars_list <- train_woe %>%\n",
    "  select(-deposit) %>%\n",
    "  names() \n",
    "vars_list"
   ]
  },
  {
   "cell_type": "code",
   "execution_count": null,
   "id": "c8b27307-d1ba-4832-8226-1d5026dfd67f",
   "metadata": {},
   "outputs": [],
   "source": [
    "head(test_woe %>% select(vars_list))"
   ]
  },
  {
   "cell_type": "code",
   "execution_count": null,
   "id": "553a2523-06a4-4e14-8177-7ba73a078aac",
   "metadata": {},
   "outputs": [],
   "source": [
    "train_sparse = Matrix(as.matrix(train_woe %>% select(vars_list)), sparse=TRUE)\n",
    "test_sparse = Matrix(as.matrix(test_woe %>% select(vars_list)), sparse=TRUE)"
   ]
  },
  {
   "cell_type": "code",
   "execution_count": null,
   "id": "b3770987-ab43-41af-945f-6e3a0f64db34",
   "metadata": {},
   "outputs": [],
   "source": [
    "lgb.train = lgb.Dataset(data = train_sparse, label = train_woe$deposit, free_raw_data = FALSE)\n",
    "lgb.test = lgb.Dataset(data = test_sparse, label = test_woe$deposit, free_raw_data = FALSE)\n"
   ]
  },
  {
   "cell_type": "code",
   "execution_count": null,
   "id": "2d2283d7-b6ad-4812-a077-280959815d8a",
   "metadata": {},
   "outputs": [],
   "source": [
    "lgb.grid = list(objective = \"binary\",\n",
    "                metric = \"auc\",\n",
    "                #save_binary = T,\n",
    "                max_bin = 32,\n",
    "                num_leaves = 33)"
   ]
  },
  {
   "cell_type": "code",
   "execution_count": null,
   "id": "d180db93-1974-4313-821f-158b8c6ae7a2",
   "metadata": {},
   "outputs": [],
   "source": [
    "lgb.train.cv = lgb.train(params = lgb.grid,\n",
    "                         data = lgb.train,                         \n",
    "                         nrounds = 15,                         \n",
    "                         early_stopping_round = 300,\n",
    "                         #categorical_feature = categoricals.vec,\n",
    "                         valids = list(test = lgb.test),\n",
    "                         verbose = 1) "
   ]
  },
  {
   "cell_type": "code",
   "execution_count": null,
   "id": "3210a9ff-78c4-4ffa-b283-4116022d587d",
   "metadata": {},
   "outputs": [],
   "source": [
    "# predict data\n",
    "train_results$LGBM <- predict(lgb.train.cv, train_sparse)\n",
    "test_results$LGBM <- predict(lgb.train.cv, test_sparse)\n",
    "\n",
    "head(test_results)"
   ]
  },
  {
   "cell_type": "code",
   "execution_count": null,
   "id": "f4a2724b-48b8-4e12-bd5c-5961f450cb86",
   "metadata": {},
   "outputs": [],
   "source": [
    "# Optimal cutoff:\n",
    "\n",
    "optCutOff <- optimalCutoff(train_results$deposit, train_results$LGBM)\n",
    "optCutOff"
   ]
  },
  {
   "cell_type": "code",
   "execution_count": null,
   "id": "62a94989-bae1-4878-9067-58aa56ca02cd",
   "metadata": {},
   "outputs": [],
   "source": [
    "# evaluate classification class\n",
    "test_results$LGBM_Class = ifelse(test_results$LGBM > optCutOff, 1, 0)\n",
    "plotROC(as.numeric(test_results$deposit), as.numeric(test_results$LGBM))"
   ]
  },
  {
   "cell_type": "code",
   "execution_count": null,
   "id": "e9a01c5f-5764-4caf-a781-d33f71f06e88",
   "metadata": {},
   "outputs": [],
   "source": [
    "# Balanced accuracy is not better, random forest wins for now!\n",
    "cm <- caret::confusionMatrix(factor(test_results$deposit), \n",
    "                             factor(test_results$LGBM_Class), \n",
    "                             positive = \"1\")\n",
    "cm"
   ]
  },
  {
   "cell_type": "markdown",
   "id": "735755a6-97cb-4372-bfa4-407227c11978",
   "metadata": {},
   "source": [
    "---"
   ]
  }
 ],
 "metadata": {
  "kernelspec": {
   "display_name": "R",
   "language": "R",
   "name": "ir"
  },
  "language_info": {
   "codemirror_mode": "r",
   "file_extension": ".r",
   "mimetype": "text/x-r-source",
   "name": "R",
   "pygments_lexer": "r",
   "version": "4.1.3"
  },
  "toc-showtags": true
 },
 "nbformat": 4,
 "nbformat_minor": 5
}
