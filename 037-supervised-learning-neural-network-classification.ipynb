{
 "cells": [
  {
   "cell_type": "markdown",
   "id": "49b5cf38-b3ff-427d-96e8-039a3a59655c",
   "metadata": {},
   "source": [
    "# Нейронні мережі. Deep Learning. Класифікація. Кредитний скоринг"
   ]
  },
  {
   "cell_type": "markdown",
   "id": "eeb08ba5-292c-430a-b1fa-533d39908972",
   "metadata": {},
   "source": [
    "Курс: \"Математичне моделювання в R\""
   ]
  },
  {
   "cell_type": "markdown",
   "id": "99f43164-2fb1-4bd2-97a3-a9448bc4d41c",
   "metadata": {},
   "source": [
    "---"
   ]
  },
  {
   "cell_type": "code",
   "execution_count": 1,
   "id": "f94c1a1e-5c8f-48aa-ba8d-12d4af734ad5",
   "metadata": {},
   "outputs": [
    {
     "data": {
      "text/html": [
       "'Ukrainian_Ukraine.1251'"
      ],
      "text/latex": [
       "'Ukrainian\\_Ukraine.1251'"
      ],
      "text/markdown": [
       "'Ukrainian_Ukraine.1251'"
      ],
      "text/plain": [
       "[1] \"Ukrainian_Ukraine.1251\""
      ]
     },
     "metadata": {},
     "output_type": "display_data"
    }
   ],
   "source": [
    "Sys.setlocale(\"LC_CTYPE\", \"ukrainian\") \n",
    "options(warn = -1)"
   ]
  },
  {
   "cell_type": "markdown",
   "id": "25f234b8-f01b-4f62-a93b-ce55d011247f",
   "metadata": {},
   "source": [
    "## Набір даних"
   ]
  },
  {
   "cell_type": "markdown",
   "id": "e0a1bd8e-bdee-4692-bf86-9e87b227a58b",
   "metadata": {},
   "source": [
    "Джерело: <https://www.kaggle.com/barelydedicated/bank-customer-churn-modeling>."
   ]
  },
  {
   "cell_type": "markdown",
   "id": "8749254a-56fe-47b4-8252-7389dd63e610",
   "metadata": {},
   "source": [
    "Завантажимо файли з даними:"
   ]
  },
  {
   "cell_type": "code",
   "execution_count": 2,
   "id": "005bac71-8d54-4931-82fe-c715b0493794",
   "metadata": {},
   "outputs": [],
   "source": [
    "customers <- read.csv(\"data/customers.csv\")\n",
    "products <- read.csv(\"data/products.csv\")\n",
    "cards <- read.csv(\"data/cards.csv\")"
   ]
  },
  {
   "cell_type": "markdown",
   "id": "48fdb842-0b5a-4a4e-80b0-c04f2037d349",
   "metadata": {},
   "source": [
    "Цей датасет містить такі стовпці:\n",
    "\n",
    "- [x] `RowNumber` - номер рядка.\n",
    "- [x] `CustomerId` - ідентифікатор клієнта.\n",
    "- [x] `Surname` - прізвище клієнта.\n",
    "- [x] `CreditScore` - кредитний рейтинг клієнта.\n",
    "- [x] `Geography` - регіон.\n",
    "- [x] `Gender` - стать.\n",
    "- [x] `Age` - вік.\n",
    "- [x] `Tenure` - час обслуговування цього клієнта в банку.\n",
    "- [x] `IsActiveMember` - активний клієнт, виконує операції.\n",
    "- [x] `EstimatedSalary` - заробітна плата.\n",
    "- [x] `Exited` - залишив/не залишив банк.\n",
    "\n",
    "Інформація про клієнтів:"
   ]
  },
  {
   "cell_type": "code",
   "execution_count": 3,
   "id": "2c6fbc91-1a04-40fc-8c0a-8eb4a51164be",
   "metadata": {},
   "outputs": [
    {
     "name": "stdout",
     "output_type": "stream",
     "text": [
      "'data.frame':\t10000 obs. of  11 variables:\n",
      " $ RowNumber      : int  1 2 3 4 5 6 7 8 9 10 ...\n",
      " $ CustomerId     : int  15634602 15647311 15619304 15701354 15737888 15574012 15592531 15656148 15792365 15592389 ...\n",
      " $ Surname        : chr  \"Hargrave\" \"Hill\" \"Onio\" \"Boni\" ...\n",
      " $ CreditScore    : int  619 608 502 699 850 645 822 376 501 684 ...\n",
      " $ Geography      : chr  \"France\" \"Spain\" \"France\" \"France\" ...\n",
      " $ Gender         : chr  \"Female\" \"Female\" \"Female\" \"Female\" ...\n",
      " $ Age            : int  42 41 42 39 43 44 50 29 44 27 ...\n",
      " $ Tenure         : int  2 1 8 1 2 8 7 4 4 2 ...\n",
      " $ IsActiveMember : int  1 1 0 0 1 0 1 0 1 1 ...\n",
      " $ EstimatedSalary: num  101349 112543 113932 93827 79084 ...\n",
      " $ Exited         : int  1 0 1 0 0 1 0 1 0 0 ...\n"
     ]
    }
   ],
   "source": [
    "str(customers)"
   ]
  },
  {
   "cell_type": "code",
   "execution_count": 4,
   "id": "81660c74-5eaa-4267-aef2-548ece95b623",
   "metadata": {},
   "outputs": [
    {
     "data": {
      "text/html": [
       "<table class=\"dataframe\">\n",
       "<caption>A data.frame: 6 × 11</caption>\n",
       "<thead>\n",
       "\t<tr><th></th><th scope=col>RowNumber</th><th scope=col>CustomerId</th><th scope=col>Surname</th><th scope=col>CreditScore</th><th scope=col>Geography</th><th scope=col>Gender</th><th scope=col>Age</th><th scope=col>Tenure</th><th scope=col>IsActiveMember</th><th scope=col>EstimatedSalary</th><th scope=col>Exited</th></tr>\n",
       "\t<tr><th></th><th scope=col>&lt;int&gt;</th><th scope=col>&lt;int&gt;</th><th scope=col>&lt;chr&gt;</th><th scope=col>&lt;int&gt;</th><th scope=col>&lt;chr&gt;</th><th scope=col>&lt;chr&gt;</th><th scope=col>&lt;int&gt;</th><th scope=col>&lt;int&gt;</th><th scope=col>&lt;int&gt;</th><th scope=col>&lt;dbl&gt;</th><th scope=col>&lt;int&gt;</th></tr>\n",
       "</thead>\n",
       "<tbody>\n",
       "\t<tr><th scope=row>1</th><td>1</td><td>15634602</td><td>Hargrave</td><td>619</td><td>France</td><td>Female</td><td>42</td><td>2</td><td>1</td><td>101348.88</td><td>1</td></tr>\n",
       "\t<tr><th scope=row>2</th><td>2</td><td>15647311</td><td>Hill    </td><td>608</td><td>Spain </td><td>Female</td><td>41</td><td>1</td><td>1</td><td>112542.58</td><td>0</td></tr>\n",
       "\t<tr><th scope=row>3</th><td>3</td><td>15619304</td><td>Onio    </td><td>502</td><td>France</td><td>Female</td><td>42</td><td>8</td><td>0</td><td>113931.57</td><td>1</td></tr>\n",
       "\t<tr><th scope=row>4</th><td>4</td><td>15701354</td><td>Boni    </td><td>699</td><td>France</td><td>Female</td><td>39</td><td>1</td><td>0</td><td> 93826.63</td><td>0</td></tr>\n",
       "\t<tr><th scope=row>5</th><td>5</td><td>15737888</td><td>Mitchell</td><td>850</td><td>Spain </td><td>Female</td><td>43</td><td>2</td><td>1</td><td> 79084.10</td><td>0</td></tr>\n",
       "\t<tr><th scope=row>6</th><td>6</td><td>15574012</td><td>Chu     </td><td>645</td><td>Spain </td><td>Male  </td><td>44</td><td>8</td><td>0</td><td>149756.71</td><td>1</td></tr>\n",
       "</tbody>\n",
       "</table>\n"
      ],
      "text/latex": [
       "A data.frame: 6 × 11\n",
       "\\begin{tabular}{r|lllllllllll}\n",
       "  & RowNumber & CustomerId & Surname & CreditScore & Geography & Gender & Age & Tenure & IsActiveMember & EstimatedSalary & Exited\\\\\n",
       "  & <int> & <int> & <chr> & <int> & <chr> & <chr> & <int> & <int> & <int> & <dbl> & <int>\\\\\n",
       "\\hline\n",
       "\t1 & 1 & 15634602 & Hargrave & 619 & France & Female & 42 & 2 & 1 & 101348.88 & 1\\\\\n",
       "\t2 & 2 & 15647311 & Hill     & 608 & Spain  & Female & 41 & 1 & 1 & 112542.58 & 0\\\\\n",
       "\t3 & 3 & 15619304 & Onio     & 502 & France & Female & 42 & 8 & 0 & 113931.57 & 1\\\\\n",
       "\t4 & 4 & 15701354 & Boni     & 699 & France & Female & 39 & 1 & 0 &  93826.63 & 0\\\\\n",
       "\t5 & 5 & 15737888 & Mitchell & 850 & Spain  & Female & 43 & 2 & 1 &  79084.10 & 0\\\\\n",
       "\t6 & 6 & 15574012 & Chu      & 645 & Spain  & Male   & 44 & 8 & 0 & 149756.71 & 1\\\\\n",
       "\\end{tabular}\n"
      ],
      "text/markdown": [
       "\n",
       "A data.frame: 6 × 11\n",
       "\n",
       "| <!--/--> | RowNumber &lt;int&gt; | CustomerId &lt;int&gt; | Surname &lt;chr&gt; | CreditScore &lt;int&gt; | Geography &lt;chr&gt; | Gender &lt;chr&gt; | Age &lt;int&gt; | Tenure &lt;int&gt; | IsActiveMember &lt;int&gt; | EstimatedSalary &lt;dbl&gt; | Exited &lt;int&gt; |\n",
       "|---|---|---|---|---|---|---|---|---|---|---|---|\n",
       "| 1 | 1 | 15634602 | Hargrave | 619 | France | Female | 42 | 2 | 1 | 101348.88 | 1 |\n",
       "| 2 | 2 | 15647311 | Hill     | 608 | Spain  | Female | 41 | 1 | 1 | 112542.58 | 0 |\n",
       "| 3 | 3 | 15619304 | Onio     | 502 | France | Female | 42 | 8 | 0 | 113931.57 | 1 |\n",
       "| 4 | 4 | 15701354 | Boni     | 699 | France | Female | 39 | 1 | 0 |  93826.63 | 0 |\n",
       "| 5 | 5 | 15737888 | Mitchell | 850 | Spain  | Female | 43 | 2 | 1 |  79084.10 | 0 |\n",
       "| 6 | 6 | 15574012 | Chu      | 645 | Spain  | Male   | 44 | 8 | 0 | 149756.71 | 1 |\n",
       "\n"
      ],
      "text/plain": [
       "  RowNumber CustomerId Surname  CreditScore Geography Gender Age Tenure\n",
       "1 1         15634602   Hargrave 619         France    Female 42  2     \n",
       "2 2         15647311   Hill     608         Spain     Female 41  1     \n",
       "3 3         15619304   Onio     502         France    Female 42  8     \n",
       "4 4         15701354   Boni     699         France    Female 39  1     \n",
       "5 5         15737888   Mitchell 850         Spain     Female 43  2     \n",
       "6 6         15574012   Chu      645         Spain     Male   44  8     \n",
       "  IsActiveMember EstimatedSalary Exited\n",
       "1 1              101348.88       1     \n",
       "2 1              112542.58       0     \n",
       "3 0              113931.57       1     \n",
       "4 0               93826.63       0     \n",
       "5 1               79084.10       0     \n",
       "6 0              149756.71       1     "
      ]
     },
     "metadata": {},
     "output_type": "display_data"
    }
   ],
   "source": [
    "head(customers)"
   ]
  },
  {
   "cell_type": "markdown",
   "id": "fdee7638-d6fd-4cc8-80ef-43e615e334e3",
   "metadata": {},
   "source": [
    "## Оглядовий аналіз даних"
   ]
  },
  {
   "cell_type": "markdown",
   "id": "19b75389-4de9-49c4-b30e-91c67631216e",
   "metadata": {},
   "source": [
    "### Таблиця `customers`"
   ]
  },
  {
   "cell_type": "markdown",
   "id": "a49a0519-6f0d-4826-9d9c-4d10812cfe25",
   "metadata": {},
   "source": [
    "Оглянемо дані колекції `customers` візуально та за допомогою крос-таблиць:"
   ]
  },
  {
   "cell_type": "code",
   "execution_count": 5,
   "id": "2cd16d53-54d5-4118-8555-8db4dd0ccbc3",
   "metadata": {},
   "outputs": [],
   "source": [
    "library(gmodels)\n",
    "library(ggplot2)"
   ]
  },
  {
   "cell_type": "markdown",
   "id": "48f06cd6-0529-4ab8-869d-176c1e1e9c2c",
   "metadata": {},
   "source": [
    "Кредитний рейтинг (`CreditScore`):"
   ]
  },
  {
   "cell_type": "code",
   "execution_count": 6,
   "id": "ca161812-78ae-4a95-9a6d-dfe8f77949da",
   "metadata": {},
   "outputs": [
    {
     "data": {
      "image/png": "[encoded data removed]",
      "text/plain": [
       "plot without title"
      ]
     },
     "metadata": {
      "image/png": {
       "height": 420,
       "width": 420
      }
     },
     "output_type": "display_data"
    }
   ],
   "source": [
    "ggplot(customers, aes(x=CreditScore, fill=factor(Exited))) + \n",
    "  geom_histogram(binwidth = 10, alpha=0.7) + theme_bw() "
   ]
  },
  {
   "cell_type": "markdown",
   "id": "a6d197c2-d54b-4ae5-b45c-f2b303d91e81",
   "metadata": {},
   "source": [
    "Регіон/країна (`Geography`):"
   ]
  },
  {
   "cell_type": "code",
   "execution_count": 7,
   "id": "50d26777-5644-45ba-9c93-9ed9bc9b96fc",
   "metadata": {},
   "outputs": [
    {
     "data": {
      "image/png": "[encoded data removed]",
      "text/plain": [
       "plot without title"
      ]
     },
     "metadata": {
      "image/png": {
       "height": 420,
       "width": 420
      }
     },
     "output_type": "display_data"
    }
   ],
   "source": [
    "ggplot(customers, aes(x=Geography, fill=factor(Exited))) + \n",
    "  geom_bar(position = \"stack\") + theme_bw()"
   ]
  },
  {
   "cell_type": "code",
   "execution_count": 8,
   "id": "2ad525d3-5b51-46a2-93e5-8200ca2b1e80",
   "metadata": {},
   "outputs": [
    {
     "name": "stdout",
     "output_type": "stream",
     "text": [
      "\n",
      " \n",
      "   Cell Contents\n",
      "|-------------------------|\n",
      "|                       N |\n",
      "| Chi-square contribution |\n",
      "|           N / Row Total |\n",
      "|           N / Col Total |\n",
      "|         N / Table Total |\n",
      "|-------------------------|\n",
      "\n",
      " \n",
      "Total Observations in Table:  10000 \n",
      "\n",
      " \n",
      "                    | customers$Exited \n",
      "customers$Geography |         0 |         1 | Row Total | \n",
      "--------------------|-----------|-----------|-----------|\n",
      "             France |      4204 |       810 |      5014 | \n",
      "                    |    11.188 |    43.736 |           | \n",
      "                    |     0.838 |     0.162 |     0.501 | \n",
      "                    |     0.528 |     0.398 |           | \n",
      "                    |     0.420 |     0.081 |           | \n",
      "--------------------|-----------|-----------|-----------|\n",
      "            Germany |      1695 |       814 |      2509 | \n",
      "                    |    45.927 |   179.537 |           | \n",
      "                    |     0.676 |     0.324 |     0.251 | \n",
      "                    |     0.213 |     0.400 |           | \n",
      "                    |     0.170 |     0.081 |           | \n",
      "--------------------|-----------|-----------|-----------|\n",
      "              Spain |      2064 |       413 |      2477 | \n",
      "                    |     4.251 |    16.617 |           | \n",
      "                    |     0.833 |     0.167 |     0.248 | \n",
      "                    |     0.259 |     0.203 |           | \n",
      "                    |     0.206 |     0.041 |           | \n",
      "--------------------|-----------|-----------|-----------|\n",
      "       Column Total |      7963 |      2037 |     10000 | \n",
      "                    |     0.796 |     0.204 |           | \n",
      "--------------------|-----------|-----------|-----------|\n",
      "\n",
      " \n"
     ]
    }
   ],
   "source": [
    "CrossTable(customers$Geography, customers$Exited)"
   ]
  },
  {
   "cell_type": "markdown",
   "id": "f7877892-a5b1-47ec-9a6f-009fabaeacd7",
   "metadata": {},
   "source": [
    "Стать (`Gender`):"
   ]
  },
  {
   "cell_type": "code",
   "execution_count": 9,
   "id": "bcc4b952-6c0b-4f9e-ac1c-2dd6651b4eb5",
   "metadata": {},
   "outputs": [
    {
     "data": {
      "image/png": "[encoded data removed]",
      "text/plain": [
       "plot without title"
      ]
     },
     "metadata": {
      "image/png": {
       "height": 420,
       "width": 420
      }
     },
     "output_type": "display_data"
    }
   ],
   "source": [
    "ggplot(customers, aes(x=Gender, fill=factor(Exited))) + \n",
    "  geom_bar(position = \"stack\") + theme_bw()"
   ]
  },
  {
   "cell_type": "code",
   "execution_count": 10,
   "id": "3becc3bc-ac02-45f6-b5f9-9f6f7f663c3d",
   "metadata": {},
   "outputs": [
    {
     "name": "stdout",
     "output_type": "stream",
     "text": [
      "\n",
      " \n",
      "   Cell Contents\n",
      "|-------------------------|\n",
      "|                       N |\n",
      "| Chi-square contribution |\n",
      "|           N / Row Total |\n",
      "|           N / Col Total |\n",
      "|         N / Table Total |\n",
      "|-------------------------|\n",
      "\n",
      " \n",
      "Total Observations in Table:  10000 \n",
      "\n",
      " \n",
      "                 | customers$Exited \n",
      "customers$Gender |         0 |         1 | Row Total | \n",
      "-----------------|-----------|-----------|-----------|\n",
      "          Female |      3404 |      1139 |      4543 | \n",
      "                 |    12.611 |    49.298 |           | \n",
      "                 |     0.749 |     0.251 |     0.454 | \n",
      "                 |     0.427 |     0.559 |           | \n",
      "                 |     0.340 |     0.114 |           | \n",
      "-----------------|-----------|-----------|-----------|\n",
      "            Male |      4559 |       898 |      5457 | \n",
      "                 |    10.499 |    41.041 |           | \n",
      "                 |     0.835 |     0.165 |     0.546 | \n",
      "                 |     0.573 |     0.441 |           | \n",
      "                 |     0.456 |     0.090 |           | \n",
      "-----------------|-----------|-----------|-----------|\n",
      "    Column Total |      7963 |      2037 |     10000 | \n",
      "                 |     0.796 |     0.204 |           | \n",
      "-----------------|-----------|-----------|-----------|\n",
      "\n",
      " \n"
     ]
    }
   ],
   "source": [
    "CrossTable(customers$Gender, customers$Exited)"
   ]
  },
  {
   "cell_type": "markdown",
   "id": "6172eabd-0e80-4df7-9035-c6f12eef5574",
   "metadata": {},
   "source": [
    "Вік (`Age`):"
   ]
  },
  {
   "cell_type": "code",
   "execution_count": 11,
   "id": "a01f403e-e2ce-4cdb-8bea-f82243b4ca60",
   "metadata": {},
   "outputs": [
    {
     "data": {
      "image/png": "[encoded data removed]",
      "text/plain": [
       "plot without title"
      ]
     },
     "metadata": {
      "image/png": {
       "height": 420,
       "width": 420
      }
     },
     "output_type": "display_data"
    }
   ],
   "source": [
    "ggplot(customers, aes(x=Age, fill=factor(Exited))) + \n",
    "  geom_histogram(binwidth = 1, alpha=0.7) + theme_bw() "
   ]
  },
  {
   "cell_type": "markdown",
   "id": "68c9573d-2d06-42e9-a4dc-d24c8f266ae5",
   "metadata": {},
   "source": [
    "Час обслуговування клієнта (`Tenure`):"
   ]
  },
  {
   "cell_type": "code",
   "execution_count": 12,
   "id": "af8e6bae-b531-4e30-8707-9163e3ea5d57",
   "metadata": {},
   "outputs": [
    {
     "data": {
      "image/png": "[encoded data removed]",
      "text/plain": [
       "plot without title"
      ]
     },
     "metadata": {
      "image/png": {
       "height": 420,
       "width": 420
      }
     },
     "output_type": "display_data"
    }
   ],
   "source": [
    "ggplot(customers, aes(x=Tenure, fill=factor(Exited))) + \n",
    "  geom_histogram(binwidth = 1, alpha=0.7) + theme_bw() "
   ]
  },
  {
   "cell_type": "markdown",
   "id": "075067e6-56aa-4dfe-b72d-fc04d37a2c67",
   "metadata": {},
   "source": [
    "Активність (`IsActiveMember`):"
   ]
  },
  {
   "cell_type": "code",
   "execution_count": 13,
   "id": "f498aa99-e46e-4d34-8a18-a4a3b29c9fda",
   "metadata": {},
   "outputs": [
    {
     "name": "stdout",
     "output_type": "stream",
     "text": [
      "\n",
      " \n",
      "   Cell Contents\n",
      "|-------------------------|\n",
      "|                       N |\n",
      "| Chi-square contribution |\n",
      "|           N / Row Total |\n",
      "|           N / Col Total |\n",
      "|         N / Table Total |\n",
      "|-------------------------|\n",
      "\n",
      " \n",
      "Total Observations in Table:  10000 \n",
      "\n",
      " \n",
      "                         | customers$Exited \n",
      "customers$IsActiveMember |         0 |         1 | Row Total | \n",
      "-------------------------|-----------|-----------|-----------|\n",
      "                       0 |      3547 |      1302 |      4849 | \n",
      "                         |    25.577 |    99.984 |           | \n",
      "                         |     0.731 |     0.269 |     0.485 | \n",
      "                         |     0.445 |     0.639 |           | \n",
      "                         |     0.355 |     0.130 |           | \n",
      "-------------------------|-----------|-----------|-----------|\n",
      "                       1 |      4416 |       735 |      5151 | \n",
      "                         |    24.077 |    94.122 |           | \n",
      "                         |     0.857 |     0.143 |     0.515 | \n",
      "                         |     0.555 |     0.361 |           | \n",
      "                         |     0.442 |     0.073 |           | \n",
      "-------------------------|-----------|-----------|-----------|\n",
      "            Column Total |      7963 |      2037 |     10000 | \n",
      "                         |     0.796 |     0.204 |           | \n",
      "-------------------------|-----------|-----------|-----------|\n",
      "\n",
      " \n"
     ]
    }
   ],
   "source": [
    "CrossTable(customers$IsActiveMember, customers$Exited)"
   ]
  },
  {
   "cell_type": "markdown",
   "id": "20b9deb9-ce8d-4b87-aa8c-090baafc9f59",
   "metadata": {},
   "source": [
    "Заробітна плата (`EstimatedSalary`):"
   ]
  },
  {
   "cell_type": "code",
   "execution_count": 14,
   "id": "e93b4c2e-bd96-4246-8c02-6f0844d1f49f",
   "metadata": {},
   "outputs": [
    {
     "data": {
      "image/png": "[encoded data removed]",
      "text/plain": [
       "plot without title"
      ]
     },
     "metadata": {
      "image/png": {
       "height": 420,
       "width": 420
      }
     },
     "output_type": "display_data"
    }
   ],
   "source": [
    "ggplot(customers, aes(x=EstimatedSalary, fill=factor(Exited))) + \n",
    "  geom_histogram(binwidth = 1000, alpha=0.7) + theme_bw() "
   ]
  },
  {
   "cell_type": "markdown",
   "id": "9603b5c9-ec7c-4609-87a9-b08b46976714",
   "metadata": {},
   "source": [
    "`Exited`:"
   ]
  },
  {
   "cell_type": "code",
   "execution_count": 15,
   "id": "12c71b70-d15a-407d-9355-a707c4433f9c",
   "metadata": {},
   "outputs": [
    {
     "name": "stdout",
     "output_type": "stream",
     "text": [
      "\n",
      " \n",
      "   Cell Contents\n",
      "|-------------------------|\n",
      "|                       N |\n",
      "|         N / Table Total |\n",
      "|-------------------------|\n",
      "\n",
      " \n",
      "Total Observations in Table:  10000 \n",
      "\n",
      " \n",
      "          |         0 |         1 | \n",
      "          |-----------|-----------|\n",
      "          |      7963 |      2037 | \n",
      "          |     0.796 |     0.204 | \n",
      "          |-----------|-----------|\n",
      "\n",
      "\n",
      "\n",
      " \n"
     ]
    }
   ],
   "source": [
    "CrossTable(customers$Exited)"
   ]
  },
  {
   "cell_type": "markdown",
   "id": "0f8f870f-3ee5-4948-b500-b457c68c3c51",
   "metadata": {},
   "source": [
    "---"
   ]
  },
  {
   "cell_type": "markdown",
   "id": "2ae2e220-e952-4039-8607-baca636e8c74",
   "metadata": {},
   "source": [
    "### Таблиця `cards`"
   ]
  },
  {
   "cell_type": "markdown",
   "id": "64f68197-408d-4319-9405-f17402693282",
   "metadata": {},
   "source": [
    "Інформація про карти клієнта:"
   ]
  },
  {
   "cell_type": "code",
   "execution_count": 16,
   "id": "74042127-bac7-48a9-af23-30be404df27d",
   "metadata": {},
   "outputs": [
    {
     "name": "stdout",
     "output_type": "stream",
     "text": [
      "'data.frame':\t13545 obs. of  4 variables:\n",
      " $ CustomerId  : int  15634602 15647311 15647311 15619304 15619304 15701354 15701354 15737888 15737888 15574012 ...\n",
      " $ CardNo      : int  684618 357092 802678 888594 987103 507476 928960 370210 935036 581042 ...\n",
      " $ IsCreditCard: int  1 0 0 1 0 0 0 1 0 1 ...\n",
      " $ Balance     : num  5 41922 41913 79846 79859 ...\n"
     ]
    }
   ],
   "source": [
    "str(cards)"
   ]
  },
  {
   "cell_type": "code",
   "execution_count": 17,
   "id": "98744e35-28b1-4f7f-8eaf-e2b767ec0316",
   "metadata": {},
   "outputs": [
    {
     "data": {
      "text/html": [
       "<table class=\"dataframe\">\n",
       "<caption>A data.frame: 6 × 4</caption>\n",
       "<thead>\n",
       "\t<tr><th></th><th scope=col>CustomerId</th><th scope=col>CardNo</th><th scope=col>IsCreditCard</th><th scope=col>Balance</th></tr>\n",
       "\t<tr><th></th><th scope=col>&lt;int&gt;</th><th scope=col>&lt;int&gt;</th><th scope=col>&lt;int&gt;</th><th scope=col>&lt;dbl&gt;</th></tr>\n",
       "</thead>\n",
       "<tbody>\n",
       "\t<tr><th scope=row>1</th><td>15634602</td><td>684618</td><td>1</td><td>    5.00</td></tr>\n",
       "\t<tr><th scope=row>2</th><td>15647311</td><td>357092</td><td>0</td><td>41921.93</td></tr>\n",
       "\t<tr><th scope=row>3</th><td>15647311</td><td>802678</td><td>0</td><td>41912.93</td></tr>\n",
       "\t<tr><th scope=row>4</th><td>15619304</td><td>888594</td><td>1</td><td>79846.40</td></tr>\n",
       "\t<tr><th scope=row>5</th><td>15619304</td><td>987103</td><td>0</td><td>79859.40</td></tr>\n",
       "\t<tr><th scope=row>6</th><td>15701354</td><td>507476</td><td>0</td><td>   28.00</td></tr>\n",
       "</tbody>\n",
       "</table>\n"
      ],
      "text/latex": [
       "A data.frame: 6 × 4\n",
       "\\begin{tabular}{r|llll}\n",
       "  & CustomerId & CardNo & IsCreditCard & Balance\\\\\n",
       "  & <int> & <int> & <int> & <dbl>\\\\\n",
       "\\hline\n",
       "\t1 & 15634602 & 684618 & 1 &     5.00\\\\\n",
       "\t2 & 15647311 & 357092 & 0 & 41921.93\\\\\n",
       "\t3 & 15647311 & 802678 & 0 & 41912.93\\\\\n",
       "\t4 & 15619304 & 888594 & 1 & 79846.40\\\\\n",
       "\t5 & 15619304 & 987103 & 0 & 79859.40\\\\\n",
       "\t6 & 15701354 & 507476 & 0 &    28.00\\\\\n",
       "\\end{tabular}\n"
      ],
      "text/markdown": [
       "\n",
       "A data.frame: 6 × 4\n",
       "\n",
       "| <!--/--> | CustomerId &lt;int&gt; | CardNo &lt;int&gt; | IsCreditCard &lt;int&gt; | Balance &lt;dbl&gt; |\n",
       "|---|---|---|---|---|\n",
       "| 1 | 15634602 | 684618 | 1 |     5.00 |\n",
       "| 2 | 15647311 | 357092 | 0 | 41921.93 |\n",
       "| 3 | 15647311 | 802678 | 0 | 41912.93 |\n",
       "| 4 | 15619304 | 888594 | 1 | 79846.40 |\n",
       "| 5 | 15619304 | 987103 | 0 | 79859.40 |\n",
       "| 6 | 15701354 | 507476 | 0 |    28.00 |\n",
       "\n"
      ],
      "text/plain": [
       "  CustomerId CardNo IsCreditCard Balance \n",
       "1 15634602   684618 1                5.00\n",
       "2 15647311   357092 0            41921.93\n",
       "3 15647311   802678 0            41912.93\n",
       "4 15619304   888594 1            79846.40\n",
       "5 15619304   987103 0            79859.40\n",
       "6 15701354   507476 0               28.00"
      ]
     },
     "metadata": {},
     "output_type": "display_data"
    }
   ],
   "source": [
    "head(cards)"
   ]
  },
  {
   "cell_type": "code",
   "execution_count": 18,
   "id": "da1b190c-1abb-4be4-b6c1-6d2d6c1117eb",
   "metadata": {},
   "outputs": [
    {
     "data": {
      "text/plain": [
       "   CustomerId           CardNo        IsCreditCard       Balance      \n",
       " Min.   :15565701   Min.   :100231   Min.   :0.0000   Min.   :     0  \n",
       " 1st Qu.:15628272   1st Qu.:323587   1st Qu.:0.0000   1st Qu.:    24  \n",
       " Median :15691011   Median :545073   Median :0.0000   Median : 52991  \n",
       " Mean   :15690848   Mean   :548414   Mean   :0.4688   Mean   : 51096  \n",
       " 3rd Qu.:15752816   3rd Qu.:774943   3rd Qu.:1.0000   3rd Qu.: 77276  \n",
       " Max.   :15815690   Max.   :999985   Max.   :1.0000   Max.   :221549  "
      ]
     },
     "metadata": {},
     "output_type": "display_data"
    }
   ],
   "source": [
    "summary(cards)"
   ]
  },
  {
   "cell_type": "markdown",
   "id": "6a624153-eba4-4167-8d4a-c05d2ce2a529",
   "metadata": {},
   "source": [
    "---"
   ]
  },
  {
   "cell_type": "markdown",
   "id": "df723814-6b35-4e73-b92e-98c213947b87",
   "metadata": {},
   "source": [
    "### Таблиця `products`"
   ]
  },
  {
   "cell_type": "markdown",
   "id": "33063613-0d6c-49c9-8f09-ec368491d4c6",
   "metadata": {},
   "source": [
    "Інформація про продукти клієнта:"
   ]
  },
  {
   "cell_type": "code",
   "execution_count": 19,
   "id": "e65a36d7-b1e8-401c-9beb-388489153ab6",
   "metadata": {},
   "outputs": [
    {
     "name": "stdout",
     "output_type": "stream",
     "text": [
      "'data.frame':\t13862 obs. of  2 variables:\n",
      " $ CustomerId : int  15634602 15647311 15619304 15619304 15619304 15701354 15701354 15737888 15574012 15574012 ...\n",
      " $ ProductName: chr  \"PROD_1\" \"PROD_1\" \"PROD_1\" \"PROD_2\" ...\n"
     ]
    }
   ],
   "source": [
    "str(products)"
   ]
  },
  {
   "cell_type": "code",
   "execution_count": 20,
   "id": "99813bfd-bd6a-44f1-82e9-5c52980c271a",
   "metadata": {},
   "outputs": [
    {
     "data": {
      "text/html": [
       "<table class=\"dataframe\">\n",
       "<caption>A data.frame: 6 × 2</caption>\n",
       "<thead>\n",
       "\t<tr><th></th><th scope=col>CustomerId</th><th scope=col>ProductName</th></tr>\n",
       "\t<tr><th></th><th scope=col>&lt;int&gt;</th><th scope=col>&lt;chr&gt;</th></tr>\n",
       "</thead>\n",
       "<tbody>\n",
       "\t<tr><th scope=row>1</th><td>15634602</td><td>PROD_1</td></tr>\n",
       "\t<tr><th scope=row>2</th><td>15647311</td><td>PROD_1</td></tr>\n",
       "\t<tr><th scope=row>3</th><td>15619304</td><td>PROD_1</td></tr>\n",
       "\t<tr><th scope=row>4</th><td>15619304</td><td>PROD_2</td></tr>\n",
       "\t<tr><th scope=row>5</th><td>15619304</td><td>PROD_3</td></tr>\n",
       "\t<tr><th scope=row>6</th><td>15701354</td><td>PROD_1</td></tr>\n",
       "</tbody>\n",
       "</table>\n"
      ],
      "text/latex": [
       "A data.frame: 6 × 2\n",
       "\\begin{tabular}{r|ll}\n",
       "  & CustomerId & ProductName\\\\\n",
       "  & <int> & <chr>\\\\\n",
       "\\hline\n",
       "\t1 & 15634602 & PROD\\_1\\\\\n",
       "\t2 & 15647311 & PROD\\_1\\\\\n",
       "\t3 & 15619304 & PROD\\_1\\\\\n",
       "\t4 & 15619304 & PROD\\_2\\\\\n",
       "\t5 & 15619304 & PROD\\_3\\\\\n",
       "\t6 & 15701354 & PROD\\_1\\\\\n",
       "\\end{tabular}\n"
      ],
      "text/markdown": [
       "\n",
       "A data.frame: 6 × 2\n",
       "\n",
       "| <!--/--> | CustomerId &lt;int&gt; | ProductName &lt;chr&gt; |\n",
       "|---|---|---|\n",
       "| 1 | 15634602 | PROD_1 |\n",
       "| 2 | 15647311 | PROD_1 |\n",
       "| 3 | 15619304 | PROD_1 |\n",
       "| 4 | 15619304 | PROD_2 |\n",
       "| 5 | 15619304 | PROD_3 |\n",
       "| 6 | 15701354 | PROD_1 |\n",
       "\n"
      ],
      "text/plain": [
       "  CustomerId ProductName\n",
       "1 15634602   PROD_1     \n",
       "2 15647311   PROD_1     \n",
       "3 15619304   PROD_1     \n",
       "4 15619304   PROD_2     \n",
       "5 15619304   PROD_3     \n",
       "6 15701354   PROD_1     "
      ]
     },
     "metadata": {},
     "output_type": "display_data"
    }
   ],
   "source": [
    "head(products)"
   ]
  },
  {
   "cell_type": "markdown",
   "id": "35fe7c1a-63bf-46b0-b631-7e101722d34c",
   "metadata": {},
   "source": [
    "---"
   ]
  },
  {
   "cell_type": "markdown",
   "id": "1e41f5cb-0b9d-4ceb-bea8-e926edcafc9a",
   "metadata": {},
   "source": [
    "## Feature engeniering"
   ]
  },
  {
   "cell_type": "markdown",
   "id": "c8ddf116-d0c3-49c2-976e-333e33c0d842",
   "metadata": {},
   "source": [
    "Сформуємо додаткові змінні на основі наявних даних:\n",
    "\n",
    "- [x] `Balance` - сума по усіх картах клієнат.\n",
    "- [x] `NumOfProducts` - кількість продуктів банку, які використовує клієнт.\n",
    "- [x] `HasCreditCard` - dummy-змінна, наявність кредитної карти у клієнта."
   ]
  },
  {
   "cell_type": "markdown",
   "id": "75f94287-c7f9-4f6e-8637-d56487c7a08a",
   "metadata": {},
   "source": [
    "### Показник `NumOfProducts`"
   ]
  },
  {
   "cell_type": "markdown",
   "id": "d1e910b3-2a4a-4b82-988a-e642a81ac5bf",
   "metadata": {},
   "source": [
    "Варто звернути увагу, що генерувати нові фічі можна із використанням можлиовстей агрегації та фільтрування даних (наприклад, методи пакету `dplyr`) або за допомогою простих алгоритмічних структур (цикли, розгалуження). \n",
    "\n",
    "Для `R` використання циклів для подібних задач є не досить хорошим рішенням, адже код виглядає складно і виконується повільно. Проте ми напишемо для требування і пояснення приклади з використанням обох підходів."
   ]
  },
  {
   "cell_type": "markdown",
   "id": "02247ac9-24a6-44ed-91e7-80a2a2c1950e",
   "metadata": {},
   "source": [
    "Імперативний підхід до програмування:"
   ]
  },
  {
   "cell_type": "code",
   "execution_count": 21,
   "id": "1489b427-48db-4cba-b217-85566885d396",
   "metadata": {},
   "outputs": [
    {
     "data": {
      "text/html": [
       "<table class=\"dataframe\">\n",
       "<caption>A data.frame: 4 × 12</caption>\n",
       "<thead>\n",
       "\t<tr><th></th><th scope=col>RowNumber</th><th scope=col>CustomerId</th><th scope=col>Surname</th><th scope=col>CreditScore</th><th scope=col>Geography</th><th scope=col>Gender</th><th scope=col>Age</th><th scope=col>Tenure</th><th scope=col>IsActiveMember</th><th scope=col>EstimatedSalary</th><th scope=col>Exited</th><th scope=col>NumOfProducts</th></tr>\n",
       "\t<tr><th></th><th scope=col>&lt;int&gt;</th><th scope=col>&lt;int&gt;</th><th scope=col>&lt;chr&gt;</th><th scope=col>&lt;int&gt;</th><th scope=col>&lt;chr&gt;</th><th scope=col>&lt;chr&gt;</th><th scope=col>&lt;int&gt;</th><th scope=col>&lt;int&gt;</th><th scope=col>&lt;int&gt;</th><th scope=col>&lt;dbl&gt;</th><th scope=col>&lt;int&gt;</th><th scope=col>&lt;dbl&gt;</th></tr>\n",
       "</thead>\n",
       "<tbody>\n",
       "\t<tr><th scope=row>1</th><td>1</td><td>15634602</td><td>Hargrave</td><td>619</td><td>France</td><td>Female</td><td>42</td><td>2</td><td>1</td><td>101348.88</td><td>1</td><td>1</td></tr>\n",
       "\t<tr><th scope=row>2</th><td>2</td><td>15647311</td><td>Hill    </td><td>608</td><td>Spain </td><td>Female</td><td>41</td><td>1</td><td>1</td><td>112542.58</td><td>0</td><td>1</td></tr>\n",
       "\t<tr><th scope=row>3</th><td>3</td><td>15619304</td><td>Onio    </td><td>502</td><td>France</td><td>Female</td><td>42</td><td>8</td><td>0</td><td>113931.57</td><td>1</td><td>3</td></tr>\n",
       "\t<tr><th scope=row>4</th><td>4</td><td>15701354</td><td>Boni    </td><td>699</td><td>France</td><td>Female</td><td>39</td><td>1</td><td>0</td><td> 93826.63</td><td>0</td><td>2</td></tr>\n",
       "</tbody>\n",
       "</table>\n"
      ],
      "text/latex": [
       "A data.frame: 4 × 12\n",
       "\\begin{tabular}{r|llllllllllll}\n",
       "  & RowNumber & CustomerId & Surname & CreditScore & Geography & Gender & Age & Tenure & IsActiveMember & EstimatedSalary & Exited & NumOfProducts\\\\\n",
       "  & <int> & <int> & <chr> & <int> & <chr> & <chr> & <int> & <int> & <int> & <dbl> & <int> & <dbl>\\\\\n",
       "\\hline\n",
       "\t1 & 1 & 15634602 & Hargrave & 619 & France & Female & 42 & 2 & 1 & 101348.88 & 1 & 1\\\\\n",
       "\t2 & 2 & 15647311 & Hill     & 608 & Spain  & Female & 41 & 1 & 1 & 112542.58 & 0 & 1\\\\\n",
       "\t3 & 3 & 15619304 & Onio     & 502 & France & Female & 42 & 8 & 0 & 113931.57 & 1 & 3\\\\\n",
       "\t4 & 4 & 15701354 & Boni     & 699 & France & Female & 39 & 1 & 0 &  93826.63 & 0 & 2\\\\\n",
       "\\end{tabular}\n"
      ],
      "text/markdown": [
       "\n",
       "A data.frame: 4 × 12\n",
       "\n",
       "| <!--/--> | RowNumber &lt;int&gt; | CustomerId &lt;int&gt; | Surname &lt;chr&gt; | CreditScore &lt;int&gt; | Geography &lt;chr&gt; | Gender &lt;chr&gt; | Age &lt;int&gt; | Tenure &lt;int&gt; | IsActiveMember &lt;int&gt; | EstimatedSalary &lt;dbl&gt; | Exited &lt;int&gt; | NumOfProducts &lt;dbl&gt; |\n",
       "|---|---|---|---|---|---|---|---|---|---|---|---|---|\n",
       "| 1 | 1 | 15634602 | Hargrave | 619 | France | Female | 42 | 2 | 1 | 101348.88 | 1 | 1 |\n",
       "| 2 | 2 | 15647311 | Hill     | 608 | Spain  | Female | 41 | 1 | 1 | 112542.58 | 0 | 1 |\n",
       "| 3 | 3 | 15619304 | Onio     | 502 | France | Female | 42 | 8 | 0 | 113931.57 | 1 | 3 |\n",
       "| 4 | 4 | 15701354 | Boni     | 699 | France | Female | 39 | 1 | 0 |  93826.63 | 0 | 2 |\n",
       "\n"
      ],
      "text/plain": [
       "  RowNumber CustomerId Surname  CreditScore Geography Gender Age Tenure\n",
       "1 1         15634602   Hargrave 619         France    Female 42  2     \n",
       "2 2         15647311   Hill     608         Spain     Female 41  1     \n",
       "3 3         15619304   Onio     502         France    Female 42  8     \n",
       "4 4         15701354   Boni     699         France    Female 39  1     \n",
       "  IsActiveMember EstimatedSalary Exited NumOfProducts\n",
       "1 1              101348.88       1      1            \n",
       "2 1              112542.58       0      1            \n",
       "3 0              113931.57       1      3            \n",
       "4 0               93826.63       0      2            "
      ]
     },
     "metadata": {},
     "output_type": "display_data"
    }
   ],
   "source": [
    "# Створюємо пусту змінну\n",
    "customers$NumOfProducts <- c(0)\n",
    "\n",
    "for(i in 1:nrow(customers))\n",
    "{\n",
    "  id <- customers$CustomerId[i]\n",
    "  prods <- subset(products, CustomerId == id)\n",
    "  customers$NumOfProducts[i] <- nrow(prods)\n",
    "}\n",
    "\n",
    "head(customers, 4)"
   ]
  },
  {
   "cell_type": "markdown",
   "id": "0515be8d-8ac1-4d6e-8183-db36dd360bc3",
   "metadata": {},
   "source": [
    "Декларативний приклад коду:"
   ]
  },
  {
   "cell_type": "code",
   "execution_count": 22,
   "id": "9f41a881-c8dc-4941-b837-2f7392679904",
   "metadata": {},
   "outputs": [
    {
     "name": "stderr",
     "output_type": "stream",
     "text": [
      "\n",
      "Attaching package: 'dplyr'\n",
      "\n",
      "\n",
      "The following objects are masked from 'package:stats':\n",
      "\n",
      "    filter, lag\n",
      "\n",
      "\n",
      "The following objects are masked from 'package:base':\n",
      "\n",
      "    intersect, setdiff, setequal, union\n",
      "\n",
      "\n"
     ]
    },
    {
     "data": {
      "text/html": [
       "<table class=\"dataframe\">\n",
       "<caption>A data.frame: 4 × 13</caption>\n",
       "<thead>\n",
       "\t<tr><th></th><th scope=col>RowNumber</th><th scope=col>CustomerId</th><th scope=col>Surname</th><th scope=col>CreditScore</th><th scope=col>Geography</th><th scope=col>Gender</th><th scope=col>Age</th><th scope=col>Tenure</th><th scope=col>IsActiveMember</th><th scope=col>EstimatedSalary</th><th scope=col>Exited</th><th scope=col>NumOfProducts.x</th><th scope=col>NumOfProducts.y</th></tr>\n",
       "\t<tr><th></th><th scope=col>&lt;int&gt;</th><th scope=col>&lt;int&gt;</th><th scope=col>&lt;chr&gt;</th><th scope=col>&lt;int&gt;</th><th scope=col>&lt;chr&gt;</th><th scope=col>&lt;chr&gt;</th><th scope=col>&lt;int&gt;</th><th scope=col>&lt;int&gt;</th><th scope=col>&lt;int&gt;</th><th scope=col>&lt;dbl&gt;</th><th scope=col>&lt;int&gt;</th><th scope=col>&lt;dbl&gt;</th><th scope=col>&lt;int&gt;</th></tr>\n",
       "</thead>\n",
       "<tbody>\n",
       "\t<tr><th scope=row>1</th><td>1</td><td>15634602</td><td>Hargrave</td><td>619</td><td>France</td><td>Female</td><td>42</td><td>2</td><td>1</td><td>101348.88</td><td>1</td><td>1</td><td>1</td></tr>\n",
       "\t<tr><th scope=row>2</th><td>2</td><td>15647311</td><td>Hill    </td><td>608</td><td>Spain </td><td>Female</td><td>41</td><td>1</td><td>1</td><td>112542.58</td><td>0</td><td>1</td><td>1</td></tr>\n",
       "\t<tr><th scope=row>3</th><td>3</td><td>15619304</td><td>Onio    </td><td>502</td><td>France</td><td>Female</td><td>42</td><td>8</td><td>0</td><td>113931.57</td><td>1</td><td>3</td><td>3</td></tr>\n",
       "\t<tr><th scope=row>4</th><td>4</td><td>15701354</td><td>Boni    </td><td>699</td><td>France</td><td>Female</td><td>39</td><td>1</td><td>0</td><td> 93826.63</td><td>0</td><td>2</td><td>2</td></tr>\n",
       "</tbody>\n",
       "</table>\n"
      ],
      "text/latex": [
       "A data.frame: 4 × 13\n",
       "\\begin{tabular}{r|lllllllllllll}\n",
       "  & RowNumber & CustomerId & Surname & CreditScore & Geography & Gender & Age & Tenure & IsActiveMember & EstimatedSalary & Exited & NumOfProducts.x & NumOfProducts.y\\\\\n",
       "  & <int> & <int> & <chr> & <int> & <chr> & <chr> & <int> & <int> & <int> & <dbl> & <int> & <dbl> & <int>\\\\\n",
       "\\hline\n",
       "\t1 & 1 & 15634602 & Hargrave & 619 & France & Female & 42 & 2 & 1 & 101348.88 & 1 & 1 & 1\\\\\n",
       "\t2 & 2 & 15647311 & Hill     & 608 & Spain  & Female & 41 & 1 & 1 & 112542.58 & 0 & 1 & 1\\\\\n",
       "\t3 & 3 & 15619304 & Onio     & 502 & France & Female & 42 & 8 & 0 & 113931.57 & 1 & 3 & 3\\\\\n",
       "\t4 & 4 & 15701354 & Boni     & 699 & France & Female & 39 & 1 & 0 &  93826.63 & 0 & 2 & 2\\\\\n",
       "\\end{tabular}\n"
      ],
      "text/markdown": [
       "\n",
       "A data.frame: 4 × 13\n",
       "\n",
       "| <!--/--> | RowNumber &lt;int&gt; | CustomerId &lt;int&gt; | Surname &lt;chr&gt; | CreditScore &lt;int&gt; | Geography &lt;chr&gt; | Gender &lt;chr&gt; | Age &lt;int&gt; | Tenure &lt;int&gt; | IsActiveMember &lt;int&gt; | EstimatedSalary &lt;dbl&gt; | Exited &lt;int&gt; | NumOfProducts.x &lt;dbl&gt; | NumOfProducts.y &lt;int&gt; |\n",
       "|---|---|---|---|---|---|---|---|---|---|---|---|---|---|\n",
       "| 1 | 1 | 15634602 | Hargrave | 619 | France | Female | 42 | 2 | 1 | 101348.88 | 1 | 1 | 1 |\n",
       "| 2 | 2 | 15647311 | Hill     | 608 | Spain  | Female | 41 | 1 | 1 | 112542.58 | 0 | 1 | 1 |\n",
       "| 3 | 3 | 15619304 | Onio     | 502 | France | Female | 42 | 8 | 0 | 113931.57 | 1 | 3 | 3 |\n",
       "| 4 | 4 | 15701354 | Boni     | 699 | France | Female | 39 | 1 | 0 |  93826.63 | 0 | 2 | 2 |\n",
       "\n"
      ],
      "text/plain": [
       "  RowNumber CustomerId Surname  CreditScore Geography Gender Age Tenure\n",
       "1 1         15634602   Hargrave 619         France    Female 42  2     \n",
       "2 2         15647311   Hill     608         Spain     Female 41  1     \n",
       "3 3         15619304   Onio     502         France    Female 42  8     \n",
       "4 4         15701354   Boni     699         France    Female 39  1     \n",
       "  IsActiveMember EstimatedSalary Exited NumOfProducts.x NumOfProducts.y\n",
       "1 1              101348.88       1      1               1              \n",
       "2 1              112542.58       0      1               1              \n",
       "3 0              113931.57       1      3               3              \n",
       "4 0               93826.63       0      2               2              "
      ]
     },
     "metadata": {},
     "output_type": "display_data"
    }
   ],
   "source": [
    "library(dplyr)\n",
    "\n",
    "customers_tmp <- customers |>\n",
    "    left_join(products |> \n",
    "              group_by(CustomerId) |> \n",
    "              mutate(NumOfProducts = n()) |>\n",
    "              select(CustomerId, NumOfProducts) |> distinct(), by = \"CustomerId\")\n",
    "\n",
    "head(customers_tmp, 4)\n",
    "\n",
    "# P.S. Це набагато швидше"
   ]
  },
  {
   "cell_type": "markdown",
   "id": "6bdba13d-4e3b-462f-9d71-007c7a166f70",
   "metadata": {},
   "source": [
    "---"
   ]
  },
  {
   "cell_type": "markdown",
   "id": "f73e9dbb-6daf-4160-9555-589e3316f44d",
   "metadata": {},
   "source": [
    "### Показник `HasCreditCard`"
   ]
  },
  {
   "cell_type": "code",
   "execution_count": 23,
   "id": "d1e7cc31-9315-4c8b-867b-dfc17b0e0d14",
   "metadata": {},
   "outputs": [
    {
     "data": {
      "text/html": [
       "<table class=\"dataframe\">\n",
       "<caption>A data.frame: 4 × 13</caption>\n",
       "<thead>\n",
       "\t<tr><th></th><th scope=col>RowNumber</th><th scope=col>CustomerId</th><th scope=col>Surname</th><th scope=col>CreditScore</th><th scope=col>Geography</th><th scope=col>Gender</th><th scope=col>Age</th><th scope=col>Tenure</th><th scope=col>IsActiveMember</th><th scope=col>EstimatedSalary</th><th scope=col>Exited</th><th scope=col>NumOfProducts</th><th scope=col>HasCreditCard</th></tr>\n",
       "\t<tr><th></th><th scope=col>&lt;int&gt;</th><th scope=col>&lt;int&gt;</th><th scope=col>&lt;chr&gt;</th><th scope=col>&lt;int&gt;</th><th scope=col>&lt;chr&gt;</th><th scope=col>&lt;chr&gt;</th><th scope=col>&lt;int&gt;</th><th scope=col>&lt;int&gt;</th><th scope=col>&lt;int&gt;</th><th scope=col>&lt;dbl&gt;</th><th scope=col>&lt;int&gt;</th><th scope=col>&lt;dbl&gt;</th><th scope=col>&lt;dbl&gt;</th></tr>\n",
       "</thead>\n",
       "<tbody>\n",
       "\t<tr><th scope=row>1</th><td>1</td><td>15634602</td><td>Hargrave</td><td>619</td><td>France</td><td>Female</td><td>42</td><td>2</td><td>1</td><td>101348.88</td><td>1</td><td>1</td><td>1</td></tr>\n",
       "\t<tr><th scope=row>2</th><td>2</td><td>15647311</td><td>Hill    </td><td>608</td><td>Spain </td><td>Female</td><td>41</td><td>1</td><td>1</td><td>112542.58</td><td>0</td><td>1</td><td>0</td></tr>\n",
       "\t<tr><th scope=row>3</th><td>3</td><td>15619304</td><td>Onio    </td><td>502</td><td>France</td><td>Female</td><td>42</td><td>8</td><td>0</td><td>113931.57</td><td>1</td><td>3</td><td>1</td></tr>\n",
       "\t<tr><th scope=row>4</th><td>4</td><td>15701354</td><td>Boni    </td><td>699</td><td>France</td><td>Female</td><td>39</td><td>1</td><td>0</td><td> 93826.63</td><td>0</td><td>2</td><td>0</td></tr>\n",
       "</tbody>\n",
       "</table>\n"
      ],
      "text/latex": [
       "A data.frame: 4 × 13\n",
       "\\begin{tabular}{r|lllllllllllll}\n",
       "  & RowNumber & CustomerId & Surname & CreditScore & Geography & Gender & Age & Tenure & IsActiveMember & EstimatedSalary & Exited & NumOfProducts & HasCreditCard\\\\\n",
       "  & <int> & <int> & <chr> & <int> & <chr> & <chr> & <int> & <int> & <int> & <dbl> & <int> & <dbl> & <dbl>\\\\\n",
       "\\hline\n",
       "\t1 & 1 & 15634602 & Hargrave & 619 & France & Female & 42 & 2 & 1 & 101348.88 & 1 & 1 & 1\\\\\n",
       "\t2 & 2 & 15647311 & Hill     & 608 & Spain  & Female & 41 & 1 & 1 & 112542.58 & 0 & 1 & 0\\\\\n",
       "\t3 & 3 & 15619304 & Onio     & 502 & France & Female & 42 & 8 & 0 & 113931.57 & 1 & 3 & 1\\\\\n",
       "\t4 & 4 & 15701354 & Boni     & 699 & France & Female & 39 & 1 & 0 &  93826.63 & 0 & 2 & 0\\\\\n",
       "\\end{tabular}\n"
      ],
      "text/markdown": [
       "\n",
       "A data.frame: 4 × 13\n",
       "\n",
       "| <!--/--> | RowNumber &lt;int&gt; | CustomerId &lt;int&gt; | Surname &lt;chr&gt; | CreditScore &lt;int&gt; | Geography &lt;chr&gt; | Gender &lt;chr&gt; | Age &lt;int&gt; | Tenure &lt;int&gt; | IsActiveMember &lt;int&gt; | EstimatedSalary &lt;dbl&gt; | Exited &lt;int&gt; | NumOfProducts &lt;dbl&gt; | HasCreditCard &lt;dbl&gt; |\n",
       "|---|---|---|---|---|---|---|---|---|---|---|---|---|---|\n",
       "| 1 | 1 | 15634602 | Hargrave | 619 | France | Female | 42 | 2 | 1 | 101348.88 | 1 | 1 | 1 |\n",
       "| 2 | 2 | 15647311 | Hill     | 608 | Spain  | Female | 41 | 1 | 1 | 112542.58 | 0 | 1 | 0 |\n",
       "| 3 | 3 | 15619304 | Onio     | 502 | France | Female | 42 | 8 | 0 | 113931.57 | 1 | 3 | 1 |\n",
       "| 4 | 4 | 15701354 | Boni     | 699 | France | Female | 39 | 1 | 0 |  93826.63 | 0 | 2 | 0 |\n",
       "\n"
      ],
      "text/plain": [
       "  RowNumber CustomerId Surname  CreditScore Geography Gender Age Tenure\n",
       "1 1         15634602   Hargrave 619         France    Female 42  2     \n",
       "2 2         15647311   Hill     608         Spain     Female 41  1     \n",
       "3 3         15619304   Onio     502         France    Female 42  8     \n",
       "4 4         15701354   Boni     699         France    Female 39  1     \n",
       "  IsActiveMember EstimatedSalary Exited NumOfProducts HasCreditCard\n",
       "1 1              101348.88       1      1             1            \n",
       "2 1              112542.58       0      1             0            \n",
       "3 0              113931.57       1      3             1            \n",
       "4 0               93826.63       0      2             0            "
      ]
     },
     "metadata": {},
     "output_type": "display_data"
    }
   ],
   "source": [
    "customers <- customers |>\n",
    "    left_join(cards |> \n",
    "              group_by(CustomerId) |> \n",
    "              summarise(HasCreditCard = ifelse(sum(IsCreditCard) == 0, 0, 1)) |>\n",
    "              select(CustomerId, HasCreditCard) |> distinct(), by = \"CustomerId\")\n",
    "\n",
    "head(customers, 4)"
   ]
  },
  {
   "cell_type": "markdown",
   "id": "8446c1c2-5143-4b9f-a81a-28ada7d74e53",
   "metadata": {},
   "source": [
    "---"
   ]
  },
  {
   "cell_type": "markdown",
   "id": "82eb8f1d-d834-4719-b878-4c4dcc8e7376",
   "metadata": {},
   "source": [
    "### Показник `Balance`"
   ]
  },
  {
   "cell_type": "code",
   "execution_count": 24,
   "id": "7e1043dc-3cf2-4e95-a583-fe76dc333860",
   "metadata": {},
   "outputs": [
    {
     "data": {
      "text/html": [
       "<table class=\"dataframe\">\n",
       "<caption>A data.frame: 4 × 14</caption>\n",
       "<thead>\n",
       "\t<tr><th></th><th scope=col>RowNumber</th><th scope=col>CustomerId</th><th scope=col>Surname</th><th scope=col>CreditScore</th><th scope=col>Geography</th><th scope=col>Gender</th><th scope=col>Age</th><th scope=col>Tenure</th><th scope=col>IsActiveMember</th><th scope=col>EstimatedSalary</th><th scope=col>Exited</th><th scope=col>NumOfProducts</th><th scope=col>HasCreditCard</th><th scope=col>Balance</th></tr>\n",
       "\t<tr><th></th><th scope=col>&lt;int&gt;</th><th scope=col>&lt;int&gt;</th><th scope=col>&lt;chr&gt;</th><th scope=col>&lt;int&gt;</th><th scope=col>&lt;chr&gt;</th><th scope=col>&lt;chr&gt;</th><th scope=col>&lt;int&gt;</th><th scope=col>&lt;int&gt;</th><th scope=col>&lt;int&gt;</th><th scope=col>&lt;dbl&gt;</th><th scope=col>&lt;int&gt;</th><th scope=col>&lt;dbl&gt;</th><th scope=col>&lt;dbl&gt;</th><th scope=col>&lt;dbl&gt;</th></tr>\n",
       "</thead>\n",
       "<tbody>\n",
       "\t<tr><th scope=row>1</th><td>1</td><td>15634602</td><td>Hargrave</td><td>619</td><td>France</td><td>Female</td><td>42</td><td>2</td><td>1</td><td>101348.88</td><td>1</td><td>1</td><td>1</td><td>     5</td></tr>\n",
       "\t<tr><th scope=row>2</th><td>2</td><td>15647311</td><td>Hill    </td><td>608</td><td>Spain </td><td>Female</td><td>41</td><td>1</td><td>1</td><td>112542.58</td><td>0</td><td>1</td><td>0</td><td> 83835</td></tr>\n",
       "\t<tr><th scope=row>3</th><td>3</td><td>15619304</td><td>Onio    </td><td>502</td><td>France</td><td>Female</td><td>42</td><td>8</td><td>0</td><td>113931.57</td><td>1</td><td>3</td><td>1</td><td>159706</td></tr>\n",
       "\t<tr><th scope=row>4</th><td>4</td><td>15701354</td><td>Boni    </td><td>699</td><td>France</td><td>Female</td><td>39</td><td>1</td><td>0</td><td> 93826.63</td><td>0</td><td>2</td><td>0</td><td>    47</td></tr>\n",
       "</tbody>\n",
       "</table>\n"
      ],
      "text/latex": [
       "A data.frame: 4 × 14\n",
       "\\begin{tabular}{r|llllllllllllll}\n",
       "  & RowNumber & CustomerId & Surname & CreditScore & Geography & Gender & Age & Tenure & IsActiveMember & EstimatedSalary & Exited & NumOfProducts & HasCreditCard & Balance\\\\\n",
       "  & <int> & <int> & <chr> & <int> & <chr> & <chr> & <int> & <int> & <int> & <dbl> & <int> & <dbl> & <dbl> & <dbl>\\\\\n",
       "\\hline\n",
       "\t1 & 1 & 15634602 & Hargrave & 619 & France & Female & 42 & 2 & 1 & 101348.88 & 1 & 1 & 1 &      5\\\\\n",
       "\t2 & 2 & 15647311 & Hill     & 608 & Spain  & Female & 41 & 1 & 1 & 112542.58 & 0 & 1 & 0 &  83835\\\\\n",
       "\t3 & 3 & 15619304 & Onio     & 502 & France & Female & 42 & 8 & 0 & 113931.57 & 1 & 3 & 1 & 159706\\\\\n",
       "\t4 & 4 & 15701354 & Boni     & 699 & France & Female & 39 & 1 & 0 &  93826.63 & 0 & 2 & 0 &     47\\\\\n",
       "\\end{tabular}\n"
      ],
      "text/markdown": [
       "\n",
       "A data.frame: 4 × 14\n",
       "\n",
       "| <!--/--> | RowNumber &lt;int&gt; | CustomerId &lt;int&gt; | Surname &lt;chr&gt; | CreditScore &lt;int&gt; | Geography &lt;chr&gt; | Gender &lt;chr&gt; | Age &lt;int&gt; | Tenure &lt;int&gt; | IsActiveMember &lt;int&gt; | EstimatedSalary &lt;dbl&gt; | Exited &lt;int&gt; | NumOfProducts &lt;dbl&gt; | HasCreditCard &lt;dbl&gt; | Balance &lt;dbl&gt; |\n",
       "|---|---|---|---|---|---|---|---|---|---|---|---|---|---|---|\n",
       "| 1 | 1 | 15634602 | Hargrave | 619 | France | Female | 42 | 2 | 1 | 101348.88 | 1 | 1 | 1 |      5 |\n",
       "| 2 | 2 | 15647311 | Hill     | 608 | Spain  | Female | 41 | 1 | 1 | 112542.58 | 0 | 1 | 0 |  83835 |\n",
       "| 3 | 3 | 15619304 | Onio     | 502 | France | Female | 42 | 8 | 0 | 113931.57 | 1 | 3 | 1 | 159706 |\n",
       "| 4 | 4 | 15701354 | Boni     | 699 | France | Female | 39 | 1 | 0 |  93826.63 | 0 | 2 | 0 |     47 |\n",
       "\n"
      ],
      "text/plain": [
       "  RowNumber CustomerId Surname  CreditScore Geography Gender Age Tenure\n",
       "1 1         15634602   Hargrave 619         France    Female 42  2     \n",
       "2 2         15647311   Hill     608         Spain     Female 41  1     \n",
       "3 3         15619304   Onio     502         France    Female 42  8     \n",
       "4 4         15701354   Boni     699         France    Female 39  1     \n",
       "  IsActiveMember EstimatedSalary Exited NumOfProducts HasCreditCard Balance\n",
       "1 1              101348.88       1      1             1                  5 \n",
       "2 1              112542.58       0      1             0              83835 \n",
       "3 0              113931.57       1      3             1             159706 \n",
       "4 0               93826.63       0      2             0                 47 "
      ]
     },
     "metadata": {},
     "output_type": "display_data"
    }
   ],
   "source": [
    "customers <- customers |>\n",
    "    left_join(cards |> \n",
    "              group_by(CustomerId) |> \n",
    "              mutate(Balance = round(sum(Balance))) |>\n",
    "              select(CustomerId, Balance) |> distinct(), by = \"CustomerId\")\n",
    "\n",
    "head(customers, 4)"
   ]
  },
  {
   "cell_type": "markdown",
   "id": "bbee059e-b41c-4084-aca4-6d8235dc898a",
   "metadata": {},
   "source": [
    "Звичано код можна поєднати в 1 запит."
   ]
  },
  {
   "cell_type": "markdown",
   "id": "92164f63-1ebb-42f9-9e03-7504b21a748d",
   "metadata": {},
   "source": [
    "### Нормалізація даних"
   ]
  },
  {
   "cell_type": "markdown",
   "id": "996d759b-87c9-4089-ae50-936b7a23f25f",
   "metadata": {},
   "source": [
    "Видалимо зайві покзники, що заважатимуть будувати моделі:"
   ]
  },
  {
   "cell_type": "code",
   "execution_count": 25,
   "id": "ae47c632-3c06-40ad-92f1-b127aa51b666",
   "metadata": {},
   "outputs": [],
   "source": [
    "customers <- customers |>\n",
    "    dplyr::select(-c(RowNumber, CustomerId, Surname))"
   ]
  },
  {
   "cell_type": "markdown",
   "id": "0a4abff8-5005-4271-aa1b-acc674c1f353",
   "metadata": {},
   "source": [
    "Варто звернути увагу, що інженереія нових фіч завершена не до кінця і у нас ще присутні параметри, що мають нечислові значення `Geography` + `Gender`. Спробуйте замінити їх, наприклад, на `dummy`-змінні або використати `бінінг`."
   ]
  },
  {
   "cell_type": "markdown",
   "id": "14085e5e-b7e8-4001-aae8-4721fad3aa5d",
   "metadata": {},
   "source": [
    "Для скорочення часу на вивчення матеріали ми скористаємося звичайним приведенням даних до числового типу:"
   ]
  },
  {
   "cell_type": "code",
   "execution_count": 26,
   "id": "c7d02ccf-cd7c-4f1a-bec2-413f5e3e95d0",
   "metadata": {},
   "outputs": [],
   "source": [
    "customers$Geography <- as.numeric(as.factor(customers$Geography))\n",
    "customers$Gender <- as.numeric(as.factor(customers$Gender))"
   ]
  },
  {
   "cell_type": "code",
   "execution_count": 27,
   "id": "f801e8db-29e2-4d53-b7d3-96f05d6a9689",
   "metadata": {},
   "outputs": [
    {
     "name": "stdout",
     "output_type": "stream",
     "text": [
      "'data.frame':\t10000 obs. of  11 variables:\n",
      " $ CreditScore    : int  619 608 502 699 850 645 822 376 501 684 ...\n",
      " $ Geography      : num  1 3 1 1 3 3 1 2 1 1 ...\n",
      " $ Gender         : num  1 1 1 1 1 2 2 1 2 2 ...\n",
      " $ Age            : int  42 41 42 39 43 44 50 29 44 27 ...\n",
      " $ Tenure         : int  2 1 8 1 2 8 7 4 4 2 ...\n",
      " $ IsActiveMember : int  1 1 0 0 1 0 1 0 1 1 ...\n",
      " $ EstimatedSalary: num  101349 112543 113932 93827 79084 ...\n",
      " $ Exited         : int  1 0 1 0 0 1 0 1 0 0 ...\n",
      " $ NumOfProducts  : num  1 1 3 2 1 2 2 4 2 1 ...\n",
      " $ HasCreditCard  : num  1 0 1 0 1 1 1 1 0 1 ...\n",
      " $ Balance        : num  5 83835 159706 47 125571 ...\n"
     ]
    }
   ],
   "source": [
    "str(customers)"
   ]
  },
  {
   "cell_type": "markdown",
   "id": "d5709e08-b0c5-4f52-a5b1-281d03a16611",
   "metadata": {},
   "source": [
    "Використовуючи функцію `scale()` нормалізуємо дані:"
   ]
  },
  {
   "cell_type": "code",
   "execution_count": 28,
   "id": "7a82f7a9-3a6a-4775-be59-b1aa8cd7a968",
   "metadata": {},
   "outputs": [
    {
     "data": {
      "text/html": [
       "<table class=\"dataframe\">\n",
       "<caption>A data.frame: 6 × 11</caption>\n",
       "<thead>\n",
       "\t<tr><th></th><th scope=col>CreditScore</th><th scope=col>Geography</th><th scope=col>Gender</th><th scope=col>Age</th><th scope=col>Tenure</th><th scope=col>IsActiveMember</th><th scope=col>EstimatedSalary</th><th scope=col>NumOfProducts</th><th scope=col>HasCreditCard</th><th scope=col>Balance</th><th scope=col>Exited</th></tr>\n",
       "\t<tr><th></th><th scope=col>&lt;dbl&gt;</th><th scope=col>&lt;dbl&gt;</th><th scope=col>&lt;dbl&gt;</th><th scope=col>&lt;dbl&gt;</th><th scope=col>&lt;dbl&gt;</th><th scope=col>&lt;dbl&gt;</th><th scope=col>&lt;dbl&gt;</th><th scope=col>&lt;dbl&gt;</th><th scope=col>&lt;dbl&gt;</th><th scope=col>&lt;dbl&gt;</th><th scope=col>&lt;int&gt;</th></tr>\n",
       "</thead>\n",
       "<tbody>\n",
       "\t<tr><th scope=row>1</th><td>-0.32620511</td><td>-0.9018411</td><td>-1.0959327</td><td>0.293502747</td><td>-1.041708</td><td> 0.970194</td><td> 0.0218854</td><td>-0.5420116</td><td> 0.6521559</td><td>-1.2240103</td><td>1</td></tr>\n",
       "\t<tr><th scope=row>2</th><td>-0.44001395</td><td> 1.5149916</td><td>-1.0959327</td><td>0.198153924</td><td>-1.387468</td><td> 0.970194</td><td> 0.2165229</td><td>-0.5420116</td><td>-1.5332062</td><td> 0.1179507</td><td>0</td></tr>\n",
       "\t<tr><th scope=row>3</th><td>-1.53671734</td><td>-0.9018411</td><td>-1.0959327</td><td>0.293502747</td><td> 1.032856</td><td>-1.030619</td><td> 0.2406749</td><td> 2.2648841</td><td> 0.6521559</td><td> 1.3325030</td><td>1</td></tr>\n",
       "\t<tr><th scope=row>4</th><td> 0.50149556</td><td>-0.9018411</td><td>-1.0959327</td><td>0.007456278</td><td>-1.387468</td><td>-1.030619</td><td>-0.1089125</td><td> 0.8614363</td><td>-1.5332062</td><td>-1.2233380</td><td>0</td></tr>\n",
       "\t<tr><th scope=row>5</th><td> 2.06378057</td><td> 1.5149916</td><td>-1.0959327</td><td>0.388851570</td><td>-1.041708</td><td> 0.970194</td><td>-0.3652575</td><td>-0.5420116</td><td> 0.6521559</td><td> 0.7860657</td><td>0</td></tr>\n",
       "\t<tr><th scope=row>6</th><td>-0.05720239</td><td> 1.5149916</td><td> 0.9123735</td><td>0.484200392</td><td> 1.032856</td><td>-1.030619</td><td> 0.8636071</td><td> 0.8614363</td><td> 0.6521559</td><td> 0.5974260</td><td>1</td></tr>\n",
       "</tbody>\n",
       "</table>\n"
      ],
      "text/latex": [
       "A data.frame: 6 × 11\n",
       "\\begin{tabular}{r|lllllllllll}\n",
       "  & CreditScore & Geography & Gender & Age & Tenure & IsActiveMember & EstimatedSalary & NumOfProducts & HasCreditCard & Balance & Exited\\\\\n",
       "  & <dbl> & <dbl> & <dbl> & <dbl> & <dbl> & <dbl> & <dbl> & <dbl> & <dbl> & <dbl> & <int>\\\\\n",
       "\\hline\n",
       "\t1 & -0.32620511 & -0.9018411 & -1.0959327 & 0.293502747 & -1.041708 &  0.970194 &  0.0218854 & -0.5420116 &  0.6521559 & -1.2240103 & 1\\\\\n",
       "\t2 & -0.44001395 &  1.5149916 & -1.0959327 & 0.198153924 & -1.387468 &  0.970194 &  0.2165229 & -0.5420116 & -1.5332062 &  0.1179507 & 0\\\\\n",
       "\t3 & -1.53671734 & -0.9018411 & -1.0959327 & 0.293502747 &  1.032856 & -1.030619 &  0.2406749 &  2.2648841 &  0.6521559 &  1.3325030 & 1\\\\\n",
       "\t4 &  0.50149556 & -0.9018411 & -1.0959327 & 0.007456278 & -1.387468 & -1.030619 & -0.1089125 &  0.8614363 & -1.5332062 & -1.2233380 & 0\\\\\n",
       "\t5 &  2.06378057 &  1.5149916 & -1.0959327 & 0.388851570 & -1.041708 &  0.970194 & -0.3652575 & -0.5420116 &  0.6521559 &  0.7860657 & 0\\\\\n",
       "\t6 & -0.05720239 &  1.5149916 &  0.9123735 & 0.484200392 &  1.032856 & -1.030619 &  0.8636071 &  0.8614363 &  0.6521559 &  0.5974260 & 1\\\\\n",
       "\\end{tabular}\n"
      ],
      "text/markdown": [
       "\n",
       "A data.frame: 6 × 11\n",
       "\n",
       "| <!--/--> | CreditScore &lt;dbl&gt; | Geography &lt;dbl&gt; | Gender &lt;dbl&gt; | Age &lt;dbl&gt; | Tenure &lt;dbl&gt; | IsActiveMember &lt;dbl&gt; | EstimatedSalary &lt;dbl&gt; | NumOfProducts &lt;dbl&gt; | HasCreditCard &lt;dbl&gt; | Balance &lt;dbl&gt; | Exited &lt;int&gt; |\n",
       "|---|---|---|---|---|---|---|---|---|---|---|---|\n",
       "| 1 | -0.32620511 | -0.9018411 | -1.0959327 | 0.293502747 | -1.041708 |  0.970194 |  0.0218854 | -0.5420116 |  0.6521559 | -1.2240103 | 1 |\n",
       "| 2 | -0.44001395 |  1.5149916 | -1.0959327 | 0.198153924 | -1.387468 |  0.970194 |  0.2165229 | -0.5420116 | -1.5332062 |  0.1179507 | 0 |\n",
       "| 3 | -1.53671734 | -0.9018411 | -1.0959327 | 0.293502747 |  1.032856 | -1.030619 |  0.2406749 |  2.2648841 |  0.6521559 |  1.3325030 | 1 |\n",
       "| 4 |  0.50149556 | -0.9018411 | -1.0959327 | 0.007456278 | -1.387468 | -1.030619 | -0.1089125 |  0.8614363 | -1.5332062 | -1.2233380 | 0 |\n",
       "| 5 |  2.06378057 |  1.5149916 | -1.0959327 | 0.388851570 | -1.041708 |  0.970194 | -0.3652575 | -0.5420116 |  0.6521559 |  0.7860657 | 0 |\n",
       "| 6 | -0.05720239 |  1.5149916 |  0.9123735 | 0.484200392 |  1.032856 | -1.030619 |  0.8636071 |  0.8614363 |  0.6521559 |  0.5974260 | 1 |\n",
       "\n"
      ],
      "text/plain": [
       "  CreditScore Geography  Gender     Age         Tenure    IsActiveMember\n",
       "1 -0.32620511 -0.9018411 -1.0959327 0.293502747 -1.041708  0.970194     \n",
       "2 -0.44001395  1.5149916 -1.0959327 0.198153924 -1.387468  0.970194     \n",
       "3 -1.53671734 -0.9018411 -1.0959327 0.293502747  1.032856 -1.030619     \n",
       "4  0.50149556 -0.9018411 -1.0959327 0.007456278 -1.387468 -1.030619     \n",
       "5  2.06378057  1.5149916 -1.0959327 0.388851570 -1.041708  0.970194     \n",
       "6 -0.05720239  1.5149916  0.9123735 0.484200392  1.032856 -1.030619     \n",
       "  EstimatedSalary NumOfProducts HasCreditCard Balance    Exited\n",
       "1  0.0218854      -0.5420116     0.6521559    -1.2240103 1     \n",
       "2  0.2165229      -0.5420116    -1.5332062     0.1179507 0     \n",
       "3  0.2406749       2.2648841     0.6521559     1.3325030 1     \n",
       "4 -0.1089125       0.8614363    -1.5332062    -1.2233380 0     \n",
       "5 -0.3652575      -0.5420116     0.6521559     0.7860657 0     \n",
       "6  0.8636071       0.8614363     0.6521559     0.5974260 1     "
      ]
     },
     "metadata": {},
     "output_type": "display_data"
    }
   ],
   "source": [
    "scaled <- scale(customers[-8], center = TRUE)\n",
    "scaled <- cbind(scaled, customers[8])\n",
    "head(scaled,)"
   ]
  },
  {
   "cell_type": "markdown",
   "id": "b706d607-a17e-46d2-acc0-1dceeebc1517",
   "metadata": {},
   "source": [
    "---"
   ]
  },
  {
   "cell_type": "markdown",
   "id": "fb9ce66e-cdf1-4b48-837b-487629e7b9ce",
   "metadata": {},
   "source": [
    "## Формування вибірок"
   ]
  },
  {
   "cell_type": "markdown",
   "id": "4eef4efe-05ca-4520-9311-bdb654cfaa7f",
   "metadata": {},
   "source": [
    "Розділимо вибірку на тестову та тренувальну за допомогою пакету `caTools` та функції `sample.split()`:"
   ]
  },
  {
   "cell_type": "code",
   "execution_count": 29,
   "id": "11412809-8037-4785-85b4-662fd7d5153a",
   "metadata": {},
   "outputs": [],
   "source": [
    "library(caTools)\n",
    "set.seed(2022)\n",
    "split <- sample.split(scaled$Exited, SplitRatio = 0.7)\n",
    "train_data <- subset(scaled, split == TRUE)\n",
    "test_data <- subset(scaled, split == FALSE)"
   ]
  },
  {
   "cell_type": "markdown",
   "id": "9ecd5510-77e8-4aca-bdc2-12b677c7363c",
   "metadata": {},
   "source": [
    "---"
   ]
  },
  {
   "cell_type": "markdown",
   "id": "0504975d-1984-40e0-9072-7b812e899fb9",
   "metadata": {},
   "source": [
    "## Побудова Deep Learning моделі"
   ]
  },
  {
   "cell_type": "markdown",
   "id": "00996172-89d2-4d76-8d31-d9f13d5d0eb7",
   "metadata": {},
   "source": [
    "Викосритаємо можливості пакету `h2o` для побудови моделі на основі `deep learning`. Підключимо пакет."
   ]
  },
  {
   "cell_type": "code",
   "execution_count": 30,
   "id": "a6e4cfb0-40c2-446f-8976-79f4f2db2e4e",
   "metadata": {},
   "outputs": [],
   "source": [
    "# install.packages(\"h2o\")"
   ]
  },
  {
   "cell_type": "code",
   "execution_count": 31,
   "id": "98f0fbf4-7259-40c1-9d31-585f548d8f0a",
   "metadata": {},
   "outputs": [
    {
     "name": "stderr",
     "output_type": "stream",
     "text": [
      "\n",
      "----------------------------------------------------------------------\n",
      "\n",
      "Your next step is to start H2O:\n",
      "    > h2o.init()\n",
      "\n",
      "For H2O package documentation, ask for help:\n",
      "    > ??h2o\n",
      "\n",
      "After starting H2O, you can use the Web UI at http://localhost:54321\n",
      "For more information visit https://docs.h2o.ai\n",
      "\n",
      "----------------------------------------------------------------------\n",
      "\n",
      "\n",
      "\n",
      "Attaching package: 'h2o'\n",
      "\n",
      "\n",
      "The following objects are masked from 'package:stats':\n",
      "\n",
      "    cor, sd, var\n",
      "\n",
      "\n",
      "The following objects are masked from 'package:base':\n",
      "\n",
      "    %*%, %in%, &&, ||, apply, as.factor, as.numeric, colnames,\n",
      "    colnames<-, ifelse, is.character, is.factor, is.numeric, log,\n",
      "    log10, log1p, log2, round, signif, trunc\n",
      "\n",
      "\n"
     ]
    }
   ],
   "source": [
    "library(h2o)"
   ]
  },
  {
   "cell_type": "markdown",
   "id": "ced11961-86c0-4a4b-80bb-c4d818eb97ae",
   "metadata": {},
   "source": [
    ":::{.callout-warning}\n",
    "\n",
    "Увага! Для запуску пакету потрібна віртуальна машина `Java` на ПК (`JVM`). Завантажити актуальну версію `Java` можна з сайту <https://www.java.com/en/download/>.\n",
    "\n",
    ":::"
   ]
  },
  {
   "cell_type": "markdown",
   "id": "450d3b38-74a9-4635-92f7-d4a891930418",
   "metadata": {},
   "source": [
    "Запустимо двигун `h2o`:"
   ]
  },
  {
   "cell_type": "code",
   "execution_count": 32,
   "id": "76dd169f-9ce6-43e7-b3f6-18c877f5d7ef",
   "metadata": {},
   "outputs": [
    {
     "name": "stdout",
     "output_type": "stream",
     "text": [
      "[1] \"C:/Program Files/Java/jdk-19/\"\n"
     ]
    }
   ],
   "source": [
    "# Увага, це специфічні налаштуваняя для ПК на якому налагоджувався проєкт\n",
    "Sys.setenv(JAVA_HOME = \"C:/Program Files/Java/jdk-19/\")\n",
    "print(Sys.getenv(\"JAVA_HOME\"))"
   ]
  },
  {
   "cell_type": "code",
   "execution_count": 33,
   "id": "01c19591-6615-460d-85f7-7ebe37a2408e",
   "metadata": {},
   "outputs": [
    {
     "name": "stdout",
     "output_type": "stream",
     "text": [
      "\n",
      "H2O is not running yet, starting it now...\n",
      "\n",
      "Note:  In case of errors look at the following log files:\n",
      "    D:\\Temp\\RtmpOYzQ2d\\file30182abb672c/h2o_yura_started_from_r.out\n",
      "    D:\\Temp\\RtmpOYzQ2d\\file3018cb93ee9/h2o_yura_started_from_r.err\n",
      "\n",
      "\n",
      "Starting H2O JVM and connecting:  Connection successful!\n",
      "\n",
      "R is connected to the H2O cluster: \n",
      "    H2O cluster uptime:         3 seconds 419 milliseconds \n",
      "    H2O cluster timezone:       Europe/Kiev \n",
      "    H2O data parsing timezone:  UTC \n",
      "    H2O cluster version:        3.38.0.1 \n",
      "    H2O cluster version age:    13 days  \n",
      "    H2O cluster name:           H2O_started_from_R_yura_svm422 \n",
      "    H2O cluster total nodes:    1 \n",
      "    H2O cluster total memory:   3.95 GB \n",
      "    H2O cluster total cores:    8 \n",
      "    H2O cluster allowed cores:  8 \n",
      "    H2O cluster healthy:        TRUE \n",
      "    H2O Connection ip:          localhost \n",
      "    H2O Connection port:        54321 \n",
      "    H2O Connection proxy:       NA \n",
      "    H2O Internal Security:      FALSE \n",
      "    R Version:                  R version 4.1.3 (2022-03-10) \n",
      "\n"
     ]
    }
   ],
   "source": [
    "h2o.init()"
   ]
  },
  {
   "cell_type": "markdown",
   "id": "d802994e-1b6e-452c-a7cf-e21492652a18",
   "metadata": {},
   "source": [
    "Побудуємо математичну модель:"
   ]
  },
  {
   "cell_type": "code",
   "execution_count": 34,
   "id": "c51a4f35-e57f-43ab-9125-62cd08d6d58b",
   "metadata": {},
   "outputs": [
    {
     "name": "stdout",
     "output_type": "stream",
     "text": [
      "  |======================================================================| 100%\n",
      "  |======================================================================| 100%\n"
     ]
    }
   ],
   "source": [
    "h2o_model <- h2o.deeplearning(y = 'Exited', \n",
    "                              training_frame = as.h2o(train_data),\n",
    "                              activation = \"Rectifier\",\n",
    "                              hidden = c(6,6),\n",
    "                              epochs = 100)"
   ]
  },
  {
   "cell_type": "markdown",
   "id": "17796c10-009e-42b2-b81c-89f2a20dd15b",
   "metadata": {},
   "source": [
    "Варто перегляднути набір параметрів, що може приймати функція `h2o.deeplearning()`, адже вона досить складна:"
   ]
  },
  {
   "cell_type": "code",
   "execution_count": 35,
   "id": "4aef3d8f-5b66-4ddc-814c-f121f7235847",
   "metadata": {},
   "outputs": [
    {
     "data": {
      "text/html": [
       "\n",
       "<table width=\"100%\" summary=\"page for h2o.deeplearning {h2o}\"><tr><td>h2o.deeplearning {h2o}</td><td style=\"text-align: right;\">R Documentation</td></tr></table>\n",
       "\n",
       "<h2>Build a Deep Neural Network model using CPUs</h2>\n",
       "\n",
       "<h3>Description</h3>\n",
       "\n",
       "<p>Builds a feed-forward multilayer artificial neural network on an H2OFrame.\n",
       "</p>\n",
       "\n",
       "\n",
       "<h3>Usage</h3>\n",
       "\n",
       "<pre>\n",
       "h2o.deeplearning(\n",
       "  x,\n",
       "  y,\n",
       "  training_frame,\n",
       "  model_id = NULL,\n",
       "  validation_frame = NULL,\n",
       "  nfolds = 0,\n",
       "  keep_cross_validation_models = TRUE,\n",
       "  keep_cross_validation_predictions = FALSE,\n",
       "  keep_cross_validation_fold_assignment = FALSE,\n",
       "  fold_assignment = c(\"AUTO\", \"Random\", \"Modulo\", \"Stratified\"),\n",
       "  fold_column = NULL,\n",
       "  ignore_const_cols = TRUE,\n",
       "  score_each_iteration = FALSE,\n",
       "  weights_column = NULL,\n",
       "  offset_column = NULL,\n",
       "  balance_classes = FALSE,\n",
       "  class_sampling_factors = NULL,\n",
       "  max_after_balance_size = 5,\n",
       "  checkpoint = NULL,\n",
       "  pretrained_autoencoder = NULL,\n",
       "  overwrite_with_best_model = TRUE,\n",
       "  use_all_factor_levels = TRUE,\n",
       "  standardize = TRUE,\n",
       "  activation = c(\"Tanh\", \"TanhWithDropout\", \"Rectifier\", \"RectifierWithDropout\",\n",
       "    \"Maxout\", \"MaxoutWithDropout\"),\n",
       "  hidden = c(200, 200),\n",
       "  epochs = 10,\n",
       "  train_samples_per_iteration = -2,\n",
       "  target_ratio_comm_to_comp = 0.05,\n",
       "  seed = -1,\n",
       "  adaptive_rate = TRUE,\n",
       "  rho = 0.99,\n",
       "  epsilon = 1e-08,\n",
       "  rate = 0.005,\n",
       "  rate_annealing = 1e-06,\n",
       "  rate_decay = 1,\n",
       "  momentum_start = 0,\n",
       "  momentum_ramp = 1e+06,\n",
       "  momentum_stable = 0,\n",
       "  nesterov_accelerated_gradient = TRUE,\n",
       "  input_dropout_ratio = 0,\n",
       "  hidden_dropout_ratios = NULL,\n",
       "  l1 = 0,\n",
       "  l2 = 0,\n",
       "  max_w2 = 3.4028235e+38,\n",
       "  initial_weight_distribution = c(\"UniformAdaptive\", \"Uniform\", \"Normal\"),\n",
       "  initial_weight_scale = 1,\n",
       "  initial_weights = NULL,\n",
       "  initial_biases = NULL,\n",
       "  loss = c(\"Automatic\", \"CrossEntropy\", \"Quadratic\", \"Huber\", \"Absolute\", \"Quantile\"),\n",
       "  distribution = c(\"AUTO\", \"bernoulli\", \"multinomial\", \"gaussian\", \"poisson\", \"gamma\",\n",
       "    \"tweedie\", \"laplace\", \"quantile\", \"huber\"),\n",
       "  quantile_alpha = 0.5,\n",
       "  tweedie_power = 1.5,\n",
       "  huber_alpha = 0.9,\n",
       "  score_interval = 5,\n",
       "  score_training_samples = 10000,\n",
       "  score_validation_samples = 0,\n",
       "  score_duty_cycle = 0.1,\n",
       "  classification_stop = 0,\n",
       "  regression_stop = 1e-06,\n",
       "  stopping_rounds = 5,\n",
       "  stopping_metric = c(\"AUTO\", \"deviance\", \"logloss\", \"MSE\", \"RMSE\", \"MAE\", \"RMSLE\",\n",
       "    \"AUC\", \"AUCPR\", \"lift_top_group\", \"misclassification\", \"mean_per_class_error\",\n",
       "    \"custom\", \"custom_increasing\"),\n",
       "  stopping_tolerance = 0,\n",
       "  max_runtime_secs = 0,\n",
       "  score_validation_sampling = c(\"Uniform\", \"Stratified\"),\n",
       "  diagnostics = TRUE,\n",
       "  fast_mode = TRUE,\n",
       "  force_load_balance = TRUE,\n",
       "  variable_importances = TRUE,\n",
       "  replicate_training_data = TRUE,\n",
       "  single_node_mode = FALSE,\n",
       "  shuffle_training_data = FALSE,\n",
       "  missing_values_handling = c(\"MeanImputation\", \"Skip\"),\n",
       "  quiet_mode = FALSE,\n",
       "  autoencoder = FALSE,\n",
       "  sparse = FALSE,\n",
       "  col_major = FALSE,\n",
       "  average_activation = 0,\n",
       "  sparsity_beta = 0,\n",
       "  max_categorical_features = 2147483647,\n",
       "  reproducible = FALSE,\n",
       "  export_weights_and_biases = FALSE,\n",
       "  mini_batch_size = 1,\n",
       "  categorical_encoding = c(\"AUTO\", \"Enum\", \"OneHotInternal\", \"OneHotExplicit\",\n",
       "    \"Binary\", \"Eigen\", \"LabelEncoder\", \"SortByResponse\", \"EnumLimited\"),\n",
       "  elastic_averaging = FALSE,\n",
       "  elastic_averaging_moving_rate = 0.9,\n",
       "  elastic_averaging_regularization = 0.001,\n",
       "  export_checkpoints_dir = NULL,\n",
       "  auc_type = c(\"AUTO\", \"NONE\", \"MACRO_OVR\", \"WEIGHTED_OVR\", \"MACRO_OVO\",\n",
       "    \"WEIGHTED_OVO\"),\n",
       "  verbose = FALSE\n",
       ")\n",
       "</pre>\n",
       "\n",
       "\n",
       "<h3>Arguments</h3>\n",
       "\n",
       "<table summary=\"R argblock\">\n",
       "<tr valign=\"top\"><td><code>x</code></td>\n",
       "<td>\n",
       "<p>(Optional) A vector containing the names or indices of the predictor variables to use in building the model.\n",
       "If x is missing, then all columns except y are used.</p>\n",
       "</td></tr>\n",
       "<tr valign=\"top\"><td><code>y</code></td>\n",
       "<td>\n",
       "<p>The name or column index of the response variable in the data. \n",
       "The response must be either a numeric or a categorical/factor variable. \n",
       "If the response is numeric, then a regression model will be trained, otherwise it will train a classification model.</p>\n",
       "</td></tr>\n",
       "<tr valign=\"top\"><td><code>training_frame</code></td>\n",
       "<td>\n",
       "<p>Id of the training data frame.</p>\n",
       "</td></tr>\n",
       "<tr valign=\"top\"><td><code>model_id</code></td>\n",
       "<td>\n",
       "<p>Destination id for this model; auto-generated if not specified.</p>\n",
       "</td></tr>\n",
       "<tr valign=\"top\"><td><code>validation_frame</code></td>\n",
       "<td>\n",
       "<p>Id of the validation data frame.</p>\n",
       "</td></tr>\n",
       "<tr valign=\"top\"><td><code>nfolds</code></td>\n",
       "<td>\n",
       "<p>Number of folds for K-fold cross-validation (0 to disable or &gt;= 2). Defaults to 0.</p>\n",
       "</td></tr>\n",
       "<tr valign=\"top\"><td><code>keep_cross_validation_models</code></td>\n",
       "<td>\n",
       "<p><code>Logical</code>. Whether to keep the cross-validation models. Defaults to TRUE.</p>\n",
       "</td></tr>\n",
       "<tr valign=\"top\"><td><code>keep_cross_validation_predictions</code></td>\n",
       "<td>\n",
       "<p><code>Logical</code>. Whether to keep the predictions of the cross-validation models. Defaults to FALSE.</p>\n",
       "</td></tr>\n",
       "<tr valign=\"top\"><td><code>keep_cross_validation_fold_assignment</code></td>\n",
       "<td>\n",
       "<p><code>Logical</code>. Whether to keep the cross-validation fold assignment. Defaults to FALSE.</p>\n",
       "</td></tr>\n",
       "<tr valign=\"top\"><td><code>fold_assignment</code></td>\n",
       "<td>\n",
       "<p>Cross-validation fold assignment scheme, if fold_column is not specified. The 'Stratified' option will\n",
       "stratify the folds based on the response variable, for classification problems. Must be one of: &quot;AUTO&quot;,\n",
       "&quot;Random&quot;, &quot;Modulo&quot;, &quot;Stratified&quot;. Defaults to AUTO.</p>\n",
       "</td></tr>\n",
       "<tr valign=\"top\"><td><code>fold_column</code></td>\n",
       "<td>\n",
       "<p>Column with cross-validation fold index assignment per observation.</p>\n",
       "</td></tr>\n",
       "<tr valign=\"top\"><td><code>ignore_const_cols</code></td>\n",
       "<td>\n",
       "<p><code>Logical</code>. Ignore constant columns. Defaults to TRUE.</p>\n",
       "</td></tr>\n",
       "<tr valign=\"top\"><td><code>score_each_iteration</code></td>\n",
       "<td>\n",
       "<p><code>Logical</code>. Whether to score during each iteration of model training. Defaults to FALSE.</p>\n",
       "</td></tr>\n",
       "<tr valign=\"top\"><td><code>weights_column</code></td>\n",
       "<td>\n",
       "<p>Column with observation weights. Giving some observation a weight of zero is equivalent to excluding it from\n",
       "the dataset; giving an observation a relative weight of 2 is equivalent to repeating that row twice. Negative\n",
       "weights are not allowed. Note: Weights are per-row observation weights and do not increase the size of the\n",
       "data frame. This is typically the number of times a row is repeated, but non-integer values are supported as\n",
       "well. During training, rows with higher weights matter more, due to the larger loss function pre-factor. If\n",
       "you set weight = 0 for a row, the returned prediction frame at that row is zero and this is incorrect. To get\n",
       "an accurate prediction, remove all rows with weight == 0.</p>\n",
       "</td></tr>\n",
       "<tr valign=\"top\"><td><code>offset_column</code></td>\n",
       "<td>\n",
       "<p>Offset column. This will be added to the combination of columns before applying the link function.</p>\n",
       "</td></tr>\n",
       "<tr valign=\"top\"><td><code>balance_classes</code></td>\n",
       "<td>\n",
       "<p><code>Logical</code>. Balance training data class counts via over/under-sampling (for imbalanced data). Defaults to\n",
       "FALSE.</p>\n",
       "</td></tr>\n",
       "<tr valign=\"top\"><td><code>class_sampling_factors</code></td>\n",
       "<td>\n",
       "<p>Desired over/under-sampling ratios per class (in lexicographic order). If not specified, sampling factors will\n",
       "be automatically computed to obtain class balance during training. Requires balance_classes.</p>\n",
       "</td></tr>\n",
       "<tr valign=\"top\"><td><code>max_after_balance_size</code></td>\n",
       "<td>\n",
       "<p>Maximum relative size of the training data after balancing class counts (can be less than 1.0). Requires\n",
       "balance_classes. Defaults to 5.0.</p>\n",
       "</td></tr>\n",
       "<tr valign=\"top\"><td><code>checkpoint</code></td>\n",
       "<td>\n",
       "<p>Model checkpoint to resume training with.</p>\n",
       "</td></tr>\n",
       "<tr valign=\"top\"><td><code>pretrained_autoencoder</code></td>\n",
       "<td>\n",
       "<p>Pretrained autoencoder model to initialize this model with.</p>\n",
       "</td></tr>\n",
       "<tr valign=\"top\"><td><code>overwrite_with_best_model</code></td>\n",
       "<td>\n",
       "<p><code>Logical</code>. If enabled, override the final model with the best model found during training. Defaults to\n",
       "TRUE.</p>\n",
       "</td></tr>\n",
       "<tr valign=\"top\"><td><code>use_all_factor_levels</code></td>\n",
       "<td>\n",
       "<p><code>Logical</code>. Use all factor levels of categorical variables. Otherwise, the first factor level is omitted\n",
       "(without loss of accuracy). Useful for variable importances and auto-enabled for autoencoder. Defaults to\n",
       "TRUE.</p>\n",
       "</td></tr>\n",
       "<tr valign=\"top\"><td><code>standardize</code></td>\n",
       "<td>\n",
       "<p><code>Logical</code>. If enabled, automatically standardize the data. If disabled, the user must provide properly\n",
       "scaled input data. Defaults to TRUE.</p>\n",
       "</td></tr>\n",
       "<tr valign=\"top\"><td><code>activation</code></td>\n",
       "<td>\n",
       "<p>Activation function. Must be one of: &quot;Tanh&quot;, &quot;TanhWithDropout&quot;, &quot;Rectifier&quot;, &quot;RectifierWithDropout&quot;, &quot;Maxout&quot;,\n",
       "&quot;MaxoutWithDropout&quot;. Defaults to Rectifier.</p>\n",
       "</td></tr>\n",
       "<tr valign=\"top\"><td><code>hidden</code></td>\n",
       "<td>\n",
       "<p>Hidden layer sizes (e.g. [100, 100]). Defaults to c(200, 200).</p>\n",
       "</td></tr>\n",
       "<tr valign=\"top\"><td><code>epochs</code></td>\n",
       "<td>\n",
       "<p>How many times the dataset should be iterated (streamed), can be fractional. Defaults to 10.</p>\n",
       "</td></tr>\n",
       "<tr valign=\"top\"><td><code>train_samples_per_iteration</code></td>\n",
       "<td>\n",
       "<p>Number of training samples (globally) per MapReduce iteration. Special values are 0: one epoch, -1: all\n",
       "available data (e.g., replicated training data), -2: automatic. Defaults to -2.</p>\n",
       "</td></tr>\n",
       "<tr valign=\"top\"><td><code>target_ratio_comm_to_comp</code></td>\n",
       "<td>\n",
       "<p>Target ratio of communication overhead to computation. Only for multi-node operation and\n",
       "train_samples_per_iteration = -2 (auto-tuning). Defaults to 0.05.</p>\n",
       "</td></tr>\n",
       "<tr valign=\"top\"><td><code>seed</code></td>\n",
       "<td>\n",
       "<p>Seed for random numbers (affects certain parts of the algo that are stochastic and those might or might not be enabled by default).\n",
       "Note: only reproducible when running single threaded.\n",
       "Defaults to -1 (time-based random number).</p>\n",
       "</td></tr>\n",
       "<tr valign=\"top\"><td><code>adaptive_rate</code></td>\n",
       "<td>\n",
       "<p><code>Logical</code>. Adaptive learning rate. Defaults to TRUE.</p>\n",
       "</td></tr>\n",
       "<tr valign=\"top\"><td><code>rho</code></td>\n",
       "<td>\n",
       "<p>Adaptive learning rate time decay factor (similarity to prior updates). Defaults to 0.99.</p>\n",
       "</td></tr>\n",
       "<tr valign=\"top\"><td><code>epsilon</code></td>\n",
       "<td>\n",
       "<p>Adaptive learning rate smoothing factor (to avoid divisions by zero and allow progress). Defaults to 1e-08.</p>\n",
       "</td></tr>\n",
       "<tr valign=\"top\"><td><code>rate</code></td>\n",
       "<td>\n",
       "<p>Learning rate (higher =&gt; less stable, lower =&gt; slower convergence). Defaults to 0.005.</p>\n",
       "</td></tr>\n",
       "<tr valign=\"top\"><td><code>rate_annealing</code></td>\n",
       "<td>\n",
       "<p>Learning rate annealing: rate / (1 + rate_annealing * samples). Defaults to 1e-06.</p>\n",
       "</td></tr>\n",
       "<tr valign=\"top\"><td><code>rate_decay</code></td>\n",
       "<td>\n",
       "<p>Learning rate decay factor between layers (N-th layer: rate * rate_decay ^ (n - 1). Defaults to 1.</p>\n",
       "</td></tr>\n",
       "<tr valign=\"top\"><td><code>momentum_start</code></td>\n",
       "<td>\n",
       "<p>Initial momentum at the beginning of training (try 0.5). Defaults to 0.</p>\n",
       "</td></tr>\n",
       "<tr valign=\"top\"><td><code>momentum_ramp</code></td>\n",
       "<td>\n",
       "<p>Number of training samples for which momentum increases. Defaults to 1000000.</p>\n",
       "</td></tr>\n",
       "<tr valign=\"top\"><td><code>momentum_stable</code></td>\n",
       "<td>\n",
       "<p>Final momentum after the ramp is over (try 0.99). Defaults to 0.</p>\n",
       "</td></tr>\n",
       "<tr valign=\"top\"><td><code>nesterov_accelerated_gradient</code></td>\n",
       "<td>\n",
       "<p><code>Logical</code>. Use Nesterov accelerated gradient (recommended). Defaults to TRUE.</p>\n",
       "</td></tr>\n",
       "<tr valign=\"top\"><td><code>input_dropout_ratio</code></td>\n",
       "<td>\n",
       "<p>Input layer dropout ratio (can improve generalization, try 0.1 or 0.2). Defaults to 0.</p>\n",
       "</td></tr>\n",
       "<tr valign=\"top\"><td><code>hidden_dropout_ratios</code></td>\n",
       "<td>\n",
       "<p>Hidden layer dropout ratios (can improve generalization), specify one value per hidden layer, defaults to 0.5.</p>\n",
       "</td></tr>\n",
       "<tr valign=\"top\"><td><code>l1</code></td>\n",
       "<td>\n",
       "<p>L1 regularization (can add stability and improve generalization, causes many weights to become 0). Defaults to\n",
       "0.</p>\n",
       "</td></tr>\n",
       "<tr valign=\"top\"><td><code>l2</code></td>\n",
       "<td>\n",
       "<p>L2 regularization (can add stability and improve generalization, causes many weights to be small. Defaults to\n",
       "0.</p>\n",
       "</td></tr>\n",
       "<tr valign=\"top\"><td><code>max_w2</code></td>\n",
       "<td>\n",
       "<p>Constraint for squared sum of incoming weights per unit (e.g. for Rectifier). Defaults to 3.4028235e+38.</p>\n",
       "</td></tr>\n",
       "<tr valign=\"top\"><td><code>initial_weight_distribution</code></td>\n",
       "<td>\n",
       "<p>Initial weight distribution. Must be one of: &quot;UniformAdaptive&quot;, &quot;Uniform&quot;, &quot;Normal&quot;. Defaults to\n",
       "UniformAdaptive.</p>\n",
       "</td></tr>\n",
       "<tr valign=\"top\"><td><code>initial_weight_scale</code></td>\n",
       "<td>\n",
       "<p>Uniform: -value...value, Normal: stddev. Defaults to 1.</p>\n",
       "</td></tr>\n",
       "<tr valign=\"top\"><td><code>initial_weights</code></td>\n",
       "<td>\n",
       "<p>A list of H2OFrame ids to initialize the weight matrices of this model with.</p>\n",
       "</td></tr>\n",
       "<tr valign=\"top\"><td><code>initial_biases</code></td>\n",
       "<td>\n",
       "<p>A list of H2OFrame ids to initialize the bias vectors of this model with.</p>\n",
       "</td></tr>\n",
       "<tr valign=\"top\"><td><code>loss</code></td>\n",
       "<td>\n",
       "<p>Loss function. Must be one of: &quot;Automatic&quot;, &quot;CrossEntropy&quot;, &quot;Quadratic&quot;, &quot;Huber&quot;, &quot;Absolute&quot;, &quot;Quantile&quot;.\n",
       "Defaults to Automatic.</p>\n",
       "</td></tr>\n",
       "<tr valign=\"top\"><td><code>distribution</code></td>\n",
       "<td>\n",
       "<p>Distribution function Must be one of: &quot;AUTO&quot;, &quot;bernoulli&quot;, &quot;multinomial&quot;, &quot;gaussian&quot;, &quot;poisson&quot;, &quot;gamma&quot;,\n",
       "&quot;tweedie&quot;, &quot;laplace&quot;, &quot;quantile&quot;, &quot;huber&quot;. Defaults to AUTO.</p>\n",
       "</td></tr>\n",
       "<tr valign=\"top\"><td><code>quantile_alpha</code></td>\n",
       "<td>\n",
       "<p>Desired quantile for Quantile regression, must be between 0 and 1. Defaults to 0.5.</p>\n",
       "</td></tr>\n",
       "<tr valign=\"top\"><td><code>tweedie_power</code></td>\n",
       "<td>\n",
       "<p>Tweedie power for Tweedie regression, must be between 1 and 2. Defaults to 1.5.</p>\n",
       "</td></tr>\n",
       "<tr valign=\"top\"><td><code>huber_alpha</code></td>\n",
       "<td>\n",
       "<p>Desired quantile for Huber/M-regression (threshold between quadratic and linear loss, must be between 0 and\n",
       "1). Defaults to 0.9.</p>\n",
       "</td></tr>\n",
       "<tr valign=\"top\"><td><code>score_interval</code></td>\n",
       "<td>\n",
       "<p>Shortest time interval (in seconds) between model scoring. Defaults to 5.</p>\n",
       "</td></tr>\n",
       "<tr valign=\"top\"><td><code>score_training_samples</code></td>\n",
       "<td>\n",
       "<p>Number of training set samples for scoring (0 for all). Defaults to 10000.</p>\n",
       "</td></tr>\n",
       "<tr valign=\"top\"><td><code>score_validation_samples</code></td>\n",
       "<td>\n",
       "<p>Number of validation set samples for scoring (0 for all). Defaults to 0.</p>\n",
       "</td></tr>\n",
       "<tr valign=\"top\"><td><code>score_duty_cycle</code></td>\n",
       "<td>\n",
       "<p>Maximum duty cycle fraction for scoring (lower: more training, higher: more scoring). Defaults to 0.1.</p>\n",
       "</td></tr>\n",
       "<tr valign=\"top\"><td><code>classification_stop</code></td>\n",
       "<td>\n",
       "<p>Stopping criterion for classification error fraction on training data (-1 to disable). Defaults to 0.</p>\n",
       "</td></tr>\n",
       "<tr valign=\"top\"><td><code>regression_stop</code></td>\n",
       "<td>\n",
       "<p>Stopping criterion for regression error (MSE) on training data (-1 to disable). Defaults to 1e-06.</p>\n",
       "</td></tr>\n",
       "<tr valign=\"top\"><td><code>stopping_rounds</code></td>\n",
       "<td>\n",
       "<p>Early stopping based on convergence of stopping_metric. Stop if simple moving average of length k of the\n",
       "stopping_metric does not improve for k:=stopping_rounds scoring events (0 to disable) Defaults to 5.</p>\n",
       "</td></tr>\n",
       "<tr valign=\"top\"><td><code>stopping_metric</code></td>\n",
       "<td>\n",
       "<p>Metric to use for early stopping (AUTO: logloss for classification, deviance for regression and\n",
       "anonomaly_score for Isolation Forest). Note that custom and custom_increasing can only be used in GBM and DRF\n",
       "with the Python client. Must be one of: &quot;AUTO&quot;, &quot;deviance&quot;, &quot;logloss&quot;, &quot;MSE&quot;, &quot;RMSE&quot;, &quot;MAE&quot;, &quot;RMSLE&quot;, &quot;AUC&quot;,\n",
       "&quot;AUCPR&quot;, &quot;lift_top_group&quot;, &quot;misclassification&quot;, &quot;mean_per_class_error&quot;, &quot;custom&quot;, &quot;custom_increasing&quot;.\n",
       "Defaults to AUTO.</p>\n",
       "</td></tr>\n",
       "<tr valign=\"top\"><td><code>stopping_tolerance</code></td>\n",
       "<td>\n",
       "<p>Relative tolerance for metric-based stopping criterion (stop if relative improvement is not at least this\n",
       "much) Defaults to 0.</p>\n",
       "</td></tr>\n",
       "<tr valign=\"top\"><td><code>max_runtime_secs</code></td>\n",
       "<td>\n",
       "<p>Maximum allowed runtime in seconds for model training. Use 0 to disable. Defaults to 0.</p>\n",
       "</td></tr>\n",
       "<tr valign=\"top\"><td><code>score_validation_sampling</code></td>\n",
       "<td>\n",
       "<p>Method used to sample validation dataset for scoring. Must be one of: &quot;Uniform&quot;, &quot;Stratified&quot;. Defaults to\n",
       "Uniform.</p>\n",
       "</td></tr>\n",
       "<tr valign=\"top\"><td><code>diagnostics</code></td>\n",
       "<td>\n",
       "<p><code>Logical</code>. Enable diagnostics for hidden layers. Defaults to TRUE.</p>\n",
       "</td></tr>\n",
       "<tr valign=\"top\"><td><code>fast_mode</code></td>\n",
       "<td>\n",
       "<p><code>Logical</code>. Enable fast mode (minor approximation in back-propagation). Defaults to TRUE.</p>\n",
       "</td></tr>\n",
       "<tr valign=\"top\"><td><code>force_load_balance</code></td>\n",
       "<td>\n",
       "<p><code>Logical</code>. Force extra load balancing to increase training speed for small datasets (to keep all cores\n",
       "busy). Defaults to TRUE.</p>\n",
       "</td></tr>\n",
       "<tr valign=\"top\"><td><code>variable_importances</code></td>\n",
       "<td>\n",
       "<p><code>Logical</code>. Compute variable importances for input features (Gedeon method) - can be slow for large\n",
       "networks. Defaults to TRUE.</p>\n",
       "</td></tr>\n",
       "<tr valign=\"top\"><td><code>replicate_training_data</code></td>\n",
       "<td>\n",
       "<p><code>Logical</code>. Replicate the entire training dataset onto every node for faster training on small datasets.\n",
       "Defaults to TRUE.</p>\n",
       "</td></tr>\n",
       "<tr valign=\"top\"><td><code>single_node_mode</code></td>\n",
       "<td>\n",
       "<p><code>Logical</code>. Run on a single node for fine-tuning of model parameters. Defaults to FALSE.</p>\n",
       "</td></tr>\n",
       "<tr valign=\"top\"><td><code>shuffle_training_data</code></td>\n",
       "<td>\n",
       "<p><code>Logical</code>. Enable shuffling of training data (recommended if training data is replicated and\n",
       "train_samples_per_iteration is close to #nodes x #rows, of if using balance_classes). Defaults to FALSE.</p>\n",
       "</td></tr>\n",
       "<tr valign=\"top\"><td><code>missing_values_handling</code></td>\n",
       "<td>\n",
       "<p>Handling of missing values. Either MeanImputation or Skip. Must be one of: &quot;MeanImputation&quot;, &quot;Skip&quot;. Defaults\n",
       "to MeanImputation.</p>\n",
       "</td></tr>\n",
       "<tr valign=\"top\"><td><code>quiet_mode</code></td>\n",
       "<td>\n",
       "<p><code>Logical</code>. Enable quiet mode for less output to standard output. Defaults to FALSE.</p>\n",
       "</td></tr>\n",
       "<tr valign=\"top\"><td><code>autoencoder</code></td>\n",
       "<td>\n",
       "<p><code>Logical</code>. Auto-Encoder. Defaults to FALSE.</p>\n",
       "</td></tr>\n",
       "<tr valign=\"top\"><td><code>sparse</code></td>\n",
       "<td>\n",
       "<p><code>Logical</code>. Sparse data handling (more efficient for data with lots of 0 values). Defaults to FALSE.</p>\n",
       "</td></tr>\n",
       "<tr valign=\"top\"><td><code>col_major</code></td>\n",
       "<td>\n",
       "<p><code>Logical</code>. #DEPRECATED Use a column major weight matrix for input layer. Can speed up forward\n",
       "propagation, but might slow down backpropagation. Defaults to FALSE.</p>\n",
       "</td></tr>\n",
       "<tr valign=\"top\"><td><code>average_activation</code></td>\n",
       "<td>\n",
       "<p>Average activation for sparse auto-encoder. #Experimental Defaults to 0.</p>\n",
       "</td></tr>\n",
       "<tr valign=\"top\"><td><code>sparsity_beta</code></td>\n",
       "<td>\n",
       "<p>Sparsity regularization. #Experimental Defaults to 0.</p>\n",
       "</td></tr>\n",
       "<tr valign=\"top\"><td><code>max_categorical_features</code></td>\n",
       "<td>\n",
       "<p>Max. number of categorical features, enforced via hashing. #Experimental Defaults to 2147483647.</p>\n",
       "</td></tr>\n",
       "<tr valign=\"top\"><td><code>reproducible</code></td>\n",
       "<td>\n",
       "<p><code>Logical</code>. Force reproducibility on small data (will be slow - only uses 1 thread). Defaults to FALSE.</p>\n",
       "</td></tr>\n",
       "<tr valign=\"top\"><td><code>export_weights_and_biases</code></td>\n",
       "<td>\n",
       "<p><code>Logical</code>. Whether to export Neural Network weights and biases to H2O Frames. Defaults to FALSE.</p>\n",
       "</td></tr>\n",
       "<tr valign=\"top\"><td><code>mini_batch_size</code></td>\n",
       "<td>\n",
       "<p>Mini-batch size (smaller leads to better fit, larger can speed up and generalize better). Defaults to 1.</p>\n",
       "</td></tr>\n",
       "<tr valign=\"top\"><td><code>categorical_encoding</code></td>\n",
       "<td>\n",
       "<p>Encoding scheme for categorical features Must be one of: &quot;AUTO&quot;, &quot;Enum&quot;, &quot;OneHotInternal&quot;, &quot;OneHotExplicit&quot;,\n",
       "&quot;Binary&quot;, &quot;Eigen&quot;, &quot;LabelEncoder&quot;, &quot;SortByResponse&quot;, &quot;EnumLimited&quot;. Defaults to AUTO.</p>\n",
       "</td></tr>\n",
       "<tr valign=\"top\"><td><code>elastic_averaging</code></td>\n",
       "<td>\n",
       "<p><code>Logical</code>. Elastic averaging between compute nodes can improve distributed model convergence.\n",
       "#Experimental Defaults to FALSE.</p>\n",
       "</td></tr>\n",
       "<tr valign=\"top\"><td><code>elastic_averaging_moving_rate</code></td>\n",
       "<td>\n",
       "<p>Elastic averaging moving rate (only if elastic averaging is enabled). Defaults to 0.9.</p>\n",
       "</td></tr>\n",
       "<tr valign=\"top\"><td><code>elastic_averaging_regularization</code></td>\n",
       "<td>\n",
       "<p>Elastic averaging regularization strength (only if elastic averaging is enabled). Defaults to 0.001.</p>\n",
       "</td></tr>\n",
       "<tr valign=\"top\"><td><code>export_checkpoints_dir</code></td>\n",
       "<td>\n",
       "<p>Automatically export generated models to this directory.</p>\n",
       "</td></tr>\n",
       "<tr valign=\"top\"><td><code>auc_type</code></td>\n",
       "<td>\n",
       "<p>Set default multinomial AUC type. Must be one of: &quot;AUTO&quot;, &quot;NONE&quot;, &quot;MACRO_OVR&quot;, &quot;WEIGHTED_OVR&quot;, &quot;MACRO_OVO&quot;,\n",
       "&quot;WEIGHTED_OVO&quot;. Defaults to AUTO.</p>\n",
       "</td></tr>\n",
       "<tr valign=\"top\"><td><code>verbose</code></td>\n",
       "<td>\n",
       "<p><code>Logical</code>. Print scoring history to the console (Metrics per epoch). Defaults to FALSE.</p>\n",
       "</td></tr>\n",
       "</table>\n",
       "\n",
       "\n",
       "<h3>See Also</h3>\n",
       "\n",
       "<p><code>predict.H2OModel</code> for prediction\n",
       "</p>\n",
       "\n",
       "\n",
       "<h3>Examples</h3>\n",
       "\n",
       "<pre>\n",
       "## Not run: \n",
       "library(h2o)\n",
       "h2o.init()\n",
       "iris_hf &lt;- as.h2o(iris)\n",
       "iris_dl &lt;- h2o.deeplearning(x = 1:4, y = 5, training_frame = iris_hf, seed=123456)\n",
       "\n",
       "# now make a prediction\n",
       "predictions &lt;- h2o.predict(iris_dl, iris_hf)\n",
       "\n",
       "## End(Not run)\n",
       "</pre>\n",
       "\n",
       "<hr /><div style=\"text-align: center;\">[Package <em>h2o</em> version 3.38.0.1 ]</div>"
      ],
      "text/latex": [
       "\\inputencoding{utf8}\n",
       "\\HeaderA{h2o.deeplearning}{Build a Deep Neural Network model using CPUs}{h2o.deeplearning}\n",
       "%\n",
       "\\begin{Description}\\relax\n",
       "Builds a feed-forward multilayer artificial neural network on an H2OFrame.\n",
       "\\end{Description}\n",
       "%\n",
       "\\begin{Usage}\n",
       "\\begin{verbatim}\n",
       "h2o.deeplearning(\n",
       "  x,\n",
       "  y,\n",
       "  training_frame,\n",
       "  model_id = NULL,\n",
       "  validation_frame = NULL,\n",
       "  nfolds = 0,\n",
       "  keep_cross_validation_models = TRUE,\n",
       "  keep_cross_validation_predictions = FALSE,\n",
       "  keep_cross_validation_fold_assignment = FALSE,\n",
       "  fold_assignment = c(\"AUTO\", \"Random\", \"Modulo\", \"Stratified\"),\n",
       "  fold_column = NULL,\n",
       "  ignore_const_cols = TRUE,\n",
       "  score_each_iteration = FALSE,\n",
       "  weights_column = NULL,\n",
       "  offset_column = NULL,\n",
       "  balance_classes = FALSE,\n",
       "  class_sampling_factors = NULL,\n",
       "  max_after_balance_size = 5,\n",
       "  checkpoint = NULL,\n",
       "  pretrained_autoencoder = NULL,\n",
       "  overwrite_with_best_model = TRUE,\n",
       "  use_all_factor_levels = TRUE,\n",
       "  standardize = TRUE,\n",
       "  activation = c(\"Tanh\", \"TanhWithDropout\", \"Rectifier\", \"RectifierWithDropout\",\n",
       "    \"Maxout\", \"MaxoutWithDropout\"),\n",
       "  hidden = c(200, 200),\n",
       "  epochs = 10,\n",
       "  train_samples_per_iteration = -2,\n",
       "  target_ratio_comm_to_comp = 0.05,\n",
       "  seed = -1,\n",
       "  adaptive_rate = TRUE,\n",
       "  rho = 0.99,\n",
       "  epsilon = 1e-08,\n",
       "  rate = 0.005,\n",
       "  rate_annealing = 1e-06,\n",
       "  rate_decay = 1,\n",
       "  momentum_start = 0,\n",
       "  momentum_ramp = 1e+06,\n",
       "  momentum_stable = 0,\n",
       "  nesterov_accelerated_gradient = TRUE,\n",
       "  input_dropout_ratio = 0,\n",
       "  hidden_dropout_ratios = NULL,\n",
       "  l1 = 0,\n",
       "  l2 = 0,\n",
       "  max_w2 = 3.4028235e+38,\n",
       "  initial_weight_distribution = c(\"UniformAdaptive\", \"Uniform\", \"Normal\"),\n",
       "  initial_weight_scale = 1,\n",
       "  initial_weights = NULL,\n",
       "  initial_biases = NULL,\n",
       "  loss = c(\"Automatic\", \"CrossEntropy\", \"Quadratic\", \"Huber\", \"Absolute\", \"Quantile\"),\n",
       "  distribution = c(\"AUTO\", \"bernoulli\", \"multinomial\", \"gaussian\", \"poisson\", \"gamma\",\n",
       "    \"tweedie\", \"laplace\", \"quantile\", \"huber\"),\n",
       "  quantile_alpha = 0.5,\n",
       "  tweedie_power = 1.5,\n",
       "  huber_alpha = 0.9,\n",
       "  score_interval = 5,\n",
       "  score_training_samples = 10000,\n",
       "  score_validation_samples = 0,\n",
       "  score_duty_cycle = 0.1,\n",
       "  classification_stop = 0,\n",
       "  regression_stop = 1e-06,\n",
       "  stopping_rounds = 5,\n",
       "  stopping_metric = c(\"AUTO\", \"deviance\", \"logloss\", \"MSE\", \"RMSE\", \"MAE\", \"RMSLE\",\n",
       "    \"AUC\", \"AUCPR\", \"lift_top_group\", \"misclassification\", \"mean_per_class_error\",\n",
       "    \"custom\", \"custom_increasing\"),\n",
       "  stopping_tolerance = 0,\n",
       "  max_runtime_secs = 0,\n",
       "  score_validation_sampling = c(\"Uniform\", \"Stratified\"),\n",
       "  diagnostics = TRUE,\n",
       "  fast_mode = TRUE,\n",
       "  force_load_balance = TRUE,\n",
       "  variable_importances = TRUE,\n",
       "  replicate_training_data = TRUE,\n",
       "  single_node_mode = FALSE,\n",
       "  shuffle_training_data = FALSE,\n",
       "  missing_values_handling = c(\"MeanImputation\", \"Skip\"),\n",
       "  quiet_mode = FALSE,\n",
       "  autoencoder = FALSE,\n",
       "  sparse = FALSE,\n",
       "  col_major = FALSE,\n",
       "  average_activation = 0,\n",
       "  sparsity_beta = 0,\n",
       "  max_categorical_features = 2147483647,\n",
       "  reproducible = FALSE,\n",
       "  export_weights_and_biases = FALSE,\n",
       "  mini_batch_size = 1,\n",
       "  categorical_encoding = c(\"AUTO\", \"Enum\", \"OneHotInternal\", \"OneHotExplicit\",\n",
       "    \"Binary\", \"Eigen\", \"LabelEncoder\", \"SortByResponse\", \"EnumLimited\"),\n",
       "  elastic_averaging = FALSE,\n",
       "  elastic_averaging_moving_rate = 0.9,\n",
       "  elastic_averaging_regularization = 0.001,\n",
       "  export_checkpoints_dir = NULL,\n",
       "  auc_type = c(\"AUTO\", \"NONE\", \"MACRO_OVR\", \"WEIGHTED_OVR\", \"MACRO_OVO\",\n",
       "    \"WEIGHTED_OVO\"),\n",
       "  verbose = FALSE\n",
       ")\n",
       "\\end{verbatim}\n",
       "\\end{Usage}\n",
       "%\n",
       "\\begin{Arguments}\n",
       "\\begin{ldescription}\n",
       "\\item[\\code{x}] (Optional) A vector containing the names or indices of the predictor variables to use in building the model.\n",
       "If x is missing, then all columns except y are used.\n",
       "\n",
       "\\item[\\code{y}] The name or column index of the response variable in the data. \n",
       "The response must be either a numeric or a categorical/factor variable. \n",
       "If the response is numeric, then a regression model will be trained, otherwise it will train a classification model.\n",
       "\n",
       "\\item[\\code{training\\_frame}] Id of the training data frame.\n",
       "\n",
       "\\item[\\code{model\\_id}] Destination id for this model; auto-generated if not specified.\n",
       "\n",
       "\\item[\\code{validation\\_frame}] Id of the validation data frame.\n",
       "\n",
       "\\item[\\code{nfolds}] Number of folds for K-fold cross-validation (0 to disable or >= 2). Defaults to 0.\n",
       "\n",
       "\\item[\\code{keep\\_cross\\_validation\\_models}] \\code{Logical}. Whether to keep the cross-validation models. Defaults to TRUE.\n",
       "\n",
       "\\item[\\code{keep\\_cross\\_validation\\_predictions}] \\code{Logical}. Whether to keep the predictions of the cross-validation models. Defaults to FALSE.\n",
       "\n",
       "\\item[\\code{keep\\_cross\\_validation\\_fold\\_assignment}] \\code{Logical}. Whether to keep the cross-validation fold assignment. Defaults to FALSE.\n",
       "\n",
       "\\item[\\code{fold\\_assignment}] Cross-validation fold assignment scheme, if fold\\_column is not specified. The 'Stratified' option will\n",
       "stratify the folds based on the response variable, for classification problems. Must be one of: \"AUTO\",\n",
       "\"Random\", \"Modulo\", \"Stratified\". Defaults to AUTO.\n",
       "\n",
       "\\item[\\code{fold\\_column}] Column with cross-validation fold index assignment per observation.\n",
       "\n",
       "\\item[\\code{ignore\\_const\\_cols}] \\code{Logical}. Ignore constant columns. Defaults to TRUE.\n",
       "\n",
       "\\item[\\code{score\\_each\\_iteration}] \\code{Logical}. Whether to score during each iteration of model training. Defaults to FALSE.\n",
       "\n",
       "\\item[\\code{weights\\_column}] Column with observation weights. Giving some observation a weight of zero is equivalent to excluding it from\n",
       "the dataset; giving an observation a relative weight of 2 is equivalent to repeating that row twice. Negative\n",
       "weights are not allowed. Note: Weights are per-row observation weights and do not increase the size of the\n",
       "data frame. This is typically the number of times a row is repeated, but non-integer values are supported as\n",
       "well. During training, rows with higher weights matter more, due to the larger loss function pre-factor. If\n",
       "you set weight = 0 for a row, the returned prediction frame at that row is zero and this is incorrect. To get\n",
       "an accurate prediction, remove all rows with weight == 0.\n",
       "\n",
       "\\item[\\code{offset\\_column}] Offset column. This will be added to the combination of columns before applying the link function.\n",
       "\n",
       "\\item[\\code{balance\\_classes}] \\code{Logical}. Balance training data class counts via over/under-sampling (for imbalanced data). Defaults to\n",
       "FALSE.\n",
       "\n",
       "\\item[\\code{class\\_sampling\\_factors}] Desired over/under-sampling ratios per class (in lexicographic order). If not specified, sampling factors will\n",
       "be automatically computed to obtain class balance during training. Requires balance\\_classes.\n",
       "\n",
       "\\item[\\code{max\\_after\\_balance\\_size}] Maximum relative size of the training data after balancing class counts (can be less than 1.0). Requires\n",
       "balance\\_classes. Defaults to 5.0.\n",
       "\n",
       "\\item[\\code{checkpoint}] Model checkpoint to resume training with.\n",
       "\n",
       "\\item[\\code{pretrained\\_autoencoder}] Pretrained autoencoder model to initialize this model with.\n",
       "\n",
       "\\item[\\code{overwrite\\_with\\_best\\_model}] \\code{Logical}. If enabled, override the final model with the best model found during training. Defaults to\n",
       "TRUE.\n",
       "\n",
       "\\item[\\code{use\\_all\\_factor\\_levels}] \\code{Logical}. Use all factor levels of categorical variables. Otherwise, the first factor level is omitted\n",
       "(without loss of accuracy). Useful for variable importances and auto-enabled for autoencoder. Defaults to\n",
       "TRUE.\n",
       "\n",
       "\\item[\\code{standardize}] \\code{Logical}. If enabled, automatically standardize the data. If disabled, the user must provide properly\n",
       "scaled input data. Defaults to TRUE.\n",
       "\n",
       "\\item[\\code{activation}] Activation function. Must be one of: \"Tanh\", \"TanhWithDropout\", \"Rectifier\", \"RectifierWithDropout\", \"Maxout\",\n",
       "\"MaxoutWithDropout\". Defaults to Rectifier.\n",
       "\n",
       "\\item[\\code{hidden}] Hidden layer sizes (e.g. [100, 100]). Defaults to c(200, 200).\n",
       "\n",
       "\\item[\\code{epochs}] How many times the dataset should be iterated (streamed), can be fractional. Defaults to 10.\n",
       "\n",
       "\\item[\\code{train\\_samples\\_per\\_iteration}] Number of training samples (globally) per MapReduce iteration. Special values are 0: one epoch, -1: all\n",
       "available data (e.g., replicated training data), -2: automatic. Defaults to -2.\n",
       "\n",
       "\\item[\\code{target\\_ratio\\_comm\\_to\\_comp}] Target ratio of communication overhead to computation. Only for multi-node operation and\n",
       "train\\_samples\\_per\\_iteration = -2 (auto-tuning). Defaults to 0.05.\n",
       "\n",
       "\\item[\\code{seed}] Seed for random numbers (affects certain parts of the algo that are stochastic and those might or might not be enabled by default).\n",
       "Note: only reproducible when running single threaded.\n",
       "Defaults to -1 (time-based random number).\n",
       "\n",
       "\\item[\\code{adaptive\\_rate}] \\code{Logical}. Adaptive learning rate. Defaults to TRUE.\n",
       "\n",
       "\\item[\\code{rho}] Adaptive learning rate time decay factor (similarity to prior updates). Defaults to 0.99.\n",
       "\n",
       "\\item[\\code{epsilon}] Adaptive learning rate smoothing factor (to avoid divisions by zero and allow progress). Defaults to 1e-08.\n",
       "\n",
       "\\item[\\code{rate}] Learning rate (higher => less stable, lower => slower convergence). Defaults to 0.005.\n",
       "\n",
       "\\item[\\code{rate\\_annealing}] Learning rate annealing: rate / (1 + rate\\_annealing * samples). Defaults to 1e-06.\n",
       "\n",
       "\\item[\\code{rate\\_decay}] Learning rate decay factor between layers (N-th layer: rate * rate\\_decay \\textasciicircum{} (n - 1). Defaults to 1.\n",
       "\n",
       "\\item[\\code{momentum\\_start}] Initial momentum at the beginning of training (try 0.5). Defaults to 0.\n",
       "\n",
       "\\item[\\code{momentum\\_ramp}] Number of training samples for which momentum increases. Defaults to 1000000.\n",
       "\n",
       "\\item[\\code{momentum\\_stable}] Final momentum after the ramp is over (try 0.99). Defaults to 0.\n",
       "\n",
       "\\item[\\code{nesterov\\_accelerated\\_gradient}] \\code{Logical}. Use Nesterov accelerated gradient (recommended). Defaults to TRUE.\n",
       "\n",
       "\\item[\\code{input\\_dropout\\_ratio}] Input layer dropout ratio (can improve generalization, try 0.1 or 0.2). Defaults to 0.\n",
       "\n",
       "\\item[\\code{hidden\\_dropout\\_ratios}] Hidden layer dropout ratios (can improve generalization), specify one value per hidden layer, defaults to 0.5.\n",
       "\n",
       "\\item[\\code{l1}] L1 regularization (can add stability and improve generalization, causes many weights to become 0). Defaults to\n",
       "0.\n",
       "\n",
       "\\item[\\code{l2}] L2 regularization (can add stability and improve generalization, causes many weights to be small. Defaults to\n",
       "0.\n",
       "\n",
       "\\item[\\code{max\\_w2}] Constraint for squared sum of incoming weights per unit (e.g. for Rectifier). Defaults to 3.4028235e+38.\n",
       "\n",
       "\\item[\\code{initial\\_weight\\_distribution}] Initial weight distribution. Must be one of: \"UniformAdaptive\", \"Uniform\", \"Normal\". Defaults to\n",
       "UniformAdaptive.\n",
       "\n",
       "\\item[\\code{initial\\_weight\\_scale}] Uniform: -value...value, Normal: stddev. Defaults to 1.\n",
       "\n",
       "\\item[\\code{initial\\_weights}] A list of H2OFrame ids to initialize the weight matrices of this model with.\n",
       "\n",
       "\\item[\\code{initial\\_biases}] A list of H2OFrame ids to initialize the bias vectors of this model with.\n",
       "\n",
       "\\item[\\code{loss}] Loss function. Must be one of: \"Automatic\", \"CrossEntropy\", \"Quadratic\", \"Huber\", \"Absolute\", \"Quantile\".\n",
       "Defaults to Automatic.\n",
       "\n",
       "\\item[\\code{distribution}] Distribution function Must be one of: \"AUTO\", \"bernoulli\", \"multinomial\", \"gaussian\", \"poisson\", \"gamma\",\n",
       "\"tweedie\", \"laplace\", \"quantile\", \"huber\". Defaults to AUTO.\n",
       "\n",
       "\\item[\\code{quantile\\_alpha}] Desired quantile for Quantile regression, must be between 0 and 1. Defaults to 0.5.\n",
       "\n",
       "\\item[\\code{tweedie\\_power}] Tweedie power for Tweedie regression, must be between 1 and 2. Defaults to 1.5.\n",
       "\n",
       "\\item[\\code{huber\\_alpha}] Desired quantile for Huber/M-regression (threshold between quadratic and linear loss, must be between 0 and\n",
       "1). Defaults to 0.9.\n",
       "\n",
       "\\item[\\code{score\\_interval}] Shortest time interval (in seconds) between model scoring. Defaults to 5.\n",
       "\n",
       "\\item[\\code{score\\_training\\_samples}] Number of training set samples for scoring (0 for all). Defaults to 10000.\n",
       "\n",
       "\\item[\\code{score\\_validation\\_samples}] Number of validation set samples for scoring (0 for all). Defaults to 0.\n",
       "\n",
       "\\item[\\code{score\\_duty\\_cycle}] Maximum duty cycle fraction for scoring (lower: more training, higher: more scoring). Defaults to 0.1.\n",
       "\n",
       "\\item[\\code{classification\\_stop}] Stopping criterion for classification error fraction on training data (-1 to disable). Defaults to 0.\n",
       "\n",
       "\\item[\\code{regression\\_stop}] Stopping criterion for regression error (MSE) on training data (-1 to disable). Defaults to 1e-06.\n",
       "\n",
       "\\item[\\code{stopping\\_rounds}] Early stopping based on convergence of stopping\\_metric. Stop if simple moving average of length k of the\n",
       "stopping\\_metric does not improve for k:=stopping\\_rounds scoring events (0 to disable) Defaults to 5.\n",
       "\n",
       "\\item[\\code{stopping\\_metric}] Metric to use for early stopping (AUTO: logloss for classification, deviance for regression and\n",
       "anonomaly\\_score for Isolation Forest). Note that custom and custom\\_increasing can only be used in GBM and DRF\n",
       "with the Python client. Must be one of: \"AUTO\", \"deviance\", \"logloss\", \"MSE\", \"RMSE\", \"MAE\", \"RMSLE\", \"AUC\",\n",
       "\"AUCPR\", \"lift\\_top\\_group\", \"misclassification\", \"mean\\_per\\_class\\_error\", \"custom\", \"custom\\_increasing\".\n",
       "Defaults to AUTO.\n",
       "\n",
       "\\item[\\code{stopping\\_tolerance}] Relative tolerance for metric-based stopping criterion (stop if relative improvement is not at least this\n",
       "much) Defaults to 0.\n",
       "\n",
       "\\item[\\code{max\\_runtime\\_secs}] Maximum allowed runtime in seconds for model training. Use 0 to disable. Defaults to 0.\n",
       "\n",
       "\\item[\\code{score\\_validation\\_sampling}] Method used to sample validation dataset for scoring. Must be one of: \"Uniform\", \"Stratified\". Defaults to\n",
       "Uniform.\n",
       "\n",
       "\\item[\\code{diagnostics}] \\code{Logical}. Enable diagnostics for hidden layers. Defaults to TRUE.\n",
       "\n",
       "\\item[\\code{fast\\_mode}] \\code{Logical}. Enable fast mode (minor approximation in back-propagation). Defaults to TRUE.\n",
       "\n",
       "\\item[\\code{force\\_load\\_balance}] \\code{Logical}. Force extra load balancing to increase training speed for small datasets (to keep all cores\n",
       "busy). Defaults to TRUE.\n",
       "\n",
       "\\item[\\code{variable\\_importances}] \\code{Logical}. Compute variable importances for input features (Gedeon method) - can be slow for large\n",
       "networks. Defaults to TRUE.\n",
       "\n",
       "\\item[\\code{replicate\\_training\\_data}] \\code{Logical}. Replicate the entire training dataset onto every node for faster training on small datasets.\n",
       "Defaults to TRUE.\n",
       "\n",
       "\\item[\\code{single\\_node\\_mode}] \\code{Logical}. Run on a single node for fine-tuning of model parameters. Defaults to FALSE.\n",
       "\n",
       "\\item[\\code{shuffle\\_training\\_data}] \\code{Logical}. Enable shuffling of training data (recommended if training data is replicated and\n",
       "train\\_samples\\_per\\_iteration is close to \\#nodes x \\#rows, of if using balance\\_classes). Defaults to FALSE.\n",
       "\n",
       "\\item[\\code{missing\\_values\\_handling}] Handling of missing values. Either MeanImputation or Skip. Must be one of: \"MeanImputation\", \"Skip\". Defaults\n",
       "to MeanImputation.\n",
       "\n",
       "\\item[\\code{quiet\\_mode}] \\code{Logical}. Enable quiet mode for less output to standard output. Defaults to FALSE.\n",
       "\n",
       "\\item[\\code{autoencoder}] \\code{Logical}. Auto-Encoder. Defaults to FALSE.\n",
       "\n",
       "\\item[\\code{sparse}] \\code{Logical}. Sparse data handling (more efficient for data with lots of 0 values). Defaults to FALSE.\n",
       "\n",
       "\\item[\\code{col\\_major}] \\code{Logical}. \\#DEPRECATED Use a column major weight matrix for input layer. Can speed up forward\n",
       "propagation, but might slow down backpropagation. Defaults to FALSE.\n",
       "\n",
       "\\item[\\code{average\\_activation}] Average activation for sparse auto-encoder. \\#Experimental Defaults to 0.\n",
       "\n",
       "\\item[\\code{sparsity\\_beta}] Sparsity regularization. \\#Experimental Defaults to 0.\n",
       "\n",
       "\\item[\\code{max\\_categorical\\_features}] Max. number of categorical features, enforced via hashing. \\#Experimental Defaults to 2147483647.\n",
       "\n",
       "\\item[\\code{reproducible}] \\code{Logical}. Force reproducibility on small data (will be slow - only uses 1 thread). Defaults to FALSE.\n",
       "\n",
       "\\item[\\code{export\\_weights\\_and\\_biases}] \\code{Logical}. Whether to export Neural Network weights and biases to H2O Frames. Defaults to FALSE.\n",
       "\n",
       "\\item[\\code{mini\\_batch\\_size}] Mini-batch size (smaller leads to better fit, larger can speed up and generalize better). Defaults to 1.\n",
       "\n",
       "\\item[\\code{categorical\\_encoding}] Encoding scheme for categorical features Must be one of: \"AUTO\", \"Enum\", \"OneHotInternal\", \"OneHotExplicit\",\n",
       "\"Binary\", \"Eigen\", \"LabelEncoder\", \"SortByResponse\", \"EnumLimited\". Defaults to AUTO.\n",
       "\n",
       "\\item[\\code{elastic\\_averaging}] \\code{Logical}. Elastic averaging between compute nodes can improve distributed model convergence.\n",
       "\\#Experimental Defaults to FALSE.\n",
       "\n",
       "\\item[\\code{elastic\\_averaging\\_moving\\_rate}] Elastic averaging moving rate (only if elastic averaging is enabled). Defaults to 0.9.\n",
       "\n",
       "\\item[\\code{elastic\\_averaging\\_regularization}] Elastic averaging regularization strength (only if elastic averaging is enabled). Defaults to 0.001.\n",
       "\n",
       "\\item[\\code{export\\_checkpoints\\_dir}] Automatically export generated models to this directory.\n",
       "\n",
       "\\item[\\code{auc\\_type}] Set default multinomial AUC type. Must be one of: \"AUTO\", \"NONE\", \"MACRO\\_OVR\", \"WEIGHTED\\_OVR\", \"MACRO\\_OVO\",\n",
       "\"WEIGHTED\\_OVO\". Defaults to AUTO.\n",
       "\n",
       "\\item[\\code{verbose}] \\code{Logical}. Print scoring history to the console (Metrics per epoch). Defaults to FALSE.\n",
       "\\end{ldescription}\n",
       "\\end{Arguments}\n",
       "%\n",
       "\\begin{SeeAlso}\\relax\n",
       "\\code{\\LinkA{predict.H2OModel}{predict.H2OModel}} for prediction\n",
       "\\end{SeeAlso}\n",
       "%\n",
       "\\begin{Examples}\n",
       "\\begin{ExampleCode}\n",
       "## Not run: \n",
       "library(h2o)\n",
       "h2o.init()\n",
       "iris_hf <- as.h2o(iris)\n",
       "iris_dl <- h2o.deeplearning(x = 1:4, y = 5, training_frame = iris_hf, seed=123456)\n",
       "\n",
       "# now make a prediction\n",
       "predictions <- h2o.predict(iris_dl, iris_hf)\n",
       "\n",
       "## End(Not run)\n",
       "\\end{ExampleCode}\n",
       "\\end{Examples}"
      ],
      "text/plain": [
       "h2o.deeplearning              package:h2o              R Documentation\n",
       "\n",
       "_\bB_\bu_\bi_\bl_\bd _\ba _\bD_\be_\be_\bp _\bN_\be_\bu_\br_\ba_\bl _\bN_\be_\bt_\bw_\bo_\br_\bk _\bm_\bo_\bd_\be_\bl _\bu_\bs_\bi_\bn_\bg _\bC_\bP_\bU_\bs\n",
       "\n",
       "_\bD_\be_\bs_\bc_\br_\bi_\bp_\bt_\bi_\bo_\bn:\n",
       "\n",
       "     Builds a feed-forward multilayer artificial neural network on an\n",
       "     H2OFrame.\n",
       "\n",
       "_\bU_\bs_\ba_\bg_\be:\n",
       "\n",
       "     h2o.deeplearning(\n",
       "       x,\n",
       "       y,\n",
       "       training_frame,\n",
       "       model_id = NULL,\n",
       "       validation_frame = NULL,\n",
       "       nfolds = 0,\n",
       "       keep_cross_validation_models = TRUE,\n",
       "       keep_cross_validation_predictions = FALSE,\n",
       "       keep_cross_validation_fold_assignment = FALSE,\n",
       "       fold_assignment = c(\"AUTO\", \"Random\", \"Modulo\", \"Stratified\"),\n",
       "       fold_column = NULL,\n",
       "       ignore_const_cols = TRUE,\n",
       "       score_each_iteration = FALSE,\n",
       "       weights_column = NULL,\n",
       "       offset_column = NULL,\n",
       "       balance_classes = FALSE,\n",
       "       class_sampling_factors = NULL,\n",
       "       max_after_balance_size = 5,\n",
       "       checkpoint = NULL,\n",
       "       pretrained_autoencoder = NULL,\n",
       "       overwrite_with_best_model = TRUE,\n",
       "       use_all_factor_levels = TRUE,\n",
       "       standardize = TRUE,\n",
       "       activation = c(\"Tanh\", \"TanhWithDropout\", \"Rectifier\", \"RectifierWithDropout\",\n",
       "         \"Maxout\", \"MaxoutWithDropout\"),\n",
       "       hidden = c(200, 200),\n",
       "       epochs = 10,\n",
       "       train_samples_per_iteration = -2,\n",
       "       target_ratio_comm_to_comp = 0.05,\n",
       "       seed = -1,\n",
       "       adaptive_rate = TRUE,\n",
       "       rho = 0.99,\n",
       "       epsilon = 1e-08,\n",
       "       rate = 0.005,\n",
       "       rate_annealing = 1e-06,\n",
       "       rate_decay = 1,\n",
       "       momentum_start = 0,\n",
       "       momentum_ramp = 1e+06,\n",
       "       momentum_stable = 0,\n",
       "       nesterov_accelerated_gradient = TRUE,\n",
       "       input_dropout_ratio = 0,\n",
       "       hidden_dropout_ratios = NULL,\n",
       "       l1 = 0,\n",
       "       l2 = 0,\n",
       "       max_w2 = 3.4028235e+38,\n",
       "       initial_weight_distribution = c(\"UniformAdaptive\", \"Uniform\", \"Normal\"),\n",
       "       initial_weight_scale = 1,\n",
       "       initial_weights = NULL,\n",
       "       initial_biases = NULL,\n",
       "       loss = c(\"Automatic\", \"CrossEntropy\", \"Quadratic\", \"Huber\", \"Absolute\", \"Quantile\"),\n",
       "       distribution = c(\"AUTO\", \"bernoulli\", \"multinomial\", \"gaussian\", \"poisson\", \"gamma\",\n",
       "         \"tweedie\", \"laplace\", \"quantile\", \"huber\"),\n",
       "       quantile_alpha = 0.5,\n",
       "       tweedie_power = 1.5,\n",
       "       huber_alpha = 0.9,\n",
       "       score_interval = 5,\n",
       "       score_training_samples = 10000,\n",
       "       score_validation_samples = 0,\n",
       "       score_duty_cycle = 0.1,\n",
       "       classification_stop = 0,\n",
       "       regression_stop = 1e-06,\n",
       "       stopping_rounds = 5,\n",
       "       stopping_metric = c(\"AUTO\", \"deviance\", \"logloss\", \"MSE\", \"RMSE\", \"MAE\", \"RMSLE\",\n",
       "         \"AUC\", \"AUCPR\", \"lift_top_group\", \"misclassification\", \"mean_per_class_error\",\n",
       "         \"custom\", \"custom_increasing\"),\n",
       "       stopping_tolerance = 0,\n",
       "       max_runtime_secs = 0,\n",
       "       score_validation_sampling = c(\"Uniform\", \"Stratified\"),\n",
       "       diagnostics = TRUE,\n",
       "       fast_mode = TRUE,\n",
       "       force_load_balance = TRUE,\n",
       "       variable_importances = TRUE,\n",
       "       replicate_training_data = TRUE,\n",
       "       single_node_mode = FALSE,\n",
       "       shuffle_training_data = FALSE,\n",
       "       missing_values_handling = c(\"MeanImputation\", \"Skip\"),\n",
       "       quiet_mode = FALSE,\n",
       "       autoencoder = FALSE,\n",
       "       sparse = FALSE,\n",
       "       col_major = FALSE,\n",
       "       average_activation = 0,\n",
       "       sparsity_beta = 0,\n",
       "       max_categorical_features = 2147483647,\n",
       "       reproducible = FALSE,\n",
       "       export_weights_and_biases = FALSE,\n",
       "       mini_batch_size = 1,\n",
       "       categorical_encoding = c(\"AUTO\", \"Enum\", \"OneHotInternal\", \"OneHotExplicit\",\n",
       "         \"Binary\", \"Eigen\", \"LabelEncoder\", \"SortByResponse\", \"EnumLimited\"),\n",
       "       elastic_averaging = FALSE,\n",
       "       elastic_averaging_moving_rate = 0.9,\n",
       "       elastic_averaging_regularization = 0.001,\n",
       "       export_checkpoints_dir = NULL,\n",
       "       auc_type = c(\"AUTO\", \"NONE\", \"MACRO_OVR\", \"WEIGHTED_OVR\", \"MACRO_OVO\",\n",
       "         \"WEIGHTED_OVO\"),\n",
       "       verbose = FALSE\n",
       "     )\n",
       "     \n",
       "_\bA_\br_\bg_\bu_\bm_\be_\bn_\bt_\bs:\n",
       "\n",
       "       x: (Optional) A vector containing the names or indices of the\n",
       "          predictor variables to use in building the model. If x is\n",
       "          missing, then all columns except y are used.\n",
       "\n",
       "       y: The name or column index of the response variable in the\n",
       "          data.  The response must be either a numeric or a\n",
       "          categorical/factor variable.  If the response is numeric,\n",
       "          then a regression model will be trained, otherwise it will\n",
       "          train a classification model.\n",
       "\n",
       "training_frame: Id of the training data frame.\n",
       "\n",
       "model_id: Destination id for this model; auto-generated if not\n",
       "          specified.\n",
       "\n",
       "validation_frame: Id of the validation data frame.\n",
       "\n",
       "  nfolds: Number of folds for K-fold cross-validation (0 to disable or\n",
       "          >= 2). Defaults to 0.\n",
       "\n",
       "keep_cross_validation_models: 'Logical'. Whether to keep the\n",
       "          cross-validation models. Defaults to TRUE.\n",
       "\n",
       "keep_cross_validation_predictions: 'Logical'. Whether to keep the\n",
       "          predictions of the cross-validation models. Defaults to\n",
       "          FALSE.\n",
       "\n",
       "keep_cross_validation_fold_assignment: 'Logical'. Whether to keep the\n",
       "          cross-validation fold assignment. Defaults to FALSE.\n",
       "\n",
       "fold_assignment: Cross-validation fold assignment scheme, if\n",
       "          fold_column is not specified. The 'Stratified' option will\n",
       "          stratify the folds based on the response variable, for\n",
       "          classification problems. Must be one of: \"AUTO\", \"Random\",\n",
       "          \"Modulo\", \"Stratified\". Defaults to AUTO.\n",
       "\n",
       "fold_column: Column with cross-validation fold index assignment per\n",
       "          observation.\n",
       "\n",
       "ignore_const_cols: 'Logical'. Ignore constant columns. Defaults to\n",
       "          TRUE.\n",
       "\n",
       "score_each_iteration: 'Logical'. Whether to score during each iteration\n",
       "          of model training. Defaults to FALSE.\n",
       "\n",
       "weights_column: Column with observation weights. Giving some\n",
       "          observation a weight of zero is equivalent to excluding it\n",
       "          from the dataset; giving an observation a relative weight of\n",
       "          2 is equivalent to repeating that row twice. Negative weights\n",
       "          are not allowed. Note: Weights are per-row observation\n",
       "          weights and do not increase the size of the data frame. This\n",
       "          is typically the number of times a row is repeated, but\n",
       "          non-integer values are supported as well. During training,\n",
       "          rows with higher weights matter more, due to the larger loss\n",
       "          function pre-factor. If you set weight = 0 for a row, the\n",
       "          returned prediction frame at that row is zero and this is\n",
       "          incorrect. To get an accurate prediction, remove all rows\n",
       "          with weight == 0.\n",
       "\n",
       "offset_column: Offset column. This will be added to the combination of\n",
       "          columns before applying the link function.\n",
       "\n",
       "balance_classes: 'Logical'. Balance training data class counts via\n",
       "          over/under-sampling (for imbalanced data). Defaults to FALSE.\n",
       "\n",
       "class_sampling_factors: Desired over/under-sampling ratios per class\n",
       "          (in lexicographic order). If not specified, sampling factors\n",
       "          will be automatically computed to obtain class balance during\n",
       "          training. Requires balance_classes.\n",
       "\n",
       "max_after_balance_size: Maximum relative size of the training data\n",
       "          after balancing class counts (can be less than 1.0). Requires\n",
       "          balance_classes. Defaults to 5.0.\n",
       "\n",
       "checkpoint: Model checkpoint to resume training with.\n",
       "\n",
       "pretrained_autoencoder: Pretrained autoencoder model to initialize this\n",
       "          model with.\n",
       "\n",
       "overwrite_with_best_model: 'Logical'. If enabled, override the final\n",
       "          model with the best model found during training. Defaults to\n",
       "          TRUE.\n",
       "\n",
       "use_all_factor_levels: 'Logical'. Use all factor levels of categorical\n",
       "          variables. Otherwise, the first factor level is omitted\n",
       "          (without loss of accuracy). Useful for variable importances\n",
       "          and auto-enabled for autoencoder. Defaults to TRUE.\n",
       "\n",
       "standardize: 'Logical'. If enabled, automatically standardize the data.\n",
       "          If disabled, the user must provide properly scaled input\n",
       "          data. Defaults to TRUE.\n",
       "\n",
       "activation: Activation function. Must be one of: \"Tanh\",\n",
       "          \"TanhWithDropout\", \"Rectifier\", \"RectifierWithDropout\",\n",
       "          \"Maxout\", \"MaxoutWithDropout\". Defaults to Rectifier.\n",
       "\n",
       "  hidden: Hidden layer sizes (e.g. [100, 100]). Defaults to c(200,\n",
       "          200).\n",
       "\n",
       "  epochs: How many times the dataset should be iterated (streamed), can\n",
       "          be fractional. Defaults to 10.\n",
       "\n",
       "train_samples_per_iteration: Number of training samples (globally) per\n",
       "          MapReduce iteration. Special values are 0: one epoch, -1: all\n",
       "          available data (e.g., replicated training data), -2:\n",
       "          automatic. Defaults to -2.\n",
       "\n",
       "target_ratio_comm_to_comp: Target ratio of communication overhead to\n",
       "          computation. Only for multi-node operation and\n",
       "          train_samples_per_iteration = -2 (auto-tuning). Defaults to\n",
       "          0.05.\n",
       "\n",
       "    seed: Seed for random numbers (affects certain parts of the algo\n",
       "          that are stochastic and those might or might not be enabled\n",
       "          by default). Note: only reproducible when running single\n",
       "          threaded. Defaults to -1 (time-based random number).\n",
       "\n",
       "adaptive_rate: 'Logical'. Adaptive learning rate. Defaults to TRUE.\n",
       "\n",
       "     rho: Adaptive learning rate time decay factor (similarity to prior\n",
       "          updates). Defaults to 0.99.\n",
       "\n",
       " epsilon: Adaptive learning rate smoothing factor (to avoid divisions\n",
       "          by zero and allow progress). Defaults to 1e-08.\n",
       "\n",
       "    rate: Learning rate (higher => less stable, lower => slower\n",
       "          convergence). Defaults to 0.005.\n",
       "\n",
       "rate_annealing: Learning rate annealing: rate / (1 + rate_annealing *\n",
       "          samples). Defaults to 1e-06.\n",
       "\n",
       "rate_decay: Learning rate decay factor between layers (N-th layer: rate\n",
       "          * rate_decay ^ (n - 1). Defaults to 1.\n",
       "\n",
       "momentum_start: Initial momentum at the beginning of training (try\n",
       "          0.5). Defaults to 0.\n",
       "\n",
       "momentum_ramp: Number of training samples for which momentum increases.\n",
       "          Defaults to 1000000.\n",
       "\n",
       "momentum_stable: Final momentum after the ramp is over (try 0.99).\n",
       "          Defaults to 0.\n",
       "\n",
       "nesterov_accelerated_gradient: 'Logical'. Use Nesterov accelerated\n",
       "          gradient (recommended). Defaults to TRUE.\n",
       "\n",
       "input_dropout_ratio: Input layer dropout ratio (can improve\n",
       "          generalization, try 0.1 or 0.2). Defaults to 0.\n",
       "\n",
       "hidden_dropout_ratios: Hidden layer dropout ratios (can improve\n",
       "          generalization), specify one value per hidden layer, defaults\n",
       "          to 0.5.\n",
       "\n",
       "      l1: L1 regularization (can add stability and improve\n",
       "          generalization, causes many weights to become 0). Defaults to\n",
       "          0.\n",
       "\n",
       "      l2: L2 regularization (can add stability and improve\n",
       "          generalization, causes many weights to be small. Defaults to\n",
       "          0.\n",
       "\n",
       "  max_w2: Constraint for squared sum of incoming weights per unit (e.g.\n",
       "          for Rectifier). Defaults to 3.4028235e+38.\n",
       "\n",
       "initial_weight_distribution: Initial weight distribution. Must be one\n",
       "          of: \"UniformAdaptive\", \"Uniform\", \"Normal\". Defaults to\n",
       "          UniformAdaptive.\n",
       "\n",
       "initial_weight_scale: Uniform: -value...value, Normal: stddev. Defaults\n",
       "          to 1.\n",
       "\n",
       "initial_weights: A list of H2OFrame ids to initialize the weight\n",
       "          matrices of this model with.\n",
       "\n",
       "initial_biases: A list of H2OFrame ids to initialize the bias vectors\n",
       "          of this model with.\n",
       "\n",
       "    loss: Loss function. Must be one of: \"Automatic\", \"CrossEntropy\",\n",
       "          \"Quadratic\", \"Huber\", \"Absolute\", \"Quantile\". Defaults to\n",
       "          Automatic.\n",
       "\n",
       "distribution: Distribution function Must be one of: \"AUTO\",\n",
       "          \"bernoulli\", \"multinomial\", \"gaussian\", \"poisson\", \"gamma\",\n",
       "          \"tweedie\", \"laplace\", \"quantile\", \"huber\". Defaults to AUTO.\n",
       "\n",
       "quantile_alpha: Desired quantile for Quantile regression, must be\n",
       "          between 0 and 1. Defaults to 0.5.\n",
       "\n",
       "tweedie_power: Tweedie power for Tweedie regression, must be between 1\n",
       "          and 2. Defaults to 1.5.\n",
       "\n",
       "huber_alpha: Desired quantile for Huber/M-regression (threshold between\n",
       "          quadratic and linear loss, must be between 0 and 1). Defaults\n",
       "          to 0.9.\n",
       "\n",
       "score_interval: Shortest time interval (in seconds) between model\n",
       "          scoring. Defaults to 5.\n",
       "\n",
       "score_training_samples: Number of training set samples for scoring (0\n",
       "          for all). Defaults to 10000.\n",
       "\n",
       "score_validation_samples: Number of validation set samples for scoring\n",
       "          (0 for all). Defaults to 0.\n",
       "\n",
       "score_duty_cycle: Maximum duty cycle fraction for scoring (lower: more\n",
       "          training, higher: more scoring). Defaults to 0.1.\n",
       "\n",
       "classification_stop: Stopping criterion for classification error\n",
       "          fraction on training data (-1 to disable). Defaults to 0.\n",
       "\n",
       "regression_stop: Stopping criterion for regression error (MSE) on\n",
       "          training data (-1 to disable). Defaults to 1e-06.\n",
       "\n",
       "stopping_rounds: Early stopping based on convergence of\n",
       "          stopping_metric. Stop if simple moving average of length k of\n",
       "          the stopping_metric does not improve for k:=stopping_rounds\n",
       "          scoring events (0 to disable) Defaults to 5.\n",
       "\n",
       "stopping_metric: Metric to use for early stopping (AUTO: logloss for\n",
       "          classification, deviance for regression and anonomaly_score\n",
       "          for Isolation Forest). Note that custom and custom_increasing\n",
       "          can only be used in GBM and DRF with the Python client. Must\n",
       "          be one of: \"AUTO\", \"deviance\", \"logloss\", \"MSE\", \"RMSE\",\n",
       "          \"MAE\", \"RMSLE\", \"AUC\", \"AUCPR\", \"lift_top_group\",\n",
       "          \"misclassification\", \"mean_per_class_error\", \"custom\",\n",
       "          \"custom_increasing\". Defaults to AUTO.\n",
       "\n",
       "stopping_tolerance: Relative tolerance for metric-based stopping\n",
       "          criterion (stop if relative improvement is not at least this\n",
       "          much) Defaults to 0.\n",
       "\n",
       "max_runtime_secs: Maximum allowed runtime in seconds for model\n",
       "          training. Use 0 to disable. Defaults to 0.\n",
       "\n",
       "score_validation_sampling: Method used to sample validation dataset for\n",
       "          scoring. Must be one of: \"Uniform\", \"Stratified\". Defaults to\n",
       "          Uniform.\n",
       "\n",
       "diagnostics: 'Logical'. Enable diagnostics for hidden layers. Defaults\n",
       "          to TRUE.\n",
       "\n",
       "fast_mode: 'Logical'. Enable fast mode (minor approximation in\n",
       "          back-propagation). Defaults to TRUE.\n",
       "\n",
       "force_load_balance: 'Logical'. Force extra load balancing to increase\n",
       "          training speed for small datasets (to keep all cores busy).\n",
       "          Defaults to TRUE.\n",
       "\n",
       "variable_importances: 'Logical'. Compute variable importances for input\n",
       "          features (Gedeon method) - can be slow for large networks.\n",
       "          Defaults to TRUE.\n",
       "\n",
       "replicate_training_data: 'Logical'. Replicate the entire training\n",
       "          dataset onto every node for faster training on small\n",
       "          datasets. Defaults to TRUE.\n",
       "\n",
       "single_node_mode: 'Logical'. Run on a single node for fine-tuning of\n",
       "          model parameters. Defaults to FALSE.\n",
       "\n",
       "shuffle_training_data: 'Logical'. Enable shuffling of training data\n",
       "          (recommended if training data is replicated and\n",
       "          train_samples_per_iteration is close to #nodes x #rows, of if\n",
       "          using balance_classes). Defaults to FALSE.\n",
       "\n",
       "missing_values_handling: Handling of missing values. Either\n",
       "          MeanImputation or Skip. Must be one of: \"MeanImputation\",\n",
       "          \"Skip\". Defaults to MeanImputation.\n",
       "\n",
       "quiet_mode: 'Logical'. Enable quiet mode for less output to standard\n",
       "          output. Defaults to FALSE.\n",
       "\n",
       "autoencoder: 'Logical'. Auto-Encoder. Defaults to FALSE.\n",
       "\n",
       "  sparse: 'Logical'. Sparse data handling (more efficient for data with\n",
       "          lots of 0 values). Defaults to FALSE.\n",
       "\n",
       "col_major: 'Logical'. #DEPRECATED Use a column major weight matrix for\n",
       "          input layer. Can speed up forward propagation, but might slow\n",
       "          down backpropagation. Defaults to FALSE.\n",
       "\n",
       "average_activation: Average activation for sparse auto-encoder.\n",
       "          #Experimental Defaults to 0.\n",
       "\n",
       "sparsity_beta: Sparsity regularization. #Experimental Defaults to 0.\n",
       "\n",
       "max_categorical_features: Max. number of categorical features, enforced\n",
       "          via hashing. #Experimental Defaults to 2147483647.\n",
       "\n",
       "reproducible: 'Logical'. Force reproducibility on small data (will be\n",
       "          slow - only uses 1 thread). Defaults to FALSE.\n",
       "\n",
       "export_weights_and_biases: 'Logical'. Whether to export Neural Network\n",
       "          weights and biases to H2O Frames. Defaults to FALSE.\n",
       "\n",
       "mini_batch_size: Mini-batch size (smaller leads to better fit, larger\n",
       "          can speed up and generalize better). Defaults to 1.\n",
       "\n",
       "categorical_encoding: Encoding scheme for categorical features Must be\n",
       "          one of: \"AUTO\", \"Enum\", \"OneHotInternal\", \"OneHotExplicit\",\n",
       "          \"Binary\", \"Eigen\", \"LabelEncoder\", \"SortByResponse\",\n",
       "          \"EnumLimited\". Defaults to AUTO.\n",
       "\n",
       "elastic_averaging: 'Logical'. Elastic averaging between compute nodes\n",
       "          can improve distributed model convergence. #Experimental\n",
       "          Defaults to FALSE.\n",
       "\n",
       "elastic_averaging_moving_rate: Elastic averaging moving rate (only if\n",
       "          elastic averaging is enabled). Defaults to 0.9.\n",
       "\n",
       "elastic_averaging_regularization: Elastic averaging regularization\n",
       "          strength (only if elastic averaging is enabled). Defaults to\n",
       "          0.001.\n",
       "\n",
       "export_checkpoints_dir: Automatically export generated models to this\n",
       "          directory.\n",
       "\n",
       "auc_type: Set default multinomial AUC type. Must be one of: \"AUTO\",\n",
       "          \"NONE\", \"MACRO_OVR\", \"WEIGHTED_OVR\", \"MACRO_OVO\",\n",
       "          \"WEIGHTED_OVO\". Defaults to AUTO.\n",
       "\n",
       " verbose: 'Logical'. Print scoring history to the console (Metrics per\n",
       "          epoch). Defaults to FALSE.\n",
       "\n",
       "_\bS_\be_\be _\bA_\bl_\bs_\bo:\n",
       "\n",
       "     'predict.H2OModel' for prediction\n",
       "\n",
       "_\bE_\bx_\ba_\bm_\bp_\bl_\be_\bs:\n",
       "\n",
       "     ## Not run:\n",
       "     \n",
       "     library(h2o)\n",
       "     h2o.init()\n",
       "     iris_hf <- as.h2o(iris)\n",
       "     iris_dl <- h2o.deeplearning(x = 1:4, y = 5, training_frame = iris_hf, seed=123456)\n",
       "     \n",
       "     # now make a prediction\n",
       "     predictions <- h2o.predict(iris_dl, iris_hf)\n",
       "     ## End(Not run)\n",
       "     "
      ]
     },
     "metadata": {},
     "output_type": "display_data"
    }
   ],
   "source": [
    "help(h2o.deeplearning)"
   ]
  },
  {
   "cell_type": "markdown",
   "id": "5dc719cb-666e-43e2-b491-75aedcf41be5",
   "metadata": {},
   "source": [
    "Здійснимо прогноз на тестовій вибірці (`h2o.predict()`), а також класифікуємо значення за `cutOff = 0.5`:"
   ]
  },
  {
   "cell_type": "code",
   "execution_count": 36,
   "id": "3069372b-c002-435a-9f8d-eabca0755d5b",
   "metadata": {},
   "outputs": [
    {
     "name": "stdout",
     "output_type": "stream",
     "text": [
      "  |======================================================================| 100%\n",
      "  |======================================================================| 100%\n"
     ]
    }
   ],
   "source": [
    "h2o_predict_prob <- h2o.predict(h2o_model, newdata = as.h2o(test_data[-(ncol(test_data))]))"
   ]
  },
  {
   "cell_type": "code",
   "execution_count": 37,
   "id": "46788ed9-3651-411b-869c-1456c0f963c0",
   "metadata": {},
   "outputs": [],
   "source": [
    "h2o_predict_class <- ifelse(h2o_predict_prob > 0.5, 1 , 0)\n",
    "h2o_predict_class <- as.vector(h2o_predict_class)"
   ]
  },
  {
   "cell_type": "markdown",
   "id": "d7e7c332-6f62-4081-954b-6b735bcd80e4",
   "metadata": {},
   "source": [
    "Побудуємо матрицю Confusion Matrix:"
   ]
  },
  {
   "cell_type": "code",
   "execution_count": 38,
   "id": "3afebc83-b296-4465-8308-1b70d18e4fa8",
   "metadata": {},
   "outputs": [
    {
     "name": "stderr",
     "output_type": "stream",
     "text": [
      "Loading required package: lattice\n",
      "\n"
     ]
    },
    {
     "data": {
      "text/plain": [
       "Confusion Matrix and Statistics\n",
       "\n",
       "          Reference\n",
       "Prediction    0    1\n",
       "         0 2282  107\n",
       "         1  329  282\n",
       "                                          \n",
       "               Accuracy : 0.8547          \n",
       "                 95% CI : (0.8415, 0.8671)\n",
       "    No Information Rate : 0.8703          \n",
       "    P-Value [Acc > NIR] : 0.9945          \n",
       "                                          \n",
       "                  Kappa : 0.4819          \n",
       "                                          \n",
       " Mcnemar's Test P-Value : <2e-16          \n",
       "                                          \n",
       "            Sensitivity : 0.7249          \n",
       "            Specificity : 0.8740          \n",
       "         Pos Pred Value : 0.4615          \n",
       "         Neg Pred Value : 0.9552          \n",
       "             Prevalence : 0.1297          \n",
       "         Detection Rate : 0.0940          \n",
       "   Detection Prevalence : 0.2037          \n",
       "      Balanced Accuracy : 0.7995          \n",
       "                                          \n",
       "       'Positive' Class : 1               \n",
       "                                          "
      ]
     },
     "metadata": {},
     "output_type": "display_data"
    }
   ],
   "source": [
    "library(caret)\n",
    "caret::confusionMatrix(factor(test_data$Exited), factor(h2o_predict_class), positive = \"1\")"
   ]
  },
  {
   "cell_type": "markdown",
   "id": "cc272f7d-2507-400f-82c6-9aac13c302c3",
   "metadata": {},
   "source": [
    "Побудуємо `ROC`-криву:"
   ]
  },
  {
   "cell_type": "code",
   "execution_count": 39,
   "id": "ca34dd16-4202-4a07-810d-f4f86e29e92f",
   "metadata": {},
   "outputs": [
    {
     "name": "stderr",
     "output_type": "stream",
     "text": [
      "\n",
      "Attaching package: 'InformationValue'\n",
      "\n",
      "\n",
      "The following objects are masked from 'package:caret':\n",
      "\n",
      "    confusionMatrix, precision, sensitivity, specificity\n",
      "\n",
      "\n"
     ]
    },
    {
     "data": {
      "image/png": "[encoded data removed]",
      "text/plain": [
       "plot without title"
      ]
     },
     "metadata": {
      "image/png": {
       "height": 420,
       "width": 420
      }
     },
     "output_type": "display_data"
    }
   ],
   "source": [
    "library(InformationValue)\n",
    "InformationValue::plotROC(test_data$Exited, as.vector(h2o_predict_prob))"
   ]
  },
  {
   "cell_type": "markdown",
   "id": "fa4c8f2f-34cd-458f-8dd7-63107bad9e11",
   "metadata": {},
   "source": [
    "Побудуємо модель з більшою кількістю прихованих шарів та нейронів:"
   ]
  },
  {
   "cell_type": "code",
   "execution_count": 40,
   "id": "425d191a-f6a7-4dcd-929e-3226080485e6",
   "metadata": {},
   "outputs": [
    {
     "name": "stdout",
     "output_type": "stream",
     "text": [
      "  |======================================================================| 100%\n",
      "  |======================================================================| 100%\n"
     ]
    }
   ],
   "source": [
    "h2o_model2 <- h2o.deeplearning(y = 'Exited', \n",
    "                              training_frame = as.h2o(train_data),\n",
    "                              activation = \"Rectifier\",\n",
    "                              hidden = c(10,10),\n",
    "                              epochs = 100)"
   ]
  },
  {
   "cell_type": "markdown",
   "id": "3869a7db-0606-432a-8285-c6beeb367425",
   "metadata": {},
   "source": [
    "Здійснимо прогноз:"
   ]
  },
  {
   "cell_type": "code",
   "execution_count": 41,
   "id": "017b9561-1ecd-49b6-a011-086f386e0d0a",
   "metadata": {},
   "outputs": [
    {
     "name": "stdout",
     "output_type": "stream",
     "text": [
      "  |======================================================================| 100%\n",
      "  |======================================================================| 100%\n"
     ]
    }
   ],
   "source": [
    "h2o_predict_prob2 <- h2o.predict(h2o_model2, newdata = as.h2o(test_data[-(ncol(test_data))]))"
   ]
  },
  {
   "cell_type": "code",
   "execution_count": 42,
   "id": "a3c55f7c-20f1-4d15-a752-ded86c937c57",
   "metadata": {},
   "outputs": [],
   "source": [
    "h2o_predict_class2 <- ifelse(h2o_predict_prob2 > 0.5, 1 , 0)\n",
    "h2o_predict_class2 <- as.vector(h2o_predict_class2)"
   ]
  },
  {
   "cell_type": "markdown",
   "id": "f92c7c9c-158c-4f95-8d31-4379a9254495",
   "metadata": {},
   "source": [
    "Confiusion Matrix:"
   ]
  },
  {
   "cell_type": "code",
   "execution_count": 43,
   "id": "62e523cb-d850-4f54-b5c3-7f143572ec10",
   "metadata": {},
   "outputs": [
    {
     "data": {
      "text/plain": [
       "Confusion Matrix and Statistics\n",
       "\n",
       "          Reference\n",
       "Prediction    0    1\n",
       "         0 2252  137\n",
       "         1  310  301\n",
       "                                          \n",
       "               Accuracy : 0.851           \n",
       "                 95% CI : (0.8377, 0.8636)\n",
       "    No Information Rate : 0.854           \n",
       "    P-Value [Acc > NIR] : 0.69            \n",
       "                                          \n",
       "                  Kappa : 0.4866          \n",
       "                                          \n",
       " Mcnemar's Test P-Value : 4.108e-16       \n",
       "                                          \n",
       "            Sensitivity : 0.6872          \n",
       "            Specificity : 0.8790          \n",
       "         Pos Pred Value : 0.4926          \n",
       "         Neg Pred Value : 0.9427          \n",
       "             Prevalence : 0.1460          \n",
       "         Detection Rate : 0.1003          \n",
       "   Detection Prevalence : 0.2037          \n",
       "      Balanced Accuracy : 0.7831          \n",
       "                                          \n",
       "       'Positive' Class : 1               \n",
       "                                          "
      ]
     },
     "metadata": {},
     "output_type": "display_data"
    }
   ],
   "source": [
    "caret::confusionMatrix(factor(test_data$Exited), factor(h2o_predict_class2), positive = \"1\")"
   ]
  },
  {
   "cell_type": "markdown",
   "id": "500c464c-5c22-4ab0-a2ea-276669175ce5",
   "metadata": {},
   "source": [
    "`ROC`-крива:"
   ]
  },
  {
   "cell_type": "code",
   "execution_count": 44,
   "id": "90739a48-2234-4da1-b4de-8f1d5cd262b7",
   "metadata": {},
   "outputs": [
    {
     "data": {
      "image/png": "[encoded data removed]",
      "text/plain": [
       "plot without title"
      ]
     },
     "metadata": {
      "image/png": {
       "height": 420,
       "width": 420
      }
     },
     "output_type": "display_data"
    }
   ],
   "source": [
    "InformationValue::plotROC(test_data$Exited, as.vector(h2o_predict_prob2))"
   ]
  },
  {
   "cell_type": "markdown",
   "id": "68dede77-75b7-4514-be0e-6e3a236ace34",
   "metadata": {},
   "source": [
    "Зупинимо двигун `h2o`:"
   ]
  },
  {
   "cell_type": "code",
   "execution_count": 45,
   "id": "165fcfb1-289d-432d-951f-ec5286b5cbcd",
   "metadata": {},
   "outputs": [],
   "source": [
    "h2o.shutdown(prompt = F)"
   ]
  },
  {
   "cell_type": "markdown",
   "id": "4235f5e5-c613-44b7-805b-6a9829cbb922",
   "metadata": {},
   "source": [
    "---"
   ]
  }
 ],
 "metadata": {
  "kernelspec": {
   "display_name": "R",
   "language": "R",
   "name": "ir"
  },
  "language_info": {
   "codemirror_mode": "r",
   "file_extension": ".r",
   "mimetype": "text/x-r-source",
   "name": "R",
   "pygments_lexer": "r",
   "version": "4.1.3"
  }
 },
 "nbformat": 4,
 "nbformat_minor": 5
}
