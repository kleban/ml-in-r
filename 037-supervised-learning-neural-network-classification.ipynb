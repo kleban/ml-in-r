{
 "cells": [
  {
   "cell_type": "markdown",
   "id": "49b5cf38-b3ff-427d-96e8-039a3a59655c",
   "metadata": {},
   "source": [
    "# Нейронні мережі. Deep Learning. Класифікація. Кредитний скоринг"
   ]
  },
  {
   "cell_type": "markdown",
   "id": "eeb08ba5-292c-430a-b1fa-533d39908972",
   "metadata": {},
   "source": [
    "Курс: \"Математичне моделювання в R\""
   ]
  },
  {
   "cell_type": "markdown",
   "id": "99f43164-2fb1-4bd2-97a3-a9448bc4d41c",
   "metadata": {},
   "source": [
    "---"
   ]
  },
  {
   "cell_type": "code",
   "execution_count": 2,
   "id": "f94c1a1e-5c8f-48aa-ba8d-12d4af734ad5",
   "metadata": {},
   "outputs": [
    {
     "data": {
      "text/html": [
       "'Ukrainian_Ukraine.1251'"
      ],
      "text/latex": [
       "'Ukrainian\\_Ukraine.1251'"
      ],
      "text/markdown": [
       "'Ukrainian_Ukraine.1251'"
      ],
      "text/plain": [
       "[1] \"Ukrainian_Ukraine.1251\""
      ]
     },
     "metadata": {},
     "output_type": "display_data"
    }
   ],
   "source": [
    "Sys.setlocale(\"LC_CTYPE\", \"ukrainian\") \n",
    "options(warn = -1)"
   ]
  },
  {
   "cell_type": "markdown",
   "id": "25f234b8-f01b-4f62-a93b-ce55d011247f",
   "metadata": {},
   "source": [
    "## Набір даних"
   ]
  },
  {
   "cell_type": "markdown",
   "id": "e0a1bd8e-bdee-4692-bf86-9e87b227a58b",
   "metadata": {},
   "source": [
    "Джерело: <https://www.kaggle.com/barelydedicated/bank-customer-churn-modeling>."
   ]
  },
  {
   "cell_type": "markdown",
   "id": "8749254a-56fe-47b4-8252-7389dd63e610",
   "metadata": {},
   "source": [
    "Завантажимо файли з даними:"
   ]
  },
  {
   "cell_type": "code",
   "execution_count": 3,
   "id": "005bac71-8d54-4931-82fe-c715b0493794",
   "metadata": {},
   "outputs": [],
   "source": [
    "customers <- read.csv(\"data/customers.csv\")\n",
    "products <- read.csv(\"data/products.csv\")\n",
    "cards <- read.csv(\"data/cards.csv\")"
   ]
  },
  {
   "cell_type": "markdown",
   "id": "48fdb842-0b5a-4a4e-80b0-c04f2037d349",
   "metadata": {},
   "source": [
    "Цей датасет містить такі стовпці:\n",
    "\n",
    "- [x] `RowNumber` - номер рядка.\n",
    "- [x] `CustomerId` - ідентифікатор клієнта.\n",
    "- [x] `Surname` - прізвище клієнта.\n",
    "- [x] `CreditScore` - кредитний рейтинг клієнта.\n",
    "- [x] `Geography` - регіон.\n",
    "- [x] `Gender` - стать.\n",
    "- [x] `Age` - вік.\n",
    "- [x] `Tenure` - час обслуговування цього клієнта в банку.\n",
    "- [x] `IsActiveMember` - активний клієнт, виконує операції.\n",
    "- [x] `EstimatedSalary` - заробітна плата.\n",
    "- [x] `Exited` - залишив/не залишив банк.\n",
    "\n",
    "Інформація про клієнтів:"
   ]
  },
  {
   "cell_type": "code",
   "execution_count": 4,
   "id": "2c6fbc91-1a04-40fc-8c0a-8eb4a51164be",
   "metadata": {},
   "outputs": [
    {
     "name": "stdout",
     "output_type": "stream",
     "text": [
      "'data.frame':\t10000 obs. of  11 variables:\n",
      " $ RowNumber      : int  1 2 3 4 5 6 7 8 9 10 ...\n",
      " $ CustomerId     : int  15634602 15647311 15619304 15701354 15737888 15574012 15592531 15656148 15792365 15592389 ...\n",
      " $ Surname        : chr  \"Hargrave\" \"Hill\" \"Onio\" \"Boni\" ...\n",
      " $ CreditScore    : int  619 608 502 699 850 645 822 376 501 684 ...\n",
      " $ Geography      : chr  \"France\" \"Spain\" \"France\" \"France\" ...\n",
      " $ Gender         : chr  \"Female\" \"Female\" \"Female\" \"Female\" ...\n",
      " $ Age            : int  42 41 42 39 43 44 50 29 44 27 ...\n",
      " $ Tenure         : int  2 1 8 1 2 8 7 4 4 2 ...\n",
      " $ IsActiveMember : int  1 1 0 0 1 0 1 0 1 1 ...\n",
      " $ EstimatedSalary: num  101349 112543 113932 93827 79084 ...\n",
      " $ Exited         : int  1 0 1 0 0 1 0 1 0 0 ...\n"
     ]
    }
   ],
   "source": [
    "str(customers)"
   ]
  },
  {
   "cell_type": "code",
   "execution_count": 5,
   "id": "81660c74-5eaa-4267-aef2-548ece95b623",
   "metadata": {},
   "outputs": [
    {
     "data": {
      "text/html": [
       "<table class=\"dataframe\">\n",
       "<caption>A data.frame: 6 × 11</caption>\n",
       "<thead>\n",
       "\t<tr><th></th><th scope=col>RowNumber</th><th scope=col>CustomerId</th><th scope=col>Surname</th><th scope=col>CreditScore</th><th scope=col>Geography</th><th scope=col>Gender</th><th scope=col>Age</th><th scope=col>Tenure</th><th scope=col>IsActiveMember</th><th scope=col>EstimatedSalary</th><th scope=col>Exited</th></tr>\n",
       "\t<tr><th></th><th scope=col>&lt;int&gt;</th><th scope=col>&lt;int&gt;</th><th scope=col>&lt;chr&gt;</th><th scope=col>&lt;int&gt;</th><th scope=col>&lt;chr&gt;</th><th scope=col>&lt;chr&gt;</th><th scope=col>&lt;int&gt;</th><th scope=col>&lt;int&gt;</th><th scope=col>&lt;int&gt;</th><th scope=col>&lt;dbl&gt;</th><th scope=col>&lt;int&gt;</th></tr>\n",
       "</thead>\n",
       "<tbody>\n",
       "\t<tr><th scope=row>1</th><td>1</td><td>15634602</td><td>Hargrave</td><td>619</td><td>France</td><td>Female</td><td>42</td><td>2</td><td>1</td><td>101348.88</td><td>1</td></tr>\n",
       "\t<tr><th scope=row>2</th><td>2</td><td>15647311</td><td>Hill    </td><td>608</td><td>Spain </td><td>Female</td><td>41</td><td>1</td><td>1</td><td>112542.58</td><td>0</td></tr>\n",
       "\t<tr><th scope=row>3</th><td>3</td><td>15619304</td><td>Onio    </td><td>502</td><td>France</td><td>Female</td><td>42</td><td>8</td><td>0</td><td>113931.57</td><td>1</td></tr>\n",
       "\t<tr><th scope=row>4</th><td>4</td><td>15701354</td><td>Boni    </td><td>699</td><td>France</td><td>Female</td><td>39</td><td>1</td><td>0</td><td> 93826.63</td><td>0</td></tr>\n",
       "\t<tr><th scope=row>5</th><td>5</td><td>15737888</td><td>Mitchell</td><td>850</td><td>Spain </td><td>Female</td><td>43</td><td>2</td><td>1</td><td> 79084.10</td><td>0</td></tr>\n",
       "\t<tr><th scope=row>6</th><td>6</td><td>15574012</td><td>Chu     </td><td>645</td><td>Spain </td><td>Male  </td><td>44</td><td>8</td><td>0</td><td>149756.71</td><td>1</td></tr>\n",
       "</tbody>\n",
       "</table>\n"
      ],
      "text/latex": [
       "A data.frame: 6 × 11\n",
       "\\begin{tabular}{r|lllllllllll}\n",
       "  & RowNumber & CustomerId & Surname & CreditScore & Geography & Gender & Age & Tenure & IsActiveMember & EstimatedSalary & Exited\\\\\n",
       "  & <int> & <int> & <chr> & <int> & <chr> & <chr> & <int> & <int> & <int> & <dbl> & <int>\\\\\n",
       "\\hline\n",
       "\t1 & 1 & 15634602 & Hargrave & 619 & France & Female & 42 & 2 & 1 & 101348.88 & 1\\\\\n",
       "\t2 & 2 & 15647311 & Hill     & 608 & Spain  & Female & 41 & 1 & 1 & 112542.58 & 0\\\\\n",
       "\t3 & 3 & 15619304 & Onio     & 502 & France & Female & 42 & 8 & 0 & 113931.57 & 1\\\\\n",
       "\t4 & 4 & 15701354 & Boni     & 699 & France & Female & 39 & 1 & 0 &  93826.63 & 0\\\\\n",
       "\t5 & 5 & 15737888 & Mitchell & 850 & Spain  & Female & 43 & 2 & 1 &  79084.10 & 0\\\\\n",
       "\t6 & 6 & 15574012 & Chu      & 645 & Spain  & Male   & 44 & 8 & 0 & 149756.71 & 1\\\\\n",
       "\\end{tabular}\n"
      ],
      "text/markdown": [
       "\n",
       "A data.frame: 6 × 11\n",
       "\n",
       "| <!--/--> | RowNumber &lt;int&gt; | CustomerId &lt;int&gt; | Surname &lt;chr&gt; | CreditScore &lt;int&gt; | Geography &lt;chr&gt; | Gender &lt;chr&gt; | Age &lt;int&gt; | Tenure &lt;int&gt; | IsActiveMember &lt;int&gt; | EstimatedSalary &lt;dbl&gt; | Exited &lt;int&gt; |\n",
       "|---|---|---|---|---|---|---|---|---|---|---|---|\n",
       "| 1 | 1 | 15634602 | Hargrave | 619 | France | Female | 42 | 2 | 1 | 101348.88 | 1 |\n",
       "| 2 | 2 | 15647311 | Hill     | 608 | Spain  | Female | 41 | 1 | 1 | 112542.58 | 0 |\n",
       "| 3 | 3 | 15619304 | Onio     | 502 | France | Female | 42 | 8 | 0 | 113931.57 | 1 |\n",
       "| 4 | 4 | 15701354 | Boni     | 699 | France | Female | 39 | 1 | 0 |  93826.63 | 0 |\n",
       "| 5 | 5 | 15737888 | Mitchell | 850 | Spain  | Female | 43 | 2 | 1 |  79084.10 | 0 |\n",
       "| 6 | 6 | 15574012 | Chu      | 645 | Spain  | Male   | 44 | 8 | 0 | 149756.71 | 1 |\n",
       "\n"
      ],
      "text/plain": [
       "  RowNumber CustomerId Surname  CreditScore Geography Gender Age Tenure\n",
       "1 1         15634602   Hargrave 619         France    Female 42  2     \n",
       "2 2         15647311   Hill     608         Spain     Female 41  1     \n",
       "3 3         15619304   Onio     502         France    Female 42  8     \n",
       "4 4         15701354   Boni     699         France    Female 39  1     \n",
       "5 5         15737888   Mitchell 850         Spain     Female 43  2     \n",
       "6 6         15574012   Chu      645         Spain     Male   44  8     \n",
       "  IsActiveMember EstimatedSalary Exited\n",
       "1 1              101348.88       1     \n",
       "2 1              112542.58       0     \n",
       "3 0              113931.57       1     \n",
       "4 0               93826.63       0     \n",
       "5 1               79084.10       0     \n",
       "6 0              149756.71       1     "
      ]
     },
     "metadata": {},
     "output_type": "display_data"
    }
   ],
   "source": [
    "head(customers)"
   ]
  },
  {
   "cell_type": "markdown",
   "id": "fdee7638-d6fd-4cc8-80ef-43e615e334e3",
   "metadata": {},
   "source": [
    "## Оглядовий аналіз даних"
   ]
  },
  {
   "cell_type": "markdown",
   "id": "19b75389-4de9-49c4-b30e-91c67631216e",
   "metadata": {},
   "source": [
    "### Таблиця `customers`"
   ]
  },
  {
   "cell_type": "markdown",
   "id": "a49a0519-6f0d-4826-9d9c-4d10812cfe25",
   "metadata": {},
   "source": [
    "Оглянемо дані колекції `customers` візуально та за допомогою крос-таблиць:"
   ]
  },
  {
   "cell_type": "code",
   "execution_count": 6,
   "id": "2cd16d53-54d5-4118-8555-8db4dd0ccbc3",
   "metadata": {},
   "outputs": [],
   "source": [
    "library(gmodels)\n",
    "library(ggplot2)"
   ]
  },
  {
   "cell_type": "markdown",
   "id": "48f06cd6-0529-4ab8-869d-176c1e1e9c2c",
   "metadata": {},
   "source": [
    "Кредитний рейтинг (`CreditScore`):"
   ]
  },
  {
   "cell_type": "code",
   "execution_count": 7,
   "id": "ca161812-78ae-4a95-9a6d-dfe8f77949da",
   "metadata": {},
   "outputs": [
    {
     "data": {
      "image/png": "[encoded data removed]",
      "text/plain": [
       "plot without title"
      ]
     },
     "metadata": {
      "image/png": {
       "height": 420,
       "width": 420
      }
     },
     "output_type": "display_data"
    }
   ],
   "source": [
    "ggplot(customers, aes(x=CreditScore, fill=factor(Exited))) + \n",
    "  geom_histogram(binwidth = 10, alpha=0.7) + theme_bw() "
   ]
  },
  {
   "cell_type": "markdown",
   "id": "a6d197c2-d54b-4ae5-b45c-f2b303d91e81",
   "metadata": {},
   "source": [
    "Регіон/країна (`Geography`):"
   ]
  },
  {
   "cell_type": "code",
   "execution_count": 8,
   "id": "50d26777-5644-45ba-9c93-9ed9bc9b96fc",
   "metadata": {},
   "outputs": [
    {
     "data": {
      "image/png": "[encoded data removed]",
      "text/plain": [
       "plot without title"
      ]
     },
     "metadata": {
      "image/png": {
       "height": 420,
       "width": 420
      }
     },
     "output_type": "display_data"
    }
   ],
   "source": [
    "ggplot(customers, aes(x=Geography, fill=factor(Exited))) + \n",
    "  geom_bar(position = \"stack\") + theme_bw()"
   ]
  },
  {
   "cell_type": "code",
   "execution_count": 9,
   "id": "2ad525d3-5b51-46a2-93e5-8200ca2b1e80",
   "metadata": {},
   "outputs": [
    {
     "name": "stdout",
     "output_type": "stream",
     "text": [
      "\n",
      " \n",
      "   Cell Contents\n",
      "|-------------------------|\n",
      "|                       N |\n",
      "| Chi-square contribution |\n",
      "|           N / Row Total |\n",
      "|           N / Col Total |\n",
      "|         N / Table Total |\n",
      "|-------------------------|\n",
      "\n",
      " \n",
      "Total Observations in Table:  10000 \n",
      "\n",
      " \n",
      "                    | customers$Exited \n",
      "customers$Geography |         0 |         1 | Row Total | \n",
      "--------------------|-----------|-----------|-----------|\n",
      "             France |      4204 |       810 |      5014 | \n",
      "                    |    11.188 |    43.736 |           | \n",
      "                    |     0.838 |     0.162 |     0.501 | \n",
      "                    |     0.528 |     0.398 |           | \n",
      "                    |     0.420 |     0.081 |           | \n",
      "--------------------|-----------|-----------|-----------|\n",
      "            Germany |      1695 |       814 |      2509 | \n",
      "                    |    45.927 |   179.537 |           | \n",
      "                    |     0.676 |     0.324 |     0.251 | \n",
      "                    |     0.213 |     0.400 |           | \n",
      "                    |     0.170 |     0.081 |           | \n",
      "--------------------|-----------|-----------|-----------|\n",
      "              Spain |      2064 |       413 |      2477 | \n",
      "                    |     4.251 |    16.617 |           | \n",
      "                    |     0.833 |     0.167 |     0.248 | \n",
      "                    |     0.259 |     0.203 |           | \n",
      "                    |     0.206 |     0.041 |           | \n",
      "--------------------|-----------|-----------|-----------|\n",
      "       Column Total |      7963 |      2037 |     10000 | \n",
      "                    |     0.796 |     0.204 |           | \n",
      "--------------------|-----------|-----------|-----------|\n",
      "\n",
      " \n"
     ]
    }
   ],
   "source": [
    "CrossTable(customers$Geography, customers$Exited)"
   ]
  },
  {
   "cell_type": "markdown",
   "id": "f7877892-a5b1-47ec-9a6f-009fabaeacd7",
   "metadata": {},
   "source": [
    "Стать (`Gender`):"
   ]
  },
  {
   "cell_type": "code",
   "execution_count": 10,
   "id": "bcc4b952-6c0b-4f9e-ac1c-2dd6651b4eb5",
   "metadata": {},
   "outputs": [
    {
     "data": {
      "image/png": "[encoded data removed]",
      "text/plain": [
       "plot without title"
      ]
     },
     "metadata": {
      "image/png": {
       "height": 420,
       "width": 420
      }
     },
     "output_type": "display_data"
    }
   ],
   "source": [
    "ggplot(customers, aes(x=Gender, fill=factor(Exited))) + \n",
    "  geom_bar(position = \"stack\") + theme_bw()"
   ]
  },
  {
   "cell_type": "code",
   "execution_count": 11,
   "id": "3becc3bc-ac02-45f6-b5f9-9f6f7f663c3d",
   "metadata": {},
   "outputs": [
    {
     "name": "stdout",
     "output_type": "stream",
     "text": [
      "\n",
      " \n",
      "   Cell Contents\n",
      "|-------------------------|\n",
      "|                       N |\n",
      "| Chi-square contribution |\n",
      "|           N / Row Total |\n",
      "|           N / Col Total |\n",
      "|         N / Table Total |\n",
      "|-------------------------|\n",
      "\n",
      " \n",
      "Total Observations in Table:  10000 \n",
      "\n",
      " \n",
      "                 | customers$Exited \n",
      "customers$Gender |         0 |         1 | Row Total | \n",
      "-----------------|-----------|-----------|-----------|\n",
      "          Female |      3404 |      1139 |      4543 | \n",
      "                 |    12.611 |    49.298 |           | \n",
      "                 |     0.749 |     0.251 |     0.454 | \n",
      "                 |     0.427 |     0.559 |           | \n",
      "                 |     0.340 |     0.114 |           | \n",
      "-----------------|-----------|-----------|-----------|\n",
      "            Male |      4559 |       898 |      5457 | \n",
      "                 |    10.499 |    41.041 |           | \n",
      "                 |     0.835 |     0.165 |     0.546 | \n",
      "                 |     0.573 |     0.441 |           | \n",
      "                 |     0.456 |     0.090 |           | \n",
      "-----------------|-----------|-----------|-----------|\n",
      "    Column Total |      7963 |      2037 |     10000 | \n",
      "                 |     0.796 |     0.204 |           | \n",
      "-----------------|-----------|-----------|-----------|\n",
      "\n",
      " \n"
     ]
    }
   ],
   "source": [
    "CrossTable(customers$Gender, customers$Exited)"
   ]
  },
  {
   "cell_type": "markdown",
   "id": "6172eabd-0e80-4df7-9035-c6f12eef5574",
   "metadata": {},
   "source": [
    "Вік (`Age`):"
   ]
  },
  {
   "cell_type": "code",
   "execution_count": 12,
   "id": "a01f403e-e2ce-4cdb-8bea-f82243b4ca60",
   "metadata": {},
   "outputs": [
    {
     "data": {
      "image/png": "[encoded data removed]",
      "text/plain": [
       "plot without title"
      ]
     },
     "metadata": {
      "image/png": {
       "height": 420,
       "width": 420
      }
     },
     "output_type": "display_data"
    }
   ],
   "source": [
    "ggplot(customers, aes(x=Age, fill=factor(Exited))) + \n",
    "  geom_histogram(binwidth = 1, alpha=0.7) + theme_bw() "
   ]
  },
  {
   "cell_type": "markdown",
   "id": "68c9573d-2d06-42e9-a4dc-d24c8f266ae5",
   "metadata": {},
   "source": [
    "Час обслуговування клієнта (`Tenure`):"
   ]
  },
  {
   "cell_type": "code",
   "execution_count": 13,
   "id": "af8e6bae-b531-4e30-8707-9163e3ea5d57",
   "metadata": {},
   "outputs": [
    {
     "data": {
      "image/png": "[encoded data removed]",
      "text/plain": [
       "plot without title"
      ]
     },
     "metadata": {
      "image/png": {
       "height": 420,
       "width": 420
      }
     },
     "output_type": "display_data"
    }
   ],
   "source": [
    "ggplot(customers, aes(x=Tenure, fill=factor(Exited))) + \n",
    "  geom_histogram(binwidth = 1, alpha=0.7) + theme_bw() "
   ]
  },
  {
   "cell_type": "markdown",
   "id": "075067e6-56aa-4dfe-b72d-fc04d37a2c67",
   "metadata": {},
   "source": [
    "Активність (`IsActiveMember`):"
   ]
  },
  {
   "cell_type": "code",
   "execution_count": 14,
   "id": "f498aa99-e46e-4d34-8a18-a4a3b29c9fda",
   "metadata": {},
   "outputs": [
    {
     "name": "stdout",
     "output_type": "stream",
     "text": [
      "\n",
      " \n",
      "   Cell Contents\n",
      "|-------------------------|\n",
      "|                       N |\n",
      "| Chi-square contribution |\n",
      "|           N / Row Total |\n",
      "|           N / Col Total |\n",
      "|         N / Table Total |\n",
      "|-------------------------|\n",
      "\n",
      " \n",
      "Total Observations in Table:  10000 \n",
      "\n",
      " \n",
      "                         | customers$Exited \n",
      "customers$IsActiveMember |         0 |         1 | Row Total | \n",
      "-------------------------|-----------|-----------|-----------|\n",
      "                       0 |      3547 |      1302 |      4849 | \n",
      "                         |    25.577 |    99.984 |           | \n",
      "                         |     0.731 |     0.269 |     0.485 | \n",
      "                         |     0.445 |     0.639 |           | \n",
      "                         |     0.355 |     0.130 |           | \n",
      "-------------------------|-----------|-----------|-----------|\n",
      "                       1 |      4416 |       735 |      5151 | \n",
      "                         |    24.077 |    94.122 |           | \n",
      "                         |     0.857 |     0.143 |     0.515 | \n",
      "                         |     0.555 |     0.361 |           | \n",
      "                         |     0.442 |     0.073 |           | \n",
      "-------------------------|-----------|-----------|-----------|\n",
      "            Column Total |      7963 |      2037 |     10000 | \n",
      "                         |     0.796 |     0.204 |           | \n",
      "-------------------------|-----------|-----------|-----------|\n",
      "\n",
      " \n"
     ]
    }
   ],
   "source": [
    "CrossTable(customers$IsActiveMember, customers$Exited)"
   ]
  },
  {
   "cell_type": "markdown",
   "id": "20b9deb9-ce8d-4b87-aa8c-090baafc9f59",
   "metadata": {},
   "source": [
    "Заробітна плата (`EstimatedSalary`):"
   ]
  },
  {
   "cell_type": "code",
   "execution_count": 15,
   "id": "e93b4c2e-bd96-4246-8c02-6f0844d1f49f",
   "metadata": {},
   "outputs": [
    {
     "data": {
      "image/png": "[encoded data removed]",
      "text/plain": [
       "plot without title"
      ]
     },
     "metadata": {
      "image/png": {
       "height": 420,
       "width": 420
      }
     },
     "output_type": "display_data"
    }
   ],
   "source": [
    "ggplot(customers, aes(x=EstimatedSalary, fill=factor(Exited))) + \n",
    "  geom_histogram(binwidth = 1000, alpha=0.7) + theme_bw() "
   ]
  },
  {
   "cell_type": "markdown",
   "id": "9603b5c9-ec7c-4609-87a9-b08b46976714",
   "metadata": {},
   "source": [
    "`Exited`:"
   ]
  },
  {
   "cell_type": "code",
   "execution_count": 16,
   "id": "12c71b70-d15a-407d-9355-a707c4433f9c",
   "metadata": {},
   "outputs": [
    {
     "name": "stdout",
     "output_type": "stream",
     "text": [
      "\n",
      " \n",
      "   Cell Contents\n",
      "|-------------------------|\n",
      "|                       N |\n",
      "|         N / Table Total |\n",
      "|-------------------------|\n",
      "\n",
      " \n",
      "Total Observations in Table:  10000 \n",
      "\n",
      " \n",
      "          |         0 |         1 | \n",
      "          |-----------|-----------|\n",
      "          |      7963 |      2037 | \n",
      "          |     0.796 |     0.204 | \n",
      "          |-----------|-----------|\n",
      "\n",
      "\n",
      "\n",
      " \n"
     ]
    }
   ],
   "source": [
    "CrossTable(customers$Exited)"
   ]
  },
  {
   "cell_type": "markdown",
   "id": "0f8f870f-3ee5-4948-b500-b457c68c3c51",
   "metadata": {},
   "source": [
    "---"
   ]
  },
  {
   "cell_type": "markdown",
   "id": "2ae2e220-e952-4039-8607-baca636e8c74",
   "metadata": {},
   "source": [
    "### Таблиця `cards`"
   ]
  },
  {
   "cell_type": "markdown",
   "id": "64f68197-408d-4319-9405-f17402693282",
   "metadata": {},
   "source": [
    "Інформація про карти клієнта:"
   ]
  },
  {
   "cell_type": "code",
   "execution_count": 17,
   "id": "74042127-bac7-48a9-af23-30be404df27d",
   "metadata": {},
   "outputs": [
    {
     "name": "stdout",
     "output_type": "stream",
     "text": [
      "'data.frame':\t13545 obs. of  4 variables:\n",
      " $ CustomerId  : int  15634602 15647311 15647311 15619304 15619304 15701354 15701354 15737888 15737888 15574012 ...\n",
      " $ CardNo      : int  684618 357092 802678 888594 987103 507476 928960 370210 935036 581042 ...\n",
      " $ IsCreditCard: int  1 0 0 1 0 0 0 1 0 1 ...\n",
      " $ Balance     : num  5 41922 41913 79846 79859 ...\n"
     ]
    }
   ],
   "source": [
    "str(cards)"
   ]
  },
  {
   "cell_type": "code",
   "execution_count": 18,
   "id": "98744e35-28b1-4f7f-8eaf-e2b767ec0316",
   "metadata": {},
   "outputs": [
    {
     "data": {
      "text/html": [
       "<table class=\"dataframe\">\n",
       "<caption>A data.frame: 6 × 4</caption>\n",
       "<thead>\n",
       "\t<tr><th></th><th scope=col>CustomerId</th><th scope=col>CardNo</th><th scope=col>IsCreditCard</th><th scope=col>Balance</th></tr>\n",
       "\t<tr><th></th><th scope=col>&lt;int&gt;</th><th scope=col>&lt;int&gt;</th><th scope=col>&lt;int&gt;</th><th scope=col>&lt;dbl&gt;</th></tr>\n",
       "</thead>\n",
       "<tbody>\n",
       "\t<tr><th scope=row>1</th><td>15634602</td><td>684618</td><td>1</td><td>    5.00</td></tr>\n",
       "\t<tr><th scope=row>2</th><td>15647311</td><td>357092</td><td>0</td><td>41921.93</td></tr>\n",
       "\t<tr><th scope=row>3</th><td>15647311</td><td>802678</td><td>0</td><td>41912.93</td></tr>\n",
       "\t<tr><th scope=row>4</th><td>15619304</td><td>888594</td><td>1</td><td>79846.40</td></tr>\n",
       "\t<tr><th scope=row>5</th><td>15619304</td><td>987103</td><td>0</td><td>79859.40</td></tr>\n",
       "\t<tr><th scope=row>6</th><td>15701354</td><td>507476</td><td>0</td><td>   28.00</td></tr>\n",
       "</tbody>\n",
       "</table>\n"
      ],
      "text/latex": [
       "A data.frame: 6 × 4\n",
       "\\begin{tabular}{r|llll}\n",
       "  & CustomerId & CardNo & IsCreditCard & Balance\\\\\n",
       "  & <int> & <int> & <int> & <dbl>\\\\\n",
       "\\hline\n",
       "\t1 & 15634602 & 684618 & 1 &     5.00\\\\\n",
       "\t2 & 15647311 & 357092 & 0 & 41921.93\\\\\n",
       "\t3 & 15647311 & 802678 & 0 & 41912.93\\\\\n",
       "\t4 & 15619304 & 888594 & 1 & 79846.40\\\\\n",
       "\t5 & 15619304 & 987103 & 0 & 79859.40\\\\\n",
       "\t6 & 15701354 & 507476 & 0 &    28.00\\\\\n",
       "\\end{tabular}\n"
      ],
      "text/markdown": [
       "\n",
       "A data.frame: 6 × 4\n",
       "\n",
       "| <!--/--> | CustomerId &lt;int&gt; | CardNo &lt;int&gt; | IsCreditCard &lt;int&gt; | Balance &lt;dbl&gt; |\n",
       "|---|---|---|---|---|\n",
       "| 1 | 15634602 | 684618 | 1 |     5.00 |\n",
       "| 2 | 15647311 | 357092 | 0 | 41921.93 |\n",
       "| 3 | 15647311 | 802678 | 0 | 41912.93 |\n",
       "| 4 | 15619304 | 888594 | 1 | 79846.40 |\n",
       "| 5 | 15619304 | 987103 | 0 | 79859.40 |\n",
       "| 6 | 15701354 | 507476 | 0 |    28.00 |\n",
       "\n"
      ],
      "text/plain": [
       "  CustomerId CardNo IsCreditCard Balance \n",
       "1 15634602   684618 1                5.00\n",
       "2 15647311   357092 0            41921.93\n",
       "3 15647311   802678 0            41912.93\n",
       "4 15619304   888594 1            79846.40\n",
       "5 15619304   987103 0            79859.40\n",
       "6 15701354   507476 0               28.00"
      ]
     },
     "metadata": {},
     "output_type": "display_data"
    }
   ],
   "source": [
    "head(cards)"
   ]
  },
  {
   "cell_type": "code",
   "execution_count": 19,
   "id": "da1b190c-1abb-4be4-b6c1-6d2d6c1117eb",
   "metadata": {},
   "outputs": [
    {
     "data": {
      "text/plain": [
       "   CustomerId           CardNo        IsCreditCard       Balance      \n",
       " Min.   :15565701   Min.   :100231   Min.   :0.0000   Min.   :     0  \n",
       " 1st Qu.:15628272   1st Qu.:323587   1st Qu.:0.0000   1st Qu.:    24  \n",
       " Median :15691011   Median :545073   Median :0.0000   Median : 52991  \n",
       " Mean   :15690848   Mean   :548414   Mean   :0.4688   Mean   : 51096  \n",
       " 3rd Qu.:15752816   3rd Qu.:774943   3rd Qu.:1.0000   3rd Qu.: 77276  \n",
       " Max.   :15815690   Max.   :999985   Max.   :1.0000   Max.   :221549  "
      ]
     },
     "metadata": {},
     "output_type": "display_data"
    }
   ],
   "source": [
    "summary(cards)"
   ]
  },
  {
   "cell_type": "markdown",
   "id": "6a624153-eba4-4167-8d4a-c05d2ce2a529",
   "metadata": {},
   "source": [
    "---"
   ]
  },
  {
   "cell_type": "markdown",
   "id": "df723814-6b35-4e73-b92e-98c213947b87",
   "metadata": {},
   "source": [
    "### Таблиця `products`"
   ]
  },
  {
   "cell_type": "markdown",
   "id": "33063613-0d6c-49c9-8f09-ec368491d4c6",
   "metadata": {},
   "source": [
    "Інформація про продукти клієнта:"
   ]
  },
  {
   "cell_type": "code",
   "execution_count": 20,
   "id": "e65a36d7-b1e8-401c-9beb-388489153ab6",
   "metadata": {},
   "outputs": [
    {
     "name": "stdout",
     "output_type": "stream",
     "text": [
      "'data.frame':\t13862 obs. of  2 variables:\n",
      " $ CustomerId : int  15634602 15647311 15619304 15619304 15619304 15701354 15701354 15737888 15574012 15574012 ...\n",
      " $ ProductName: chr  \"PROD_1\" \"PROD_1\" \"PROD_1\" \"PROD_2\" ...\n"
     ]
    }
   ],
   "source": [
    "str(products)"
   ]
  },
  {
   "cell_type": "code",
   "execution_count": 21,
   "id": "99813bfd-bd6a-44f1-82e9-5c52980c271a",
   "metadata": {},
   "outputs": [
    {
     "data": {
      "text/html": [
       "<table class=\"dataframe\">\n",
       "<caption>A data.frame: 6 × 2</caption>\n",
       "<thead>\n",
       "\t<tr><th></th><th scope=col>CustomerId</th><th scope=col>ProductName</th></tr>\n",
       "\t<tr><th></th><th scope=col>&lt;int&gt;</th><th scope=col>&lt;chr&gt;</th></tr>\n",
       "</thead>\n",
       "<tbody>\n",
       "\t<tr><th scope=row>1</th><td>15634602</td><td>PROD_1</td></tr>\n",
       "\t<tr><th scope=row>2</th><td>15647311</td><td>PROD_1</td></tr>\n",
       "\t<tr><th scope=row>3</th><td>15619304</td><td>PROD_1</td></tr>\n",
       "\t<tr><th scope=row>4</th><td>15619304</td><td>PROD_2</td></tr>\n",
       "\t<tr><th scope=row>5</th><td>15619304</td><td>PROD_3</td></tr>\n",
       "\t<tr><th scope=row>6</th><td>15701354</td><td>PROD_1</td></tr>\n",
       "</tbody>\n",
       "</table>\n"
      ],
      "text/latex": [
       "A data.frame: 6 × 2\n",
       "\\begin{tabular}{r|ll}\n",
       "  & CustomerId & ProductName\\\\\n",
       "  & <int> & <chr>\\\\\n",
       "\\hline\n",
       "\t1 & 15634602 & PROD\\_1\\\\\n",
       "\t2 & 15647311 & PROD\\_1\\\\\n",
       "\t3 & 15619304 & PROD\\_1\\\\\n",
       "\t4 & 15619304 & PROD\\_2\\\\\n",
       "\t5 & 15619304 & PROD\\_3\\\\\n",
       "\t6 & 15701354 & PROD\\_1\\\\\n",
       "\\end{tabular}\n"
      ],
      "text/markdown": [
       "\n",
       "A data.frame: 6 × 2\n",
       "\n",
       "| <!--/--> | CustomerId &lt;int&gt; | ProductName &lt;chr&gt; |\n",
       "|---|---|---|\n",
       "| 1 | 15634602 | PROD_1 |\n",
       "| 2 | 15647311 | PROD_1 |\n",
       "| 3 | 15619304 | PROD_1 |\n",
       "| 4 | 15619304 | PROD_2 |\n",
       "| 5 | 15619304 | PROD_3 |\n",
       "| 6 | 15701354 | PROD_1 |\n",
       "\n"
      ],
      "text/plain": [
       "  CustomerId ProductName\n",
       "1 15634602   PROD_1     \n",
       "2 15647311   PROD_1     \n",
       "3 15619304   PROD_1     \n",
       "4 15619304   PROD_2     \n",
       "5 15619304   PROD_3     \n",
       "6 15701354   PROD_1     "
      ]
     },
     "metadata": {},
     "output_type": "display_data"
    }
   ],
   "source": [
    "head(products)"
   ]
  },
  {
   "cell_type": "markdown",
   "id": "35fe7c1a-63bf-46b0-b631-7e101722d34c",
   "metadata": {},
   "source": [
    "---"
   ]
  },
  {
   "cell_type": "markdown",
   "id": "1e41f5cb-0b9d-4ceb-bea8-e926edcafc9a",
   "metadata": {},
   "source": [
    "## Feature engeniering"
   ]
  },
  {
   "cell_type": "markdown",
   "id": "c8ddf116-d0c3-49c2-976e-333e33c0d842",
   "metadata": {},
   "source": [
    "Сформуємо додаткові змінні на основі наявних даних:\n",
    "\n",
    "- [x] `Balance` - сума по усіх картах клієнат.\n",
    "- [x] `NumOfProducts` - кількість продуктів банку, які використовує клієнт.\n",
    "- [x] `HasCreditCard` - dummy-змінна, наявність кредитної карти у клієнта."
   ]
  },
  {
   "cell_type": "markdown",
   "id": "75f94287-c7f9-4f6e-8637-d56487c7a08a",
   "metadata": {},
   "source": [
    "### Показник `NumOfProducts`"
   ]
  },
  {
   "cell_type": "markdown",
   "id": "d1e910b3-2a4a-4b82-988a-e642a81ac5bf",
   "metadata": {},
   "source": [
    "Варто звернути увагу, що генерувати нові фічі можна із використанням можлиовстей агрегації та фільтрування даних (наприклад, методи пакету `dplyr`) або за допомогою простих алгоритмічних структур (цикли, розгалуження). \n",
    "\n",
    "Для `R` використання циклів для подібних задач є не досить хорошим рішенням, адже код виглядає складно і виконується повільно. Проте ми напишемо для требування і пояснення приклади з використанням обох підходів."
   ]
  },
  {
   "cell_type": "markdown",
   "id": "02247ac9-24a6-44ed-91e7-80a2a2c1950e",
   "metadata": {},
   "source": [
    "Імперативний підхід до програмування:"
   ]
  },
  {
   "cell_type": "code",
   "execution_count": 22,
   "id": "1489b427-48db-4cba-b217-85566885d396",
   "metadata": {},
   "outputs": [
    {
     "data": {
      "text/html": [
       "<table class=\"dataframe\">\n",
       "<caption>A data.frame: 4 × 12</caption>\n",
       "<thead>\n",
       "\t<tr><th></th><th scope=col>RowNumber</th><th scope=col>CustomerId</th><th scope=col>Surname</th><th scope=col>CreditScore</th><th scope=col>Geography</th><th scope=col>Gender</th><th scope=col>Age</th><th scope=col>Tenure</th><th scope=col>IsActiveMember</th><th scope=col>EstimatedSalary</th><th scope=col>Exited</th><th scope=col>NumOfProducts</th></tr>\n",
       "\t<tr><th></th><th scope=col>&lt;int&gt;</th><th scope=col>&lt;int&gt;</th><th scope=col>&lt;chr&gt;</th><th scope=col>&lt;int&gt;</th><th scope=col>&lt;chr&gt;</th><th scope=col>&lt;chr&gt;</th><th scope=col>&lt;int&gt;</th><th scope=col>&lt;int&gt;</th><th scope=col>&lt;int&gt;</th><th scope=col>&lt;dbl&gt;</th><th scope=col>&lt;int&gt;</th><th scope=col>&lt;dbl&gt;</th></tr>\n",
       "</thead>\n",
       "<tbody>\n",
       "\t<tr><th scope=row>1</th><td>1</td><td>15634602</td><td>Hargrave</td><td>619</td><td>France</td><td>Female</td><td>42</td><td>2</td><td>1</td><td>101348.88</td><td>1</td><td>1</td></tr>\n",
       "\t<tr><th scope=row>2</th><td>2</td><td>15647311</td><td>Hill    </td><td>608</td><td>Spain </td><td>Female</td><td>41</td><td>1</td><td>1</td><td>112542.58</td><td>0</td><td>1</td></tr>\n",
       "\t<tr><th scope=row>3</th><td>3</td><td>15619304</td><td>Onio    </td><td>502</td><td>France</td><td>Female</td><td>42</td><td>8</td><td>0</td><td>113931.57</td><td>1</td><td>3</td></tr>\n",
       "\t<tr><th scope=row>4</th><td>4</td><td>15701354</td><td>Boni    </td><td>699</td><td>France</td><td>Female</td><td>39</td><td>1</td><td>0</td><td> 93826.63</td><td>0</td><td>2</td></tr>\n",
       "</tbody>\n",
       "</table>\n"
      ],
      "text/latex": [
       "A data.frame: 4 × 12\n",
       "\\begin{tabular}{r|llllllllllll}\n",
       "  & RowNumber & CustomerId & Surname & CreditScore & Geography & Gender & Age & Tenure & IsActiveMember & EstimatedSalary & Exited & NumOfProducts\\\\\n",
       "  & <int> & <int> & <chr> & <int> & <chr> & <chr> & <int> & <int> & <int> & <dbl> & <int> & <dbl>\\\\\n",
       "\\hline\n",
       "\t1 & 1 & 15634602 & Hargrave & 619 & France & Female & 42 & 2 & 1 & 101348.88 & 1 & 1\\\\\n",
       "\t2 & 2 & 15647311 & Hill     & 608 & Spain  & Female & 41 & 1 & 1 & 112542.58 & 0 & 1\\\\\n",
       "\t3 & 3 & 15619304 & Onio     & 502 & France & Female & 42 & 8 & 0 & 113931.57 & 1 & 3\\\\\n",
       "\t4 & 4 & 15701354 & Boni     & 699 & France & Female & 39 & 1 & 0 &  93826.63 & 0 & 2\\\\\n",
       "\\end{tabular}\n"
      ],
      "text/markdown": [
       "\n",
       "A data.frame: 4 × 12\n",
       "\n",
       "| <!--/--> | RowNumber &lt;int&gt; | CustomerId &lt;int&gt; | Surname &lt;chr&gt; | CreditScore &lt;int&gt; | Geography &lt;chr&gt; | Gender &lt;chr&gt; | Age &lt;int&gt; | Tenure &lt;int&gt; | IsActiveMember &lt;int&gt; | EstimatedSalary &lt;dbl&gt; | Exited &lt;int&gt; | NumOfProducts &lt;dbl&gt; |\n",
       "|---|---|---|---|---|---|---|---|---|---|---|---|---|\n",
       "| 1 | 1 | 15634602 | Hargrave | 619 | France | Female | 42 | 2 | 1 | 101348.88 | 1 | 1 |\n",
       "| 2 | 2 | 15647311 | Hill     | 608 | Spain  | Female | 41 | 1 | 1 | 112542.58 | 0 | 1 |\n",
       "| 3 | 3 | 15619304 | Onio     | 502 | France | Female | 42 | 8 | 0 | 113931.57 | 1 | 3 |\n",
       "| 4 | 4 | 15701354 | Boni     | 699 | France | Female | 39 | 1 | 0 |  93826.63 | 0 | 2 |\n",
       "\n"
      ],
      "text/plain": [
       "  RowNumber CustomerId Surname  CreditScore Geography Gender Age Tenure\n",
       "1 1         15634602   Hargrave 619         France    Female 42  2     \n",
       "2 2         15647311   Hill     608         Spain     Female 41  1     \n",
       "3 3         15619304   Onio     502         France    Female 42  8     \n",
       "4 4         15701354   Boni     699         France    Female 39  1     \n",
       "  IsActiveMember EstimatedSalary Exited NumOfProducts\n",
       "1 1              101348.88       1      1            \n",
       "2 1              112542.58       0      1            \n",
       "3 0              113931.57       1      3            \n",
       "4 0               93826.63       0      2            "
      ]
     },
     "metadata": {},
     "output_type": "display_data"
    }
   ],
   "source": [
    "# Створюємо пусту змінну\n",
    "customers$NumOfProducts <- c(0)\n",
    "\n",
    "for(i in 1:nrow(customers))\n",
    "{\n",
    "  id <- customers$CustomerId[i]\n",
    "  prods <- subset(products, CustomerId == id)\n",
    "  customers$NumOfProducts[i] <- nrow(prods)\n",
    "}\n",
    "\n",
    "head(customers, 4)"
   ]
  },
  {
   "cell_type": "markdown",
   "id": "0515be8d-8ac1-4d6e-8183-db36dd360bc3",
   "metadata": {},
   "source": [
    "Декларативний приклад коду:"
   ]
  },
  {
   "cell_type": "code",
   "execution_count": 23,
   "id": "9f41a881-c8dc-4941-b837-2f7392679904",
   "metadata": {},
   "outputs": [
    {
     "name": "stderr",
     "output_type": "stream",
     "text": [
      "\n",
      "Attaching package: 'dplyr'\n",
      "\n",
      "\n",
      "The following objects are masked from 'package:stats':\n",
      "\n",
      "    filter, lag\n",
      "\n",
      "\n",
      "The following objects are masked from 'package:base':\n",
      "\n",
      "    intersect, setdiff, setequal, union\n",
      "\n",
      "\n"
     ]
    },
    {
     "data": {
      "text/html": [
       "<table class=\"dataframe\">\n",
       "<caption>A data.frame: 4 × 13</caption>\n",
       "<thead>\n",
       "\t<tr><th></th><th scope=col>RowNumber</th><th scope=col>CustomerId</th><th scope=col>Surname</th><th scope=col>CreditScore</th><th scope=col>Geography</th><th scope=col>Gender</th><th scope=col>Age</th><th scope=col>Tenure</th><th scope=col>IsActiveMember</th><th scope=col>EstimatedSalary</th><th scope=col>Exited</th><th scope=col>NumOfProducts.x</th><th scope=col>NumOfProducts.y</th></tr>\n",
       "\t<tr><th></th><th scope=col>&lt;int&gt;</th><th scope=col>&lt;int&gt;</th><th scope=col>&lt;chr&gt;</th><th scope=col>&lt;int&gt;</th><th scope=col>&lt;chr&gt;</th><th scope=col>&lt;chr&gt;</th><th scope=col>&lt;int&gt;</th><th scope=col>&lt;int&gt;</th><th scope=col>&lt;int&gt;</th><th scope=col>&lt;dbl&gt;</th><th scope=col>&lt;int&gt;</th><th scope=col>&lt;dbl&gt;</th><th scope=col>&lt;int&gt;</th></tr>\n",
       "</thead>\n",
       "<tbody>\n",
       "\t<tr><th scope=row>1</th><td>1</td><td>15634602</td><td>Hargrave</td><td>619</td><td>France</td><td>Female</td><td>42</td><td>2</td><td>1</td><td>101348.88</td><td>1</td><td>1</td><td>1</td></tr>\n",
       "\t<tr><th scope=row>2</th><td>2</td><td>15647311</td><td>Hill    </td><td>608</td><td>Spain </td><td>Female</td><td>41</td><td>1</td><td>1</td><td>112542.58</td><td>0</td><td>1</td><td>1</td></tr>\n",
       "\t<tr><th scope=row>3</th><td>3</td><td>15619304</td><td>Onio    </td><td>502</td><td>France</td><td>Female</td><td>42</td><td>8</td><td>0</td><td>113931.57</td><td>1</td><td>3</td><td>3</td></tr>\n",
       "\t<tr><th scope=row>4</th><td>4</td><td>15701354</td><td>Boni    </td><td>699</td><td>France</td><td>Female</td><td>39</td><td>1</td><td>0</td><td> 93826.63</td><td>0</td><td>2</td><td>2</td></tr>\n",
       "</tbody>\n",
       "</table>\n"
      ],
      "text/latex": [
       "A data.frame: 4 × 13\n",
       "\\begin{tabular}{r|lllllllllllll}\n",
       "  & RowNumber & CustomerId & Surname & CreditScore & Geography & Gender & Age & Tenure & IsActiveMember & EstimatedSalary & Exited & NumOfProducts.x & NumOfProducts.y\\\\\n",
       "  & <int> & <int> & <chr> & <int> & <chr> & <chr> & <int> & <int> & <int> & <dbl> & <int> & <dbl> & <int>\\\\\n",
       "\\hline\n",
       "\t1 & 1 & 15634602 & Hargrave & 619 & France & Female & 42 & 2 & 1 & 101348.88 & 1 & 1 & 1\\\\\n",
       "\t2 & 2 & 15647311 & Hill     & 608 & Spain  & Female & 41 & 1 & 1 & 112542.58 & 0 & 1 & 1\\\\\n",
       "\t3 & 3 & 15619304 & Onio     & 502 & France & Female & 42 & 8 & 0 & 113931.57 & 1 & 3 & 3\\\\\n",
       "\t4 & 4 & 15701354 & Boni     & 699 & France & Female & 39 & 1 & 0 &  93826.63 & 0 & 2 & 2\\\\\n",
       "\\end{tabular}\n"
      ],
      "text/markdown": [
       "\n",
       "A data.frame: 4 × 13\n",
       "\n",
       "| <!--/--> | RowNumber &lt;int&gt; | CustomerId &lt;int&gt; | Surname &lt;chr&gt; | CreditScore &lt;int&gt; | Geography &lt;chr&gt; | Gender &lt;chr&gt; | Age &lt;int&gt; | Tenure &lt;int&gt; | IsActiveMember &lt;int&gt; | EstimatedSalary &lt;dbl&gt; | Exited &lt;int&gt; | NumOfProducts.x &lt;dbl&gt; | NumOfProducts.y &lt;int&gt; |\n",
       "|---|---|---|---|---|---|---|---|---|---|---|---|---|---|\n",
       "| 1 | 1 | 15634602 | Hargrave | 619 | France | Female | 42 | 2 | 1 | 101348.88 | 1 | 1 | 1 |\n",
       "| 2 | 2 | 15647311 | Hill     | 608 | Spain  | Female | 41 | 1 | 1 | 112542.58 | 0 | 1 | 1 |\n",
       "| 3 | 3 | 15619304 | Onio     | 502 | France | Female | 42 | 8 | 0 | 113931.57 | 1 | 3 | 3 |\n",
       "| 4 | 4 | 15701354 | Boni     | 699 | France | Female | 39 | 1 | 0 |  93826.63 | 0 | 2 | 2 |\n",
       "\n"
      ],
      "text/plain": [
       "  RowNumber CustomerId Surname  CreditScore Geography Gender Age Tenure\n",
       "1 1         15634602   Hargrave 619         France    Female 42  2     \n",
       "2 2         15647311   Hill     608         Spain     Female 41  1     \n",
       "3 3         15619304   Onio     502         France    Female 42  8     \n",
       "4 4         15701354   Boni     699         France    Female 39  1     \n",
       "  IsActiveMember EstimatedSalary Exited NumOfProducts.x NumOfProducts.y\n",
       "1 1              101348.88       1      1               1              \n",
       "2 1              112542.58       0      1               1              \n",
       "3 0              113931.57       1      3               3              \n",
       "4 0               93826.63       0      2               2              "
      ]
     },
     "metadata": {},
     "output_type": "display_data"
    }
   ],
   "source": [
    "library(dplyr)\n",
    "\n",
    "customers_tmp <- customers |>\n",
    "    left_join(products |> \n",
    "              group_by(CustomerId) |> \n",
    "              mutate(NumOfProducts = n()) |>\n",
    "              select(CustomerId, NumOfProducts) |> distinct(), by = \"CustomerId\")\n",
    "\n",
    "head(customers_tmp, 4)\n",
    "\n",
    "# P.S. Це набагато швидше"
   ]
  },
  {
   "cell_type": "markdown",
   "id": "6bdba13d-4e3b-462f-9d71-007c7a166f70",
   "metadata": {},
   "source": [
    "---"
   ]
  },
  {
   "cell_type": "markdown",
   "id": "f73e9dbb-6daf-4160-9555-589e3316f44d",
   "metadata": {},
   "source": [
    "### Показник `HasCreditCard`"
   ]
  },
  {
   "cell_type": "code",
   "execution_count": 24,
   "id": "d1e7cc31-9315-4c8b-867b-dfc17b0e0d14",
   "metadata": {},
   "outputs": [
    {
     "data": {
      "text/html": [
       "<table class=\"dataframe\">\n",
       "<caption>A data.frame: 4 × 13</caption>\n",
       "<thead>\n",
       "\t<tr><th></th><th scope=col>RowNumber</th><th scope=col>CustomerId</th><th scope=col>Surname</th><th scope=col>CreditScore</th><th scope=col>Geography</th><th scope=col>Gender</th><th scope=col>Age</th><th scope=col>Tenure</th><th scope=col>IsActiveMember</th><th scope=col>EstimatedSalary</th><th scope=col>Exited</th><th scope=col>NumOfProducts</th><th scope=col>HasCreditCard</th></tr>\n",
       "\t<tr><th></th><th scope=col>&lt;int&gt;</th><th scope=col>&lt;int&gt;</th><th scope=col>&lt;chr&gt;</th><th scope=col>&lt;int&gt;</th><th scope=col>&lt;chr&gt;</th><th scope=col>&lt;chr&gt;</th><th scope=col>&lt;int&gt;</th><th scope=col>&lt;int&gt;</th><th scope=col>&lt;int&gt;</th><th scope=col>&lt;dbl&gt;</th><th scope=col>&lt;int&gt;</th><th scope=col>&lt;dbl&gt;</th><th scope=col>&lt;dbl&gt;</th></tr>\n",
       "</thead>\n",
       "<tbody>\n",
       "\t<tr><th scope=row>1</th><td>1</td><td>15634602</td><td>Hargrave</td><td>619</td><td>France</td><td>Female</td><td>42</td><td>2</td><td>1</td><td>101348.88</td><td>1</td><td>1</td><td>1</td></tr>\n",
       "\t<tr><th scope=row>2</th><td>2</td><td>15647311</td><td>Hill    </td><td>608</td><td>Spain </td><td>Female</td><td>41</td><td>1</td><td>1</td><td>112542.58</td><td>0</td><td>1</td><td>0</td></tr>\n",
       "\t<tr><th scope=row>3</th><td>3</td><td>15619304</td><td>Onio    </td><td>502</td><td>France</td><td>Female</td><td>42</td><td>8</td><td>0</td><td>113931.57</td><td>1</td><td>3</td><td>1</td></tr>\n",
       "\t<tr><th scope=row>4</th><td>4</td><td>15701354</td><td>Boni    </td><td>699</td><td>France</td><td>Female</td><td>39</td><td>1</td><td>0</td><td> 93826.63</td><td>0</td><td>2</td><td>0</td></tr>\n",
       "</tbody>\n",
       "</table>\n"
      ],
      "text/latex": [
       "A data.frame: 4 × 13\n",
       "\\begin{tabular}{r|lllllllllllll}\n",
       "  & RowNumber & CustomerId & Surname & CreditScore & Geography & Gender & Age & Tenure & IsActiveMember & EstimatedSalary & Exited & NumOfProducts & HasCreditCard\\\\\n",
       "  & <int> & <int> & <chr> & <int> & <chr> & <chr> & <int> & <int> & <int> & <dbl> & <int> & <dbl> & <dbl>\\\\\n",
       "\\hline\n",
       "\t1 & 1 & 15634602 & Hargrave & 619 & France & Female & 42 & 2 & 1 & 101348.88 & 1 & 1 & 1\\\\\n",
       "\t2 & 2 & 15647311 & Hill     & 608 & Spain  & Female & 41 & 1 & 1 & 112542.58 & 0 & 1 & 0\\\\\n",
       "\t3 & 3 & 15619304 & Onio     & 502 & France & Female & 42 & 8 & 0 & 113931.57 & 1 & 3 & 1\\\\\n",
       "\t4 & 4 & 15701354 & Boni     & 699 & France & Female & 39 & 1 & 0 &  93826.63 & 0 & 2 & 0\\\\\n",
       "\\end{tabular}\n"
      ],
      "text/markdown": [
       "\n",
       "A data.frame: 4 × 13\n",
       "\n",
       "| <!--/--> | RowNumber &lt;int&gt; | CustomerId &lt;int&gt; | Surname &lt;chr&gt; | CreditScore &lt;int&gt; | Geography &lt;chr&gt; | Gender &lt;chr&gt; | Age &lt;int&gt; | Tenure &lt;int&gt; | IsActiveMember &lt;int&gt; | EstimatedSalary &lt;dbl&gt; | Exited &lt;int&gt; | NumOfProducts &lt;dbl&gt; | HasCreditCard &lt;dbl&gt; |\n",
       "|---|---|---|---|---|---|---|---|---|---|---|---|---|---|\n",
       "| 1 | 1 | 15634602 | Hargrave | 619 | France | Female | 42 | 2 | 1 | 101348.88 | 1 | 1 | 1 |\n",
       "| 2 | 2 | 15647311 | Hill     | 608 | Spain  | Female | 41 | 1 | 1 | 112542.58 | 0 | 1 | 0 |\n",
       "| 3 | 3 | 15619304 | Onio     | 502 | France | Female | 42 | 8 | 0 | 113931.57 | 1 | 3 | 1 |\n",
       "| 4 | 4 | 15701354 | Boni     | 699 | France | Female | 39 | 1 | 0 |  93826.63 | 0 | 2 | 0 |\n",
       "\n"
      ],
      "text/plain": [
       "  RowNumber CustomerId Surname  CreditScore Geography Gender Age Tenure\n",
       "1 1         15634602   Hargrave 619         France    Female 42  2     \n",
       "2 2         15647311   Hill     608         Spain     Female 41  1     \n",
       "3 3         15619304   Onio     502         France    Female 42  8     \n",
       "4 4         15701354   Boni     699         France    Female 39  1     \n",
       "  IsActiveMember EstimatedSalary Exited NumOfProducts HasCreditCard\n",
       "1 1              101348.88       1      1             1            \n",
       "2 1              112542.58       0      1             0            \n",
       "3 0              113931.57       1      3             1            \n",
       "4 0               93826.63       0      2             0            "
      ]
     },
     "metadata": {},
     "output_type": "display_data"
    }
   ],
   "source": [
    "customers <- customers |>\n",
    "    left_join(cards |> \n",
    "              group_by(CustomerId) |> \n",
    "              summarise(HasCreditCard = ifelse(sum(IsCreditCard) == 0, 0, 1)) |>\n",
    "              select(CustomerId, HasCreditCard) |> distinct(), by = \"CustomerId\")\n",
    "\n",
    "head(customers, 4)"
   ]
  },
  {
   "cell_type": "markdown",
   "id": "8446c1c2-5143-4b9f-a81a-28ada7d74e53",
   "metadata": {},
   "source": [
    "---"
   ]
  },
  {
   "cell_type": "markdown",
   "id": "82eb8f1d-d834-4719-b878-4c4dcc8e7376",
   "metadata": {},
   "source": [
    "### Показник `Balance`"
   ]
  },
  {
   "cell_type": "code",
   "execution_count": 25,
   "id": "7e1043dc-3cf2-4e95-a583-fe76dc333860",
   "metadata": {},
   "outputs": [
    {
     "data": {
      "text/html": [
       "<table class=\"dataframe\">\n",
       "<caption>A data.frame: 4 × 14</caption>\n",
       "<thead>\n",
       "\t<tr><th></th><th scope=col>RowNumber</th><th scope=col>CustomerId</th><th scope=col>Surname</th><th scope=col>CreditScore</th><th scope=col>Geography</th><th scope=col>Gender</th><th scope=col>Age</th><th scope=col>Tenure</th><th scope=col>IsActiveMember</th><th scope=col>EstimatedSalary</th><th scope=col>Exited</th><th scope=col>NumOfProducts</th><th scope=col>HasCreditCard</th><th scope=col>Balance</th></tr>\n",
       "\t<tr><th></th><th scope=col>&lt;int&gt;</th><th scope=col>&lt;int&gt;</th><th scope=col>&lt;chr&gt;</th><th scope=col>&lt;int&gt;</th><th scope=col>&lt;chr&gt;</th><th scope=col>&lt;chr&gt;</th><th scope=col>&lt;int&gt;</th><th scope=col>&lt;int&gt;</th><th scope=col>&lt;int&gt;</th><th scope=col>&lt;dbl&gt;</th><th scope=col>&lt;int&gt;</th><th scope=col>&lt;dbl&gt;</th><th scope=col>&lt;dbl&gt;</th><th scope=col>&lt;dbl&gt;</th></tr>\n",
       "</thead>\n",
       "<tbody>\n",
       "\t<tr><th scope=row>1</th><td>1</td><td>15634602</td><td>Hargrave</td><td>619</td><td>France</td><td>Female</td><td>42</td><td>2</td><td>1</td><td>101348.88</td><td>1</td><td>1</td><td>1</td><td>     5</td></tr>\n",
       "\t<tr><th scope=row>2</th><td>2</td><td>15647311</td><td>Hill    </td><td>608</td><td>Spain </td><td>Female</td><td>41</td><td>1</td><td>1</td><td>112542.58</td><td>0</td><td>1</td><td>0</td><td> 83835</td></tr>\n",
       "\t<tr><th scope=row>3</th><td>3</td><td>15619304</td><td>Onio    </td><td>502</td><td>France</td><td>Female</td><td>42</td><td>8</td><td>0</td><td>113931.57</td><td>1</td><td>3</td><td>1</td><td>159706</td></tr>\n",
       "\t<tr><th scope=row>4</th><td>4</td><td>15701354</td><td>Boni    </td><td>699</td><td>France</td><td>Female</td><td>39</td><td>1</td><td>0</td><td> 93826.63</td><td>0</td><td>2</td><td>0</td><td>    47</td></tr>\n",
       "</tbody>\n",
       "</table>\n"
      ],
      "text/latex": [
       "A data.frame: 4 × 14\n",
       "\\begin{tabular}{r|llllllllllllll}\n",
       "  & RowNumber & CustomerId & Surname & CreditScore & Geography & Gender & Age & Tenure & IsActiveMember & EstimatedSalary & Exited & NumOfProducts & HasCreditCard & Balance\\\\\n",
       "  & <int> & <int> & <chr> & <int> & <chr> & <chr> & <int> & <int> & <int> & <dbl> & <int> & <dbl> & <dbl> & <dbl>\\\\\n",
       "\\hline\n",
       "\t1 & 1 & 15634602 & Hargrave & 619 & France & Female & 42 & 2 & 1 & 101348.88 & 1 & 1 & 1 &      5\\\\\n",
       "\t2 & 2 & 15647311 & Hill     & 608 & Spain  & Female & 41 & 1 & 1 & 112542.58 & 0 & 1 & 0 &  83835\\\\\n",
       "\t3 & 3 & 15619304 & Onio     & 502 & France & Female & 42 & 8 & 0 & 113931.57 & 1 & 3 & 1 & 159706\\\\\n",
       "\t4 & 4 & 15701354 & Boni     & 699 & France & Female & 39 & 1 & 0 &  93826.63 & 0 & 2 & 0 &     47\\\\\n",
       "\\end{tabular}\n"
      ],
      "text/markdown": [
       "\n",
       "A data.frame: 4 × 14\n",
       "\n",
       "| <!--/--> | RowNumber &lt;int&gt; | CustomerId &lt;int&gt; | Surname &lt;chr&gt; | CreditScore &lt;int&gt; | Geography &lt;chr&gt; | Gender &lt;chr&gt; | Age &lt;int&gt; | Tenure &lt;int&gt; | IsActiveMember &lt;int&gt; | EstimatedSalary &lt;dbl&gt; | Exited &lt;int&gt; | NumOfProducts &lt;dbl&gt; | HasCreditCard &lt;dbl&gt; | Balance &lt;dbl&gt; |\n",
       "|---|---|---|---|---|---|---|---|---|---|---|---|---|---|---|\n",
       "| 1 | 1 | 15634602 | Hargrave | 619 | France | Female | 42 | 2 | 1 | 101348.88 | 1 | 1 | 1 |      5 |\n",
       "| 2 | 2 | 15647311 | Hill     | 608 | Spain  | Female | 41 | 1 | 1 | 112542.58 | 0 | 1 | 0 |  83835 |\n",
       "| 3 | 3 | 15619304 | Onio     | 502 | France | Female | 42 | 8 | 0 | 113931.57 | 1 | 3 | 1 | 159706 |\n",
       "| 4 | 4 | 15701354 | Boni     | 699 | France | Female | 39 | 1 | 0 |  93826.63 | 0 | 2 | 0 |     47 |\n",
       "\n"
      ],
      "text/plain": [
       "  RowNumber CustomerId Surname  CreditScore Geography Gender Age Tenure\n",
       "1 1         15634602   Hargrave 619         France    Female 42  2     \n",
       "2 2         15647311   Hill     608         Spain     Female 41  1     \n",
       "3 3         15619304   Onio     502         France    Female 42  8     \n",
       "4 4         15701354   Boni     699         France    Female 39  1     \n",
       "  IsActiveMember EstimatedSalary Exited NumOfProducts HasCreditCard Balance\n",
       "1 1              101348.88       1      1             1                  5 \n",
       "2 1              112542.58       0      1             0              83835 \n",
       "3 0              113931.57       1      3             1             159706 \n",
       "4 0               93826.63       0      2             0                 47 "
      ]
     },
     "metadata": {},
     "output_type": "display_data"
    }
   ],
   "source": [
    "customers <- customers |>\n",
    "    left_join(cards |> \n",
    "              group_by(CustomerId) |> \n",
    "              mutate(Balance = round(sum(Balance))) |>\n",
    "              select(CustomerId, Balance) |> distinct(), by = \"CustomerId\")\n",
    "\n",
    "head(customers, 4)"
   ]
  },
  {
   "cell_type": "markdown",
   "id": "bbee059e-b41c-4084-aca4-6d8235dc898a",
   "metadata": {},
   "source": [
    "Звичано код можна поєднати в 1 запит."
   ]
  },
  {
   "cell_type": "markdown",
   "id": "92164f63-1ebb-42f9-9e03-7504b21a748d",
   "metadata": {},
   "source": [
    "### Нормалізація даних"
   ]
  },
  {
   "cell_type": "markdown",
   "id": "996d759b-87c9-4089-ae50-936b7a23f25f",
   "metadata": {},
   "source": [
    "Видалимо зайві покзники, що заважатимуть будувати моделі:"
   ]
  },
  {
   "cell_type": "code",
   "execution_count": 26,
   "id": "ae47c632-3c06-40ad-92f1-b127aa51b666",
   "metadata": {},
   "outputs": [],
   "source": [
    "customers <- customers |>\n",
    "    dplyr::select(-c(RowNumber, CustomerId, Surname))"
   ]
  },
  {
   "cell_type": "markdown",
   "id": "0a4abff8-5005-4271-aa1b-acc674c1f353",
   "metadata": {},
   "source": [
    "Варто звернути увагу, що інженереія нових фіч завершена не до кінця і у нас ще присутні параметри, що мають нечислові значення `Geography` + `Gender`. Спробуйте замінити їх, наприклад, на `dummy`-змінні або використати `бінінг`."
   ]
  },
  {
   "cell_type": "markdown",
   "id": "14085e5e-b7e8-4001-aae8-4721fad3aa5d",
   "metadata": {},
   "source": [
    "Для скорочення часу на вивчення матеріали ми скористаємося звичайним приведенням даних до числового типу:"
   ]
  },
  {
   "cell_type": "code",
   "execution_count": 27,
   "id": "c7d02ccf-cd7c-4f1a-bec2-413f5e3e95d0",
   "metadata": {},
   "outputs": [],
   "source": [
    "customers$Geography <- as.numeric(as.factor(customers$Geography))\n",
    "customers$Gender <- as.numeric(as.factor(customers$Gender))"
   ]
  },
  {
   "cell_type": "code",
   "execution_count": 28,
   "id": "f801e8db-29e2-4d53-b7d3-96f05d6a9689",
   "metadata": {},
   "outputs": [
    {
     "name": "stdout",
     "output_type": "stream",
     "text": [
      "'data.frame':\t10000 obs. of  11 variables:\n",
      " $ CreditScore    : int  619 608 502 699 850 645 822 376 501 684 ...\n",
      " $ Geography      : num  1 3 1 1 3 3 1 2 1 1 ...\n",
      " $ Gender         : num  1 1 1 1 1 2 2 1 2 2 ...\n",
      " $ Age            : int  42 41 42 39 43 44 50 29 44 27 ...\n",
      " $ Tenure         : int  2 1 8 1 2 8 7 4 4 2 ...\n",
      " $ IsActiveMember : int  1 1 0 0 1 0 1 0 1 1 ...\n",
      " $ EstimatedSalary: num  101349 112543 113932 93827 79084 ...\n",
      " $ Exited         : int  1 0 1 0 0 1 0 1 0 0 ...\n",
      " $ NumOfProducts  : num  1 1 3 2 1 2 2 4 2 1 ...\n",
      " $ HasCreditCard  : num  1 0 1 0 1 1 1 1 0 1 ...\n",
      " $ Balance        : num  5 83835 159706 47 125571 ...\n"
     ]
    }
   ],
   "source": [
    "str(customers)"
   ]
  },
  {
   "cell_type": "markdown",
   "id": "d5709e08-b0c5-4f52-a5b1-281d03a16611",
   "metadata": {},
   "source": [
    "Використовуючи функцію `scale()` нормалізуємо дані:"
   ]
  },
  {
   "cell_type": "code",
   "execution_count": 29,
   "id": "7a82f7a9-3a6a-4775-be59-b1aa8cd7a968",
   "metadata": {},
   "outputs": [
    {
     "data": {
      "text/html": [
       "<table class=\"dataframe\">\n",
       "<caption>A data.frame: 6 × 11</caption>\n",
       "<thead>\n",
       "\t<tr><th></th><th scope=col>CreditScore</th><th scope=col>Geography</th><th scope=col>Gender</th><th scope=col>Age</th><th scope=col>Tenure</th><th scope=col>IsActiveMember</th><th scope=col>EstimatedSalary</th><th scope=col>NumOfProducts</th><th scope=col>HasCreditCard</th><th scope=col>Balance</th><th scope=col>Exited</th></tr>\n",
       "\t<tr><th></th><th scope=col>&lt;dbl&gt;</th><th scope=col>&lt;dbl&gt;</th><th scope=col>&lt;dbl&gt;</th><th scope=col>&lt;dbl&gt;</th><th scope=col>&lt;dbl&gt;</th><th scope=col>&lt;dbl&gt;</th><th scope=col>&lt;dbl&gt;</th><th scope=col>&lt;dbl&gt;</th><th scope=col>&lt;dbl&gt;</th><th scope=col>&lt;dbl&gt;</th><th scope=col>&lt;int&gt;</th></tr>\n",
       "</thead>\n",
       "<tbody>\n",
       "\t<tr><th scope=row>1</th><td>-0.32620511</td><td>-0.9018411</td><td>-1.0959327</td><td>0.293502747</td><td>-1.041708</td><td> 0.970194</td><td> 0.0218854</td><td>-0.5420116</td><td> 0.6521559</td><td>-1.2240103</td><td>1</td></tr>\n",
       "\t<tr><th scope=row>2</th><td>-0.44001395</td><td> 1.5149916</td><td>-1.0959327</td><td>0.198153924</td><td>-1.387468</td><td> 0.970194</td><td> 0.2165229</td><td>-0.5420116</td><td>-1.5332062</td><td> 0.1179507</td><td>0</td></tr>\n",
       "\t<tr><th scope=row>3</th><td>-1.53671734</td><td>-0.9018411</td><td>-1.0959327</td><td>0.293502747</td><td> 1.032856</td><td>-1.030619</td><td> 0.2406749</td><td> 2.2648841</td><td> 0.6521559</td><td> 1.3325030</td><td>1</td></tr>\n",
       "\t<tr><th scope=row>4</th><td> 0.50149556</td><td>-0.9018411</td><td>-1.0959327</td><td>0.007456278</td><td>-1.387468</td><td>-1.030619</td><td>-0.1089125</td><td> 0.8614363</td><td>-1.5332062</td><td>-1.2233380</td><td>0</td></tr>\n",
       "\t<tr><th scope=row>5</th><td> 2.06378057</td><td> 1.5149916</td><td>-1.0959327</td><td>0.388851570</td><td>-1.041708</td><td> 0.970194</td><td>-0.3652575</td><td>-0.5420116</td><td> 0.6521559</td><td> 0.7860657</td><td>0</td></tr>\n",
       "\t<tr><th scope=row>6</th><td>-0.05720239</td><td> 1.5149916</td><td> 0.9123735</td><td>0.484200392</td><td> 1.032856</td><td>-1.030619</td><td> 0.8636071</td><td> 0.8614363</td><td> 0.6521559</td><td> 0.5974260</td><td>1</td></tr>\n",
       "</tbody>\n",
       "</table>\n"
      ],
      "text/latex": [
       "A data.frame: 6 × 11\n",
       "\\begin{tabular}{r|lllllllllll}\n",
       "  & CreditScore & Geography & Gender & Age & Tenure & IsActiveMember & EstimatedSalary & NumOfProducts & HasCreditCard & Balance & Exited\\\\\n",
       "  & <dbl> & <dbl> & <dbl> & <dbl> & <dbl> & <dbl> & <dbl> & <dbl> & <dbl> & <dbl> & <int>\\\\\n",
       "\\hline\n",
       "\t1 & -0.32620511 & -0.9018411 & -1.0959327 & 0.293502747 & -1.041708 &  0.970194 &  0.0218854 & -0.5420116 &  0.6521559 & -1.2240103 & 1\\\\\n",
       "\t2 & -0.44001395 &  1.5149916 & -1.0959327 & 0.198153924 & -1.387468 &  0.970194 &  0.2165229 & -0.5420116 & -1.5332062 &  0.1179507 & 0\\\\\n",
       "\t3 & -1.53671734 & -0.9018411 & -1.0959327 & 0.293502747 &  1.032856 & -1.030619 &  0.2406749 &  2.2648841 &  0.6521559 &  1.3325030 & 1\\\\\n",
       "\t4 &  0.50149556 & -0.9018411 & -1.0959327 & 0.007456278 & -1.387468 & -1.030619 & -0.1089125 &  0.8614363 & -1.5332062 & -1.2233380 & 0\\\\\n",
       "\t5 &  2.06378057 &  1.5149916 & -1.0959327 & 0.388851570 & -1.041708 &  0.970194 & -0.3652575 & -0.5420116 &  0.6521559 &  0.7860657 & 0\\\\\n",
       "\t6 & -0.05720239 &  1.5149916 &  0.9123735 & 0.484200392 &  1.032856 & -1.030619 &  0.8636071 &  0.8614363 &  0.6521559 &  0.5974260 & 1\\\\\n",
       "\\end{tabular}\n"
      ],
      "text/markdown": [
       "\n",
       "A data.frame: 6 × 11\n",
       "\n",
       "| <!--/--> | CreditScore &lt;dbl&gt; | Geography &lt;dbl&gt; | Gender &lt;dbl&gt; | Age &lt;dbl&gt; | Tenure &lt;dbl&gt; | IsActiveMember &lt;dbl&gt; | EstimatedSalary &lt;dbl&gt; | NumOfProducts &lt;dbl&gt; | HasCreditCard &lt;dbl&gt; | Balance &lt;dbl&gt; | Exited &lt;int&gt; |\n",
       "|---|---|---|---|---|---|---|---|---|---|---|---|\n",
       "| 1 | -0.32620511 | -0.9018411 | -1.0959327 | 0.293502747 | -1.041708 |  0.970194 |  0.0218854 | -0.5420116 |  0.6521559 | -1.2240103 | 1 |\n",
       "| 2 | -0.44001395 |  1.5149916 | -1.0959327 | 0.198153924 | -1.387468 |  0.970194 |  0.2165229 | -0.5420116 | -1.5332062 |  0.1179507 | 0 |\n",
       "| 3 | -1.53671734 | -0.9018411 | -1.0959327 | 0.293502747 |  1.032856 | -1.030619 |  0.2406749 |  2.2648841 |  0.6521559 |  1.3325030 | 1 |\n",
       "| 4 |  0.50149556 | -0.9018411 | -1.0959327 | 0.007456278 | -1.387468 | -1.030619 | -0.1089125 |  0.8614363 | -1.5332062 | -1.2233380 | 0 |\n",
       "| 5 |  2.06378057 |  1.5149916 | -1.0959327 | 0.388851570 | -1.041708 |  0.970194 | -0.3652575 | -0.5420116 |  0.6521559 |  0.7860657 | 0 |\n",
       "| 6 | -0.05720239 |  1.5149916 |  0.9123735 | 0.484200392 |  1.032856 | -1.030619 |  0.8636071 |  0.8614363 |  0.6521559 |  0.5974260 | 1 |\n",
       "\n"
      ],
      "text/plain": [
       "  CreditScore Geography  Gender     Age         Tenure    IsActiveMember\n",
       "1 -0.32620511 -0.9018411 -1.0959327 0.293502747 -1.041708  0.970194     \n",
       "2 -0.44001395  1.5149916 -1.0959327 0.198153924 -1.387468  0.970194     \n",
       "3 -1.53671734 -0.9018411 -1.0959327 0.293502747  1.032856 -1.030619     \n",
       "4  0.50149556 -0.9018411 -1.0959327 0.007456278 -1.387468 -1.030619     \n",
       "5  2.06378057  1.5149916 -1.0959327 0.388851570 -1.041708  0.970194     \n",
       "6 -0.05720239  1.5149916  0.9123735 0.484200392  1.032856 -1.030619     \n",
       "  EstimatedSalary NumOfProducts HasCreditCard Balance    Exited\n",
       "1  0.0218854      -0.5420116     0.6521559    -1.2240103 1     \n",
       "2  0.2165229      -0.5420116    -1.5332062     0.1179507 0     \n",
       "3  0.2406749       2.2648841     0.6521559     1.3325030 1     \n",
       "4 -0.1089125       0.8614363    -1.5332062    -1.2233380 0     \n",
       "5 -0.3652575      -0.5420116     0.6521559     0.7860657 0     \n",
       "6  0.8636071       0.8614363     0.6521559     0.5974260 1     "
      ]
     },
     "metadata": {},
     "output_type": "display_data"
    }
   ],
   "source": [
    "scaled <- scale(customers[-8], center = TRUE)\n",
    "scaled <- cbind(scaled, customers[8])\n",
    "head(scaled,)"
   ]
  },
  {
   "cell_type": "markdown",
   "id": "b706d607-a17e-46d2-acc0-1dceeebc1517",
   "metadata": {},
   "source": [
    "---"
   ]
  },
  {
   "cell_type": "markdown",
   "id": "fb9ce66e-cdf1-4b48-837b-487629e7b9ce",
   "metadata": {},
   "source": [
    "## Формування вибірок"
   ]
  },
  {
   "cell_type": "markdown",
   "id": "4eef4efe-05ca-4520-9311-bdb654cfaa7f",
   "metadata": {},
   "source": [
    "Розділимо вибірку на тестову та тренувальну за допомогою пакету `caTools` та функції `sample.split()`:"
   ]
  },
  {
   "cell_type": "code",
   "execution_count": 30,
   "id": "11412809-8037-4785-85b4-662fd7d5153a",
   "metadata": {},
   "outputs": [],
   "source": [
    "library(caTools)\n",
    "set.seed(2022)\n",
    "split <- sample.split(scaled$Exited, SplitRatio = 0.7)\n",
    "train_data <- subset(scaled, split == TRUE)\n",
    "test_data <- subset(scaled, split == FALSE)"
   ]
  },
  {
   "cell_type": "markdown",
   "id": "9ecd5510-77e8-4aca-bdc2-12b677c7363c",
   "metadata": {},
   "source": [
    "---"
   ]
  },
  {
   "cell_type": "markdown",
   "id": "0504975d-1984-40e0-9072-7b812e899fb9",
   "metadata": {},
   "source": [
    "## Побудова Deep Learning моделі"
   ]
  },
  {
   "cell_type": "markdown",
   "id": "00996172-89d2-4d76-8d31-d9f13d5d0eb7",
   "metadata": {},
   "source": [
    "Викосритаємо можливості пакету `h2o` для побудови моделі на основі `deep learning`. Підключимо пакет."
   ]
  },
  {
   "cell_type": "code",
   "execution_count": 31,
   "id": "a6e4cfb0-40c2-446f-8976-79f4f2db2e4e",
   "metadata": {},
   "outputs": [],
   "source": [
    "# install.packages(\"h2o\")"
   ]
  },
  {
   "cell_type": "code",
   "execution_count": 32,
   "id": "98f0fbf4-7259-40c1-9d31-585f548d8f0a",
   "metadata": {},
   "outputs": [
    {
     "name": "stderr",
     "output_type": "stream",
     "text": [
      "\n",
      "----------------------------------------------------------------------\n",
      "\n",
      "Your next step is to start H2O:\n",
      "    > h2o.init()\n",
      "\n",
      "For H2O package documentation, ask for help:\n",
      "    > ??h2o\n",
      "\n",
      "After starting H2O, you can use the Web UI at http://localhost:54321\n",
      "For more information visit https://docs.h2o.ai\n",
      "\n",
      "----------------------------------------------------------------------\n",
      "\n",
      "\n",
      "\n",
      "Attaching package: 'h2o'\n",
      "\n",
      "\n",
      "The following objects are masked from 'package:stats':\n",
      "\n",
      "    cor, sd, var\n",
      "\n",
      "\n",
      "The following objects are masked from 'package:base':\n",
      "\n",
      "    %*%, %in%, &&, ||, apply, as.factor, as.numeric, colnames,\n",
      "    colnames<-, ifelse, is.character, is.factor, is.numeric, log,\n",
      "    log10, log1p, log2, round, signif, trunc\n",
      "\n",
      "\n"
     ]
    }
   ],
   "source": [
    "library(h2o)"
   ]
  },
  {
   "cell_type": "markdown",
   "id": "ced11961-86c0-4a4b-80bb-c4d818eb97ae",
   "metadata": {},
   "source": [
    ":::{.callout-warning}\n",
    "\n",
    "Увага! Для запуску пакету потрібна віртуальна машина `Java` на ПК (`JVM`). Завантажити актуальну версію `Java` можна з сайту <https://www.java.com/en/download/>.\n",
    "\n",
    ":::"
   ]
  },
  {
   "cell_type": "markdown",
   "id": "450d3b38-74a9-4635-92f7-d4a891930418",
   "metadata": {},
   "source": [
    "Запустимо двигун `h2o`:"
   ]
  },
  {
   "cell_type": "code",
   "execution_count": 38,
   "id": "01c19591-6615-460d-85f7-7ebe37a2408e",
   "metadata": {},
   "outputs": [
    {
     "name": "stdout",
     "output_type": "stream",
     "text": [
      "\n",
      "H2O is not running yet, starting it now...\n",
      "<simpleError in system2(command, \"-version\", stdout = TRUE, stderr = TRUE): '\"C:\\Program Files\\Android\\jdk\\jdk-8.0.302.8-hotspot\\jdk8u302-b08\\bin\\java.exe\"' not found>\n"
     ]
    },
    {
     "ename": "ERROR",
     "evalue": "Error in value[[3L]](cond): You have a 32-bit version of Java. H2O works best with 64-bit Java.\nPlease download the latest Java SE JDK from the following URL:\nhttps://www.oracle.com/technetwork/java/javase/downloads/index.html\n",
     "output_type": "error",
     "traceback": [
      "Error in value[[3L]](cond): You have a 32-bit version of Java. H2O works best with 64-bit Java.\nPlease download the latest Java SE JDK from the following URL:\nhttps://www.oracle.com/technetwork/java/javase/downloads/index.html\nTraceback:\n",
      "1. h2o.init(nthreads = -1)",
      "2. .h2o.startJar(ip = ip, port = port, name = name, nthreads = nthreads, \n .     max_memory = max_mem_size, min_memory = min_mem_size, enable_assertions = enable_assertions, \n .     forceDL = forceDL, license = license, extra_classpath = extra_classpath, \n .     ice_root = ice_root, stdout = stdout, stderr = stderr, log_dir = log_dir, \n .     log_level = log_level, context_path = context_path, jvm_custom_args = jvm_custom_args, \n .     bind_to_localhost = bind_to_localhost)",
      "3. tryCatch({\n .     system2(command, \"-version\", stdout = TRUE, stderr = TRUE)\n . }, error = function(err) {\n .     print(err)\n .     stop(\"You have a 32-bit version of Java. H2O works best with 64-bit Java.\\n\", \n .         \"Please download the latest Java SE JDK from the following URL:\\n\", \n .         \"https://www.oracle.com/technetwork/java/javase/downloads/index.html\")\n . })",
      "4. tryCatchList(expr, classes, parentenv, handlers)",
      "5. tryCatchOne(expr, names, parentenv, handlers[[1L]])",
      "6. value[[3L]](cond)",
      "7. stop(\"You have a 32-bit version of Java. H2O works best with 64-bit Java.\\n\", \n .     \"Please download the latest Java SE JDK from the following URL:\\n\", \n .     \"https://www.oracle.com/technetwork/java/javase/downloads/index.html\")"
     ]
    }
   ],
   "source": [
    "h2o.init(nthreads = -1)"
   ]
  }
 ],
 "metadata": {
  "kernelspec": {
   "display_name": "R",
   "language": "R",
   "name": "ir"
  },
  "language_info": {
   "codemirror_mode": "r",
   "file_extension": ".r",
   "mimetype": "text/x-r-source",
   "name": "R",
   "pygments_lexer": "r",
   "version": "4.1.3"
  }
 },
 "nbformat": 4,
 "nbformat_minor": 5
}
